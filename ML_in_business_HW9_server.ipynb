{
 "cells": [
  {
   "cell_type": "markdown",
   "id": "11108255",
   "metadata": {},
   "source": [
    "## Машинное обучение в бизнесе\n",
    "### Урок 9. Интеграция. Итоговый проект\n",
    "\n",
    "Реализация REST API на базе Flask (пример - https://github.com/fimochka-sudo/GB_docker_flask_example)\n",
    "\n",
    "1. Выбрать датасет, сделать pipeline (преобразования и модель) для удобного вызова из кода сервиса и сохранить его на диск.\n",
    "2. Выполнить разработку представляется целесообразным в PyCharm.\n",
    "3. Для выполнения проекта потребуется файл requirements.txt с пакетами; за основу можно взять аналогичный файл из проекта по ссылке (см. выше); установку перечисленных в нём пакетов можно выполнить из терминала в PyCharm по команде pip install -r requirements.txt (находясь при этом в корне проекта).\n",
    "4. Итоговый проект должен содержать в корневом каталоге:\n",
    "   - каталог app/models/ (предобученная модель-пайплайн либо код обучения модели-пайплайна);\n",
    "   - файл app/run_server.py (основной код flask-приложения);\n",
    "   - файл requirements.txt (список использованных пакетов);\n",
    "   - README.md (описание проекта, данных к нему, процедуры запуска и т.п.);\n",
    "   - файл Dockerfile;\n",
    "   - файл docker-entrypoint.sh.\n",
    "5. Проект должен быть размещён в репозитории на GitHub (пример работы с репозиторием - https://guides.github.com/activities/hello-world/);\n",
    "6. (<b>Опционально</b>): front-end сервис, который умеет принимать от пользователя введеные данные и использовать API проекта.\n",
    "\n",
    "**Полезные ссылки:**\n",
    "1. датасеты (для полета мысли): https://www.kaggle.com/datasets\n",
    "2. конкурс Сбербанка по недвижимости с примерами ноутбуков, реализующих разные подходы (можно этот набор данных также взять и обучить модель предсказывать стоимость жилья - неплохой сервис может получиться) - https://www.kaggle.com/c/sberbank-russian-housing-market/data\n",
    "3. минималистичный пример связки keras/flask для определения класса картинки - https://blog.keras.io/building-a-simple-keras-deep-learning-rest-api.html\n",
    "4. неплохой пример связки docker/flask (помимо разобранного на занятии) - https://cloud.croc.ru/blog/byt-v-teme/flask-prilozheniya-v-docker/\n",
    "5. https://www.digitalocean.com/community/tutorials/how-to-build-and-deploy-a-flask-application-using-docker-on-ubuntu-18-04"
   ]
  },
  {
   "cell_type": "markdown",
   "id": "4d53ad52",
   "metadata": {},
   "source": [
    "### Также допускается стандартная версия реализации REST API на базе Flask в Google Collab или Jupyter Notebook\n",
    "\n",
    "1. Выбрать датасет, сделать pipeline (преобразования и модель) для удобного вызова из кода сервиса и сохранить его на диск.\n",
    "2. Реализовать ноутбук с сервером\n",
    "3. Реализовать ноутбук с клиентом"
   ]
  },
  {
   "cell_type": "markdown",
   "id": "b972fb42",
   "metadata": {},
   "source": [
    "### 1. Создание, обучение и сохранение модели с обучающей и тестовой выборками\n",
    "Dataset и Pipeline с сохранением на диске в расчёте на последующий вызов из кода сервиса"
   ]
  },
  {
   "cell_type": "code",
   "execution_count": 1,
   "id": "1c446dec",
   "metadata": {},
   "outputs": [],
   "source": [
    "# Dataset\n",
    "import pandas as pd\n",
    "from sklearn.model_selection import train_test_split\n",
    "# Pipeline\n",
    "from sklearn.base import BaseEstimator, TransformerMixin\n",
    "from sklearn.pipeline import Pipeline, FeatureUnion\n",
    "from sklearn.linear_model import LogisticRegression\n",
    "from sklearn.metrics import precision_score, recall_score\n",
    "from sklearn.metrics import confusion_matrix, accuracy_score, classification_report\n",
    "from sklearn.metrics import roc_auc_score, roc_curve, precision_recall_curve\n",
    "from sklearn.metrics import f1_score\n",
    "import dill\n",
    "# Data normalizing\n",
    "from sklearn.preprocessing import StandardScaler\n",
    "# Imputer\n",
    "from sklearn.impute import SimpleImputer\n",
    "# Working with a text\n",
    "from sklearn.feature_extraction.text import TfidfVectorizer\n",
    "# Auxiliary\n",
    "import numpy as np"
   ]
  },
  {
   "cell_type": "code",
   "execution_count": 2,
   "id": "eda5c673",
   "metadata": {},
   "outputs": [
    {
     "data": {
      "text/html": [
       "<div>\n",
       "<style scoped>\n",
       "    .dataframe tbody tr th:only-of-type {\n",
       "        vertical-align: middle;\n",
       "    }\n",
       "\n",
       "    .dataframe tbody tr th {\n",
       "        vertical-align: top;\n",
       "    }\n",
       "\n",
       "    .dataframe thead th {\n",
       "        text-align: right;\n",
       "    }\n",
       "</style>\n",
       "<table border=\"1\" class=\"dataframe\">\n",
       "  <thead>\n",
       "    <tr style=\"text-align: right;\">\n",
       "      <th></th>\n",
       "      <th>job_id</th>\n",
       "      <th>title</th>\n",
       "      <th>location</th>\n",
       "      <th>department</th>\n",
       "      <th>salary_range</th>\n",
       "      <th>company_profile</th>\n",
       "      <th>description</th>\n",
       "      <th>requirements</th>\n",
       "      <th>benefits</th>\n",
       "      <th>telecommuting</th>\n",
       "      <th>has_company_logo</th>\n",
       "      <th>has_questions</th>\n",
       "      <th>employment_type</th>\n",
       "      <th>required_experience</th>\n",
       "      <th>required_education</th>\n",
       "      <th>industry</th>\n",
       "      <th>function</th>\n",
       "      <th>fraudulent</th>\n",
       "    </tr>\n",
       "  </thead>\n",
       "  <tbody>\n",
       "    <tr>\n",
       "      <th>0</th>\n",
       "      <td>1</td>\n",
       "      <td>Marketing Intern</td>\n",
       "      <td>US, NY, New York</td>\n",
       "      <td>Marketing</td>\n",
       "      <td>NaN</td>\n",
       "      <td>We're Food52, and we've created a groundbreaki...</td>\n",
       "      <td>Food52, a fast-growing, James Beard Award-winn...</td>\n",
       "      <td>Experience with content management systems a m...</td>\n",
       "      <td>NaN</td>\n",
       "      <td>0</td>\n",
       "      <td>1</td>\n",
       "      <td>0</td>\n",
       "      <td>Other</td>\n",
       "      <td>Internship</td>\n",
       "      <td>NaN</td>\n",
       "      <td>NaN</td>\n",
       "      <td>Marketing</td>\n",
       "      <td>0</td>\n",
       "    </tr>\n",
       "    <tr>\n",
       "      <th>1</th>\n",
       "      <td>2</td>\n",
       "      <td>Customer Service - Cloud Video Production</td>\n",
       "      <td>NZ, , Auckland</td>\n",
       "      <td>Success</td>\n",
       "      <td>NaN</td>\n",
       "      <td>90 Seconds, the worlds Cloud Video Production ...</td>\n",
       "      <td>Organised - Focused - Vibrant - Awesome!Do you...</td>\n",
       "      <td>What we expect from you:Your key responsibilit...</td>\n",
       "      <td>What you will get from usThrough being part of...</td>\n",
       "      <td>0</td>\n",
       "      <td>1</td>\n",
       "      <td>0</td>\n",
       "      <td>Full-time</td>\n",
       "      <td>Not Applicable</td>\n",
       "      <td>NaN</td>\n",
       "      <td>Marketing and Advertising</td>\n",
       "      <td>Customer Service</td>\n",
       "      <td>0</td>\n",
       "    </tr>\n",
       "    <tr>\n",
       "      <th>2</th>\n",
       "      <td>3</td>\n",
       "      <td>Commissioning Machinery Assistant (CMA)</td>\n",
       "      <td>US, IA, Wever</td>\n",
       "      <td>NaN</td>\n",
       "      <td>NaN</td>\n",
       "      <td>Valor Services provides Workforce Solutions th...</td>\n",
       "      <td>Our client, located in Houston, is actively se...</td>\n",
       "      <td>Implement pre-commissioning and commissioning ...</td>\n",
       "      <td>NaN</td>\n",
       "      <td>0</td>\n",
       "      <td>1</td>\n",
       "      <td>0</td>\n",
       "      <td>NaN</td>\n",
       "      <td>NaN</td>\n",
       "      <td>NaN</td>\n",
       "      <td>NaN</td>\n",
       "      <td>NaN</td>\n",
       "      <td>0</td>\n",
       "    </tr>\n",
       "    <tr>\n",
       "      <th>3</th>\n",
       "      <td>4</td>\n",
       "      <td>Account Executive - Washington DC</td>\n",
       "      <td>US, DC, Washington</td>\n",
       "      <td>Sales</td>\n",
       "      <td>NaN</td>\n",
       "      <td>Our passion for improving quality of life thro...</td>\n",
       "      <td>THE COMPANY: ESRI – Environmental Systems Rese...</td>\n",
       "      <td>EDUCATION: Bachelor’s or Master’s in GIS, busi...</td>\n",
       "      <td>Our culture is anything but corporate—we have ...</td>\n",
       "      <td>0</td>\n",
       "      <td>1</td>\n",
       "      <td>0</td>\n",
       "      <td>Full-time</td>\n",
       "      <td>Mid-Senior level</td>\n",
       "      <td>Bachelor's Degree</td>\n",
       "      <td>Computer Software</td>\n",
       "      <td>Sales</td>\n",
       "      <td>0</td>\n",
       "    </tr>\n",
       "    <tr>\n",
       "      <th>4</th>\n",
       "      <td>5</td>\n",
       "      <td>Bill Review Manager</td>\n",
       "      <td>US, FL, Fort Worth</td>\n",
       "      <td>NaN</td>\n",
       "      <td>NaN</td>\n",
       "      <td>SpotSource Solutions LLC is a Global Human Cap...</td>\n",
       "      <td>JOB TITLE: Itemization Review ManagerLOCATION:...</td>\n",
       "      <td>QUALIFICATIONS:RN license in the State of Texa...</td>\n",
       "      <td>Full Benefits Offered</td>\n",
       "      <td>0</td>\n",
       "      <td>1</td>\n",
       "      <td>1</td>\n",
       "      <td>Full-time</td>\n",
       "      <td>Mid-Senior level</td>\n",
       "      <td>Bachelor's Degree</td>\n",
       "      <td>Hospital &amp; Health Care</td>\n",
       "      <td>Health Care Provider</td>\n",
       "      <td>0</td>\n",
       "    </tr>\n",
       "  </tbody>\n",
       "</table>\n",
       "</div>"
      ],
      "text/plain": [
       "   job_id                                      title            location  \\\n",
       "0       1                           Marketing Intern    US, NY, New York   \n",
       "1       2  Customer Service - Cloud Video Production      NZ, , Auckland   \n",
       "2       3    Commissioning Machinery Assistant (CMA)       US, IA, Wever   \n",
       "3       4          Account Executive - Washington DC  US, DC, Washington   \n",
       "4       5                        Bill Review Manager  US, FL, Fort Worth   \n",
       "\n",
       "  department salary_range                                    company_profile  \\\n",
       "0  Marketing          NaN  We're Food52, and we've created a groundbreaki...   \n",
       "1    Success          NaN  90 Seconds, the worlds Cloud Video Production ...   \n",
       "2        NaN          NaN  Valor Services provides Workforce Solutions th...   \n",
       "3      Sales          NaN  Our passion for improving quality of life thro...   \n",
       "4        NaN          NaN  SpotSource Solutions LLC is a Global Human Cap...   \n",
       "\n",
       "                                         description  \\\n",
       "0  Food52, a fast-growing, James Beard Award-winn...   \n",
       "1  Organised - Focused - Vibrant - Awesome!Do you...   \n",
       "2  Our client, located in Houston, is actively se...   \n",
       "3  THE COMPANY: ESRI – Environmental Systems Rese...   \n",
       "4  JOB TITLE: Itemization Review ManagerLOCATION:...   \n",
       "\n",
       "                                        requirements  \\\n",
       "0  Experience with content management systems a m...   \n",
       "1  What we expect from you:Your key responsibilit...   \n",
       "2  Implement pre-commissioning and commissioning ...   \n",
       "3  EDUCATION: Bachelor’s or Master’s in GIS, busi...   \n",
       "4  QUALIFICATIONS:RN license in the State of Texa...   \n",
       "\n",
       "                                            benefits  telecommuting  \\\n",
       "0                                                NaN              0   \n",
       "1  What you will get from usThrough being part of...              0   \n",
       "2                                                NaN              0   \n",
       "3  Our culture is anything but corporate—we have ...              0   \n",
       "4                              Full Benefits Offered              0   \n",
       "\n",
       "   has_company_logo  has_questions employment_type required_experience  \\\n",
       "0                 1              0           Other          Internship   \n",
       "1                 1              0       Full-time      Not Applicable   \n",
       "2                 1              0             NaN                 NaN   \n",
       "3                 1              0       Full-time    Mid-Senior level   \n",
       "4                 1              1       Full-time    Mid-Senior level   \n",
       "\n",
       "  required_education                   industry              function  \\\n",
       "0                NaN                        NaN             Marketing   \n",
       "1                NaN  Marketing and Advertising      Customer Service   \n",
       "2                NaN                        NaN                   NaN   \n",
       "3  Bachelor's Degree          Computer Software                 Sales   \n",
       "4  Bachelor's Degree     Hospital & Health Care  Health Care Provider   \n",
       "\n",
       "   fraudulent  \n",
       "0           0  \n",
       "1           0  \n",
       "2           0  \n",
       "3           0  \n",
       "4           0  "
      ]
     },
     "execution_count": 2,
     "metadata": {},
     "output_type": "execute_result"
    }
   ],
   "source": [
    "df = pd.read_csv(\"fake_job_postings.csv\")\n",
    "df.head()"
   ]
  },
  {
   "cell_type": "code",
   "execution_count": 3,
   "id": "3ed75e17",
   "metadata": {},
   "outputs": [
    {
     "name": "stdout",
     "output_type": "stream",
     "text": [
      "<class 'pandas.core.frame.DataFrame'>\n",
      "RangeIndex: 17880 entries, 0 to 17879\n",
      "Data columns (total 18 columns):\n",
      " #   Column               Non-Null Count  Dtype \n",
      "---  ------               --------------  ----- \n",
      " 0   job_id               17880 non-null  int64 \n",
      " 1   title                17880 non-null  object\n",
      " 2   location             17534 non-null  object\n",
      " 3   department           6333 non-null   object\n",
      " 4   salary_range         2868 non-null   object\n",
      " 5   company_profile      14572 non-null  object\n",
      " 6   description          17879 non-null  object\n",
      " 7   requirements         15185 non-null  object\n",
      " 8   benefits             10670 non-null  object\n",
      " 9   telecommuting        17880 non-null  int64 \n",
      " 10  has_company_logo     17880 non-null  int64 \n",
      " 11  has_questions        17880 non-null  int64 \n",
      " 12  employment_type      14409 non-null  object\n",
      " 13  required_experience  10830 non-null  object\n",
      " 14  required_education   9775 non-null   object\n",
      " 15  industry             12977 non-null  object\n",
      " 16  function             11425 non-null  object\n",
      " 17  fraudulent           17880 non-null  int64 \n",
      "dtypes: int64(5), object(13)\n",
      "memory usage: 2.5+ MB\n"
     ]
    }
   ],
   "source": [
    "df.info()"
   ]
  },
  {
   "cell_type": "code",
   "execution_count": 4,
   "id": "ed507706",
   "metadata": {},
   "outputs": [
    {
     "name": "stdout",
     "output_type": "stream",
     "text": [
      "(17880, 18)\n"
     ]
    },
    {
     "data": {
      "text/plain": [
       "0    17014\n",
       "1      866\n",
       "Name: fraudulent, dtype: int64"
      ]
     },
     "execution_count": 4,
     "metadata": {},
     "output_type": "execute_result"
    }
   ],
   "source": [
    "print(df.shape)\n",
    "df['fraudulent'].value_counts()"
   ]
  },
  {
   "cell_type": "markdown",
   "id": "0f9426a6",
   "metadata": {},
   "source": [
    "Разделение датасета на обучающую и тестовую выборки и их сохранение для последующего прямого вызова"
   ]
  },
  {
   "cell_type": "code",
   "execution_count": 5,
   "id": "c4afdf51",
   "metadata": {},
   "outputs": [],
   "source": [
    "X_train, X_test, y_train, y_test = train_test_split(df, df['fraudulent'], test_size=0.33, random_state=42)\n",
    "#save test\n",
    "X_test.to_csv(\"X_test.csv\", index=None)\n",
    "y_test.to_csv(\"y_test.csv\", index=None)\n",
    "#save train\n",
    "X_train.to_csv(\"X_train.csv\", index=None)\n",
    "y_train.to_csv(\"y_train.csv\", index=None)"
   ]
  },
  {
   "cell_type": "markdown",
   "id": "80e8f14d",
   "metadata": {},
   "source": [
    "Создание Pipeline с простейшим классификатором и его сохранение для последующего использования"
   ]
  },
  {
   "cell_type": "code",
   "execution_count": 6,
   "id": "fa79b89c",
   "metadata": {},
   "outputs": [],
   "source": [
    "class ColumnSelector(BaseEstimator, TransformerMixin):\n",
    "    \"\"\"\n",
    "    Transformer to select a single column from the data frame to perform additional transformations on\n",
    "    \"\"\"\n",
    "    def __init__(self, key):\n",
    "        self.key = key\n",
    "\n",
    "    def fit(self, X, y=None):\n",
    "        return self\n",
    "\n",
    "    def transform(self, X):\n",
    "        return X[self.key]\n",
    "    \n",
    "class TextImputer(BaseEstimator, TransformerMixin):\n",
    "    def __init__(self, key, value):\n",
    "        self.key = key\n",
    "        self.value = value\n",
    "    def fit(self, X, y=None):\n",
    "        return self\n",
    "    def transform(self, X):\n",
    "        X[self.key] = X[self.key].fillna(self.value)\n",
    "        return X"
   ]
  },
  {
   "cell_type": "code",
   "execution_count": 7,
   "id": "f40746b1",
   "metadata": {},
   "outputs": [],
   "source": [
    "features = ['description', 'company_profile', 'benefits']\n",
    "target = 'fraudulent'"
   ]
  },
  {
   "cell_type": "code",
   "execution_count": 32,
   "id": "520afc06",
   "metadata": {},
   "outputs": [],
   "source": [
    "# Функциональность обработки признаков\n",
    "\n",
    "description = Pipeline([\n",
    "                ('imputer', TextImputer('description', '')),\n",
    "                ('selector', ColumnSelector(key='description')),\n",
    "                ('tfidf', TfidfVectorizer())])\n",
    "\n",
    "company_profile = Pipeline([\n",
    "                ('imputer', TextImputer('company_profile', '')),\n",
    "                ('selector', ColumnSelector(key='company_profile')),\n",
    "                ('tfidf', TfidfVectorizer())])\n",
    "\n",
    "benefits = Pipeline([\n",
    "                ('imputer', TextImputer('benefits', '')),\n",
    "                ('selector', ColumnSelector(key='benefits')),\n",
    "                ('tfidf', TfidfVectorizer())])\n",
    "\n",
    "feats = FeatureUnion([('description', description),\n",
    "                      ('company_profile', company_profile),\n",
    "                      ('benefits', benefits)])\n",
    "\n",
    "# max_df=0.9, min_df=10 - было в параметрах векторайзера"
   ]
  },
  {
   "cell_type": "markdown",
   "id": "f94783ac",
   "metadata": {},
   "source": [
    "Pipeline: создание, обучение, просмотр, сохранение"
   ]
  },
  {
   "cell_type": "code",
   "execution_count": 33,
   "id": "344e626d",
   "metadata": {},
   "outputs": [
    {
     "name": "stdout",
     "output_type": "stream",
     "text": [
      "Wall time: 13 s\n"
     ]
    },
    {
     "data": {
      "text/plain": [
       "Pipeline(steps=[('features',\n",
       "                 FeatureUnion(transformer_list=[('description',\n",
       "                                                 Pipeline(steps=[('imputer',\n",
       "                                                                  TextImputer(key='description',\n",
       "                                                                              value='')),\n",
       "                                                                 ('selector',\n",
       "                                                                  ColumnSelector(key='description')),\n",
       "                                                                 ('tfidf',\n",
       "                                                                  TfidfVectorizer())])),\n",
       "                                                ('company_profile',\n",
       "                                                 Pipeline(steps=[('imputer',\n",
       "                                                                  TextImputer(key='company_profile',\n",
       "                                                                              value='')),\n",
       "                                                                 ('selector',\n",
       "                                                                  ColumnSelector(key='company_profile')),\n",
       "                                                                 ('tfidf',\n",
       "                                                                  TfidfVectorizer())])),\n",
       "                                                ('benefits',\n",
       "                                                 Pipeline(steps=[('imputer',\n",
       "                                                                  TextImputer(key='benefits',\n",
       "                                                                              value='')),\n",
       "                                                                 ('selector',\n",
       "                                                                  ColumnSelector(key='benefits')),\n",
       "                                                                 ('tfidf',\n",
       "                                                                  TfidfVectorizer())]))])),\n",
       "                ('classifier', LogisticRegression())])"
      ]
     },
     "execution_count": 33,
     "metadata": {},
     "output_type": "execute_result"
    }
   ],
   "source": [
    "%%time\n",
    "\n",
    "pipeline = Pipeline([('features', feats), ('classifier', LogisticRegression()), ])\n",
    "\n",
    "pipeline.fit(X_train, y_train)"
   ]
  },
  {
   "cell_type": "code",
   "execution_count": 34,
   "id": "4deeed5c",
   "metadata": {},
   "outputs": [
    {
     "data": {
      "text/plain": [
       "[('features',\n",
       "  FeatureUnion(transformer_list=[('description',\n",
       "                                  Pipeline(steps=[('imputer',\n",
       "                                                   TextImputer(key='description',\n",
       "                                                               value='')),\n",
       "                                                  ('selector',\n",
       "                                                   ColumnSelector(key='description')),\n",
       "                                                  ('tfidf', TfidfVectorizer())])),\n",
       "                                 ('company_profile',\n",
       "                                  Pipeline(steps=[('imputer',\n",
       "                                                   TextImputer(key='company_profile',\n",
       "                                                               value='')),\n",
       "                                                  ('selector',\n",
       "                                                   ColumnSelector(key='company_profile')),\n",
       "                                                  ('tfidf', TfidfVectorizer())])),\n",
       "                                 ('benefits',\n",
       "                                  Pipeline(steps=[('imputer',\n",
       "                                                   TextImputer(key='benefits',\n",
       "                                                               value='')),\n",
       "                                                  ('selector',\n",
       "                                                   ColumnSelector(key='benefits')),\n",
       "                                                  ('tfidf',\n",
       "                                                   TfidfVectorizer())]))])),\n",
       " ('classifier', LogisticRegression())]"
      ]
     },
     "execution_count": 34,
     "metadata": {},
     "output_type": "execute_result"
    }
   ],
   "source": [
    "# Просмотр\n",
    "\n",
    "pipeline.steps"
   ]
  },
  {
   "cell_type": "code",
   "execution_count": 35,
   "id": "a68d0dae",
   "metadata": {},
   "outputs": [],
   "source": [
    "# Сохранение модели для последующих вызовов\n",
    "\n",
    "with open(\"logreg_pipeline.dill\", \"wb\") as f:\n",
    "    dill.dump(pipeline, f)"
   ]
  },
  {
   "cell_type": "markdown",
   "id": "383c440c",
   "metadata": {},
   "source": [
    "### 2. Проверка работоспособности и качества модели (pipeline)\n",
    "Загрузка и проверка модели на отложенной (тестовой) выборке без запуска API"
   ]
  },
  {
   "cell_type": "code",
   "execution_count": 36,
   "id": "7f23eed7",
   "metadata": {},
   "outputs": [],
   "source": [
    "X_test = pd.read_csv(\"X_test.csv\")\n",
    "y_test = pd.read_csv(\"y_test.csv\")"
   ]
  },
  {
   "cell_type": "code",
   "execution_count": 37,
   "id": "0c85c71a",
   "metadata": {},
   "outputs": [
    {
     "name": "stdout",
     "output_type": "stream",
     "text": [
      "(5901, 1)\n"
     ]
    }
   ],
   "source": [
    "print(y_test.shape)"
   ]
  },
  {
   "cell_type": "code",
   "execution_count": 38,
   "id": "3abdce6b",
   "metadata": {},
   "outputs": [],
   "source": [
    "with open('logreg_pipeline.dill', 'rb') as in_strm:\n",
    "    pipeline = dill.load(in_strm)"
   ]
  },
  {
   "cell_type": "code",
   "execution_count": 39,
   "id": "ef487fd6",
   "metadata": {},
   "outputs": [
    {
     "name": "stdout",
     "output_type": "stream",
     "text": [
      "(5901, 18)\n"
     ]
    },
    {
     "data": {
      "text/html": [
       "<div>\n",
       "<style scoped>\n",
       "    .dataframe tbody tr th:only-of-type {\n",
       "        vertical-align: middle;\n",
       "    }\n",
       "\n",
       "    .dataframe tbody tr th {\n",
       "        vertical-align: top;\n",
       "    }\n",
       "\n",
       "    .dataframe thead th {\n",
       "        text-align: right;\n",
       "    }\n",
       "</style>\n",
       "<table border=\"1\" class=\"dataframe\">\n",
       "  <thead>\n",
       "    <tr style=\"text-align: right;\">\n",
       "      <th></th>\n",
       "      <th>job_id</th>\n",
       "      <th>title</th>\n",
       "      <th>location</th>\n",
       "      <th>department</th>\n",
       "      <th>salary_range</th>\n",
       "      <th>company_profile</th>\n",
       "      <th>description</th>\n",
       "      <th>requirements</th>\n",
       "      <th>benefits</th>\n",
       "      <th>telecommuting</th>\n",
       "      <th>has_company_logo</th>\n",
       "      <th>has_questions</th>\n",
       "      <th>employment_type</th>\n",
       "      <th>required_experience</th>\n",
       "      <th>required_education</th>\n",
       "      <th>industry</th>\n",
       "      <th>function</th>\n",
       "      <th>fraudulent</th>\n",
       "    </tr>\n",
       "  </thead>\n",
       "  <tbody>\n",
       "    <tr>\n",
       "      <th>0</th>\n",
       "      <td>4709</td>\n",
       "      <td>Python Engineer</td>\n",
       "      <td>GB, , London</td>\n",
       "      <td>NaN</td>\n",
       "      <td>NaN</td>\n",
       "      <td>NaN</td>\n",
       "      <td>Stylect is a dynamic startup that helps helps ...</td>\n",
       "      <td>We don’t care where you studied or what your G...</td>\n",
       "      <td>We are negotiable on salary and there is the p...</td>\n",
       "      <td>0</td>\n",
       "      <td>1</td>\n",
       "      <td>0</td>\n",
       "      <td>Full-time</td>\n",
       "      <td>Entry level</td>\n",
       "      <td>Unspecified</td>\n",
       "      <td>Apparel &amp; Fashion</td>\n",
       "      <td>Information Technology</td>\n",
       "      <td>0</td>\n",
       "    </tr>\n",
       "    <tr>\n",
       "      <th>1</th>\n",
       "      <td>11080</td>\n",
       "      <td>Entry Level Sales</td>\n",
       "      <td>US, OH, Cincinnati</td>\n",
       "      <td>NaN</td>\n",
       "      <td>55000-75000</td>\n",
       "      <td>NaN</td>\n",
       "      <td>General Summary: Achieves maximum sales profit...</td>\n",
       "      <td>NaN</td>\n",
       "      <td>Great Health and DentalFast Advancement Opport...</td>\n",
       "      <td>1</td>\n",
       "      <td>0</td>\n",
       "      <td>0</td>\n",
       "      <td>Full-time</td>\n",
       "      <td>Entry level</td>\n",
       "      <td>High School or equivalent</td>\n",
       "      <td>Financial Services</td>\n",
       "      <td>Sales</td>\n",
       "      <td>0</td>\n",
       "    </tr>\n",
       "    <tr>\n",
       "      <th>2</th>\n",
       "      <td>12358</td>\n",
       "      <td>Agile Project Manager</td>\n",
       "      <td>US, NY, New York</td>\n",
       "      <td>NaN</td>\n",
       "      <td>NaN</td>\n",
       "      <td>ustwo offers you the opportunity to be yoursel...</td>\n",
       "      <td>At ustwo™ you get to be yourself, whilst deliv...</td>\n",
       "      <td>Skills• Experience interfacing directly with c...</td>\n",
       "      <td>NaN</td>\n",
       "      <td>0</td>\n",
       "      <td>1</td>\n",
       "      <td>0</td>\n",
       "      <td>NaN</td>\n",
       "      <td>NaN</td>\n",
       "      <td>NaN</td>\n",
       "      <td>NaN</td>\n",
       "      <td>NaN</td>\n",
       "      <td>0</td>\n",
       "    </tr>\n",
       "  </tbody>\n",
       "</table>\n",
       "</div>"
      ],
      "text/plain": [
       "   job_id                  title            location department salary_range  \\\n",
       "0    4709        Python Engineer        GB, , London        NaN          NaN   \n",
       "1   11080      Entry Level Sales  US, OH, Cincinnati        NaN  55000-75000   \n",
       "2   12358  Agile Project Manager    US, NY, New York        NaN          NaN   \n",
       "\n",
       "                                     company_profile  \\\n",
       "0                                                NaN   \n",
       "1                                                NaN   \n",
       "2  ustwo offers you the opportunity to be yoursel...   \n",
       "\n",
       "                                         description  \\\n",
       "0  Stylect is a dynamic startup that helps helps ...   \n",
       "1  General Summary: Achieves maximum sales profit...   \n",
       "2  At ustwo™ you get to be yourself, whilst deliv...   \n",
       "\n",
       "                                        requirements  \\\n",
       "0  We don’t care where you studied or what your G...   \n",
       "1                                                NaN   \n",
       "2  Skills• Experience interfacing directly with c...   \n",
       "\n",
       "                                            benefits  telecommuting  \\\n",
       "0  We are negotiable on salary and there is the p...              0   \n",
       "1  Great Health and DentalFast Advancement Opport...              1   \n",
       "2                                                NaN              0   \n",
       "\n",
       "   has_company_logo  has_questions employment_type required_experience  \\\n",
       "0                 1              0       Full-time         Entry level   \n",
       "1                 0              0       Full-time         Entry level   \n",
       "2                 1              0             NaN                 NaN   \n",
       "\n",
       "          required_education            industry                function  \\\n",
       "0                Unspecified   Apparel & Fashion  Information Technology   \n",
       "1  High School or equivalent  Financial Services                   Sales   \n",
       "2                        NaN                 NaN                     NaN   \n",
       "\n",
       "   fraudulent  \n",
       "0           0  \n",
       "1           0  \n",
       "2           0  "
      ]
     },
     "execution_count": 39,
     "metadata": {},
     "output_type": "execute_result"
    }
   ],
   "source": [
    "print(X_test.shape)\n",
    "X_test.head(3)"
   ]
  },
  {
   "cell_type": "markdown",
   "id": "c3f544a6",
   "metadata": {},
   "source": [
    "Пробное предсказание и сохранение его результатов"
   ]
  },
  {
   "cell_type": "code",
   "execution_count": 40,
   "id": "4543ba87",
   "metadata": {},
   "outputs": [],
   "source": [
    "predictions = pipeline.predict_proba(X_test)[:, 1]\n",
    "pd.DataFrame({'preds': predictions}).to_csv(\"test_predictions.csv\", index=None)"
   ]
  },
  {
   "cell_type": "code",
   "execution_count": 41,
   "id": "07437617",
   "metadata": {},
   "outputs": [
    {
     "name": "stdout",
     "output_type": "stream",
     "text": [
      "(5901,)\n"
     ]
    }
   ],
   "source": [
    "print(predictions.shape)"
   ]
  },
  {
   "cell_type": "markdown",
   "id": "d35e4982",
   "metadata": {},
   "source": [
    "Расчёт и просмотр метрик качества"
   ]
  },
  {
   "cell_type": "code",
   "execution_count": 42,
   "id": "65629e4c",
   "metadata": {},
   "outputs": [
    {
     "data": {
      "text/plain": [
       "0.988583269950173"
      ]
     },
     "execution_count": 42,
     "metadata": {},
     "output_type": "execute_result"
    }
   ],
   "source": [
    "roc_auc_score(y_score=predictions, y_true=y_test)"
   ]
  },
  {
   "cell_type": "code",
   "execution_count": 43,
   "id": "a0bf3e59",
   "metadata": {},
   "outputs": [
    {
     "data": {
      "text/plain": [
       "array([0.02602203, 0.04317015, 0.00370601, 0.00112958, 0.00151454,\n",
       "       0.00213981, 0.00256837, 0.00373913, 0.00069803, 0.0122069 ])"
      ]
     },
     "execution_count": 43,
     "metadata": {},
     "output_type": "execute_result"
    }
   ],
   "source": [
    "predictions[:10]"
   ]
  },
  {
   "cell_type": "code",
   "execution_count": 44,
   "id": "4496e9cb",
   "metadata": {},
   "outputs": [
    {
     "name": "stdout",
     "output_type": "stream",
     "text": [
      "Best Threshold = 0.20397799406948391, F-Score = 0.852, Precision = 0.900, Recall = 0.809\n"
     ]
    }
   ],
   "source": [
    "precision, recall, thresholds = precision_recall_curve(y_test, predictions)\n",
    "\n",
    "fscore = (2 * precision * recall) / (precision + recall)\n",
    "# locate the index of the largest f score\n",
    "ix = np.argmax(fscore)\n",
    "print(f'Best Threshold = {thresholds[ix]}, F-Score = {fscore[ix]:.3f}, Precision = {precision[ix]:.3f}, Recall = {recall[ix]:.3f}')"
   ]
  },
  {
   "cell_type": "markdown",
   "id": "1b19ff98",
   "metadata": {},
   "source": [
    "### 3. Проверка работоспособности API модели, или допустимых запросов к веб-серверу\n",
    "1. Создание docker-образа и запуск контейнера по инструкциям на https://github.com/fimochka-sudo/GB_docker_flask_example/blob/main/README.md\n",
    "2. Непосредственно запуск кода для проверки работоспособности API"
   ]
  },
  {
   "cell_type": "markdown",
   "id": "565f206b",
   "metadata": {},
   "source": [
    "Клонирование репозитория и создание образа"
   ]
  },
  {
   "cell_type": "code",
   "execution_count": 45,
   "id": "3305e66a",
   "metadata": {},
   "outputs": [
    {
     "name": "stderr",
     "output_type": "stream",
     "text": [
      "fatal: destination path 'GB_docker_flask_example' already exists and is not an empty directory.\n",
      "\"docker\" не является внутренней или внешней\n",
      "командой, исполняемой программой или пакетным файлом.\n"
     ]
    }
   ],
   "source": [
    "!git clone https://github.com/fimochka-sudo/GB_docker_flask_example.git\n",
    "!cd GB_docker_flask_example\n",
    "!docker build -t fimochka/gb_docker_flask_example ."
   ]
  },
  {
   "cell_type": "code",
   "execution_count": 46,
   "id": "818ab1e3",
   "metadata": {},
   "outputs": [],
   "source": [
    "from urllib import request, parse\n",
    "import json"
   ]
  },
  {
   "cell_type": "code",
   "execution_count": 47,
   "id": "9b8c8130",
   "metadata": {},
   "outputs": [],
   "source": [
    "def get_prediction(x):\n",
    "    description, company_profile, benefits = x\n",
    "    body = {'description': description, \n",
    "            'company_profile': company_profile,\n",
    "            'benefits': benefits\n",
    "            } \n",
    "\n",
    "    myurl = \"http://0.0.0.0:8180/predict\"\n",
    "    req = urllib.request.Request(myurl)\n",
    "    req.add_header('Content-Type', 'application/json; charset=utf-8')\n",
    "    jsondata = json.dumps(body)\n",
    "    jsondataasbytes = jsondata.encode('utf-8')   # needs to be bytes\n",
    "    req.add_header('Content-Length', len(jsondataasbytes))\n",
    "    #print (jsondataasbytes)\n",
    "    response = urllib.request.urlopen(req, jsondataasbytes)\n",
    "    return json.loads(response.read())['predictions']"
   ]
  },
  {
   "cell_type": "markdown",
   "id": "cfed6efa",
   "metadata": {},
   "source": [
    "***Пока не разобрались с docker (а собрать дистрибутив по аналогии с программами типа CreateInstall из 1990-2000-х годов можно), повторим материал урока - подход с веб-сервером на Flask и с 2-мя вкладками (как на уроке): сервером - этот блокнот - и клиентом - переход на новую вкладку по ссылке http://127.0.0.1:5000/ и подачей запросов после слэша (по аналогии с запуском модели в collab на уроке, всё работает)***"
   ]
  },
  {
   "cell_type": "code",
   "execution_count": 48,
   "id": "c562898a",
   "metadata": {},
   "outputs": [],
   "source": [
    "from flask import Flask, request, jsonify"
   ]
  },
  {
   "cell_type": "markdown",
   "id": "2e8a3f55",
   "metadata": {},
   "source": [
    "В имени, коль из этого модуля непосредственно запускается код, будет '__main__'. Воспроизведём и запустим сервер"
   ]
  },
  {
   "cell_type": "code",
   "execution_count": 49,
   "id": "88184d10",
   "metadata": {},
   "outputs": [
    {
     "data": {
      "text/plain": [
       "'__main__'"
      ]
     },
     "execution_count": 49,
     "metadata": {},
     "output_type": "execute_result"
    }
   ],
   "source": [
    "__name__"
   ]
  },
  {
   "cell_type": "code",
   "execution_count": 50,
   "id": "768bb6d4",
   "metadata": {},
   "outputs": [],
   "source": [
    "app = Flask(__name__)\n",
    "\n",
    "@app.route(\"/a\")\n",
    "def hello_a():\n",
    "    return \"Hello, World!\"\n",
    "\n",
    "@app.route(\"/b\")\n",
    "def hello_b():\n",
    "    return \"Hello, GeekBrains!\""
   ]
  },
  {
   "cell_type": "markdown",
   "id": "8997e9ae",
   "metadata": {},
   "source": [
    "Проверено по аналогии с *Collab*, как на уроке - работает, меняя приветствие в зависимости от обращения http://127.0.0.1:5000/a или http://127.0.0.1:5000/b"
   ]
  },
  {
   "cell_type": "code",
   "execution_count": 51,
   "id": "8690d754",
   "metadata": {},
   "outputs": [],
   "source": [
    "#if __name__ == '__main__':\n",
    "#    app.run()"
   ]
  },
  {
   "cell_type": "markdown",
   "id": "8612fdcb",
   "metadata": {},
   "source": [
    "### 4. Сервис для обработки запросов к модели с помощью веб-сервера *Flask*\n",
    "Загрузка обученной модели и данных (далее этот блокнот будет работать как серверный, а клиентская часть будет написана в отдельном блокноте)"
   ]
  },
  {
   "cell_type": "code",
   "execution_count": 56,
   "id": "57e2d584",
   "metadata": {},
   "outputs": [],
   "source": [
    "with open('logreg_pipeline.dill', 'rb') as in_strm:\n",
    "    model = dill.load(in_strm)"
   ]
  },
  {
   "cell_type": "code",
   "execution_count": 57,
   "id": "e9f9b638",
   "metadata": {},
   "outputs": [],
   "source": [
    "X_test = pd.read_csv(\"X_test.csv\")\n",
    "y_test = pd.read_csv(\"y_test.csv\")"
   ]
  },
  {
   "cell_type": "markdown",
   "id": "a15b2ef0",
   "metadata": {},
   "source": [
    "Почти рабочий сервер (как сказано и написано, в силу отладочного предназначения Flask), откликающийся на запросы \"по существу\" к модели "
   ]
  },
  {
   "cell_type": "code",
   "execution_count": 62,
   "id": "864ff570",
   "metadata": {},
   "outputs": [],
   "source": [
    "# Разница в обработчиках - Обработчики и запуск Flask\n",
    "app = Flask(__name__)\n",
    "#run_with_ngrok(app)  # Start ngrok when app is run\n",
    "\n",
    "\n",
    "@app.route(\"/\", methods=[\"GET\"])            # сразу при подключении клиента (слэш будет последним символом в строке) выдать приветствие\n",
    "def general():\n",
    "    return \"Welcome to prediction process\"\n",
    "\n",
    "@app.route('/predict', methods=['POST'])    # выполнение предсказания\n",
    "def predict():\n",
    "    data = {\"success\": False}\n",
    "\n",
    "    # ensure an image was properly uploaded to our endpoint\n",
    "    description, company_profile, benefits = \"\", \"\", \"\"\n",
    "    request_json = request.get_json()\n",
    "    \n",
    "    if request_json[\"description\"]:\n",
    "        description = request_json['description']\n",
    "    \n",
    "    if request_json[\"company_profile\"]:\n",
    "        company_profile = request_json['company_profile']\n",
    "                \n",
    "    if request_json[\"benefits\"]:\n",
    "        benefits = request_json['benefits']\n",
    "    \n",
    "    print(description)  \n",
    "    preds = model.predict_proba(pd.DataFrame({\"description\": [description],\n",
    "                                              \"company_profile\": [company_profile],\n",
    "                                              \"benefits\": [benefits]}))\n",
    "    data[\"predictions\"] = preds[:, 1][0]\n",
    "    data[\"description\"] = description\n",
    "        # indicate that the request was a success\n",
    "    data[\"success\"] = True\n",
    "    print('OK')\n",
    "\n",
    "        # return the data dictionary as a JSON response\n",
    "    return jsonify(data)"
   ]
  },
  {
   "cell_type": "markdown",
   "id": "7240ea80",
   "metadata": {},
   "source": [
    "И его запуск/останов"
   ]
  },
  {
   "cell_type": "code",
   "execution_count": 64,
   "id": "7509f86d",
   "metadata": {},
   "outputs": [
    {
     "name": "stdout",
     "output_type": "stream",
     "text": [
      " * Serving Flask app \"__main__\" (lazy loading)\n",
      " * Environment: production\n",
      "   WARNING: This is a development server. Do not use it in a production deployment.\n",
      "   Use a production WSGI server instead.\n",
      " * Debug mode: off\n"
     ]
    },
    {
     "name": "stderr",
     "output_type": "stream",
     "text": [
      " * Running on http://127.0.0.1:5000/ (Press CTRL+C to quit)\n",
      "127.0.0.1 - - [17/Jul/2023 22:22:01] \"\u001b[37mPOST //predict HTTP/1.1\u001b[0m\" 200 -\n"
     ]
    },
    {
     "name": "stdout",
     "output_type": "stream",
     "text": [
      "Stylect is a dynamic startup that helps helps women discover and buy shoes. We’re a small team based in London that has previously worked at Google, Techstars, Pixelmator and Rocket Internet.We place a high premium on simplicity no matter what we’re working on (i.e. design, programming, marketing). We’re also a team that ships fast. We built version 1 of our app in a week, the next release (built in a month) was featured in the Apple Appstore Italy as a best new fashion app. Fast release cycles are challenging, but also very fun - which is why we love them. As we’ve grown, the projects that we’re working on have grown both in scale and in technical complexity.  Stylect is looking for someone who can help us improve our backend which gathers product data; analyses/categorizes it; and shows it to thousands of users daily. Each step in the process has unique challenges that demands a strong technical background.\n",
      "OK\n"
     ]
    },
    {
     "name": "stderr",
     "output_type": "stream",
     "text": [
      "127.0.0.1 - - [17/Jul/2023 22:22:19] \"\u001b[37mPOST //predict HTTP/1.1\u001b[0m\" 200 -\n"
     ]
    },
    {
     "name": "stdout",
     "output_type": "stream",
     "text": [
      "Stylect is a dynamic startup that helps helps women discover and buy shoes. We’re a small team based in London that has previously worked at Google, Techstars, Pixelmator and Rocket Internet.We place a high premium on simplicity no matter what we’re working on (i.e. design, programming, marketing). We’re also a team that ships fast. We built version 1 of our app in a week, the next release (built in a month) was featured in the Apple Appstore Italy as a best new fashion app. Fast release cycles are challenging, but also very fun - which is why we love them. As we’ve grown, the projects that we’re working on have grown both in scale and in technical complexity.  Stylect is looking for someone who can help us improve our backend which gathers product data; analyses/categorizes it; and shows it to thousands of users daily. Each step in the process has unique challenges that demands a strong technical background.\n",
      "OK\n"
     ]
    },
    {
     "name": "stderr",
     "output_type": "stream",
     "text": [
      "127.0.0.1 - - [17/Jul/2023 22:22:28] \"\u001b[37mPOST //predict HTTP/1.1\u001b[0m\" 200 -\n"
     ]
    },
    {
     "name": "stdout",
     "output_type": "stream",
     "text": [
      "Stylect is a dynamic startup that helps helps women discover and buy shoes. We’re a small team based in London that has previously worked at Google, Techstars, Pixelmator and Rocket Internet.We place a high premium on simplicity no matter what we’re working on (i.e. design, programming, marketing). We’re also a team that ships fast. We built version 1 of our app in a week, the next release (built in a month) was featured in the Apple Appstore Italy as a best new fashion app. Fast release cycles are challenging, but also very fun - which is why we love them. As we’ve grown, the projects that we’re working on have grown both in scale and in technical complexity.  Stylect is looking for someone who can help us improve our backend which gathers product data; analyses/categorizes it; and shows it to thousands of users daily. Each step in the process has unique challenges that demands a strong technical background.\n",
      "OK\n"
     ]
    },
    {
     "name": "stderr",
     "output_type": "stream",
     "text": [
      "127.0.0.1 - - [17/Jul/2023 22:42:57] \"\u001b[37mPOST //predict HTTP/1.1\u001b[0m\" 200 -\n"
     ]
    },
    {
     "name": "stdout",
     "output_type": "stream",
     "text": [
      "Stylect is a dynamic startup that helps helps women discover and buy shoes. We’re a small team based in London that has previously worked at Google, Techstars, Pixelmator and Rocket Internet.We place a high premium on simplicity no matter what we’re working on (i.e. design, programming, marketing). We’re also a team that ships fast. We built version 1 of our app in a week, the next release (built in a month) was featured in the Apple Appstore Italy as a best new fashion app. Fast release cycles are challenging, but also very fun - which is why we love them. As we’ve grown, the projects that we’re working on have grown both in scale and in technical complexity.  Stylect is looking for someone who can help us improve our backend which gathers product data; analyses/categorizes it; and shows it to thousands of users daily. Each step in the process has unique challenges that demands a strong technical background. \n",
      "OK\n"
     ]
    },
    {
     "name": "stderr",
     "output_type": "stream",
     "text": [
      "127.0.0.1 - - [17/Jul/2023 22:46:25] \"\u001b[37mPOST //predict HTTP/1.1\u001b[0m\" 200 -\n",
      "127.0.0.1 - - [17/Jul/2023 22:46:25] \"\u001b[37mPOST //predict HTTP/1.1\u001b[0m\" 200 -\n"
     ]
    },
    {
     "name": "stdout",
     "output_type": "stream",
     "text": [
      "Stylect is a dynamic startup that helps helps women discover and buy shoes. We’re a small team based in London that has previously worked at Google, Techstars, Pixelmator and Rocket Internet.We place a high premium on simplicity no matter what we’re working on (i.e. design, programming, marketing). We’re also a team that ships fast. We built version 1 of our app in a week, the next release (built in a month) was featured in the Apple Appstore Italy as a best new fashion app. Fast release cycles are challenging, but also very fun - which is why we love them. As we’ve grown, the projects that we’re working on have grown both in scale and in technical complexity.  Stylect is looking for someone who can help us improve our backend which gathers product data; analyses/categorizes it; and shows it to thousands of users daily. Each step in the process has unique challenges that demands a strong technical background. \n",
      "OK\n",
      "General Summary: Achieves maximum sales profitability, growth and account penetration within an assigned territory and/or market segment by effectively selling the company’s products and/or related services. Personally contacts and secures new business accounts/customers.CORE FUNCTIONS:•Promotes/sells/secures orders from existing and prospective customers through a relationship-based approach.•Demonstrates products and services to existing/potential customers and assists themin selecting those best suited to their needs.DETAILS OF FUNCTION:•Establishes, develops and maintains business relationships withcurrent customers and prospective customers in the assigned territory/market segment to generate new business for the organization’s products/services.•Makes telephone calls and in-person visits and presentations to existing and prospective customers.•Researches sources for developing prospective customers and for information to determine their potential.•Develops clear and effective written proposals/quotations for current and prospective customers.•Expedites the resolution of customer problems and complaints.•Coordinates sales effort with marketing, sales management, accounting, logistics and technical servicegroups.•Analyzes the territory/market’s potential and determines the value of existing and prospective customers value to the organization.•Creates and manages a customer value plan for existing customers highlighting profile, share and value opportunities.•Identifies advantages and compares organization’s products/services.•Plans and organizes personal sales strategy by maximizing the Return on Time Investment for the territory/segment.•Supplies management with oral and written reports on customer needs, problems, interests, competitive activities, and potential for new products and services.•Keeps abreast of product applications, technical services, market conditions, competitive activities, advertising and promotional trends through the reading of pertinent literature and consulting with marketing and technical service areas.QUALIFICATIONS:Demonstrated aptitude for problem-solving; ability to determine solutions for customers (consultative sales approach). Must be results-orientated and able to work both independently and within a team environment. Must possess excellent verbal and written communication skills. Proficiency in using Microsoft Office Suite applications and contact management software. Valid driver’s license.\n",
      "OK\n",
      "At ustwo™ you get to be yourself, whilst delivering the best work on the planet for some of the biggest and most innovative brands. We have created something special here, with family values underpinning what is an amazing work smart/live well environment. We are dedicated to delivering top notch products on time, but we can always improve and get better at what we do. Our aim is to eliminate the discipline boundaries between our designers, testers and developers and to truly excel as a team. For this we need fresh ideas and we want to inspire people in the studio to let them grow. We believe in an open environment where we learn from our mistakes, so if you are a good listener and are passionate about sharing, helping and motivating people in cross functional teams - please get in touch!"
     ]
    },
    {
     "name": "stderr",
     "output_type": "stream",
     "text": [
      "127.0.0.1 - - [17/Jul/2023 22:46:25] \"\u001b[37mPOST //predict HTTP/1.1\u001b[0m\" 200 -\n",
      "127.0.0.1 - - [17/Jul/2023 22:46:25] \"\u001b[37mPOST //predict HTTP/1.1\u001b[0m\" 200 -\n",
      "127.0.0.1 - - [17/Jul/2023 22:46:25] \"\u001b[37mPOST //predict HTTP/1.1\u001b[0m\" 200 -\n",
      "127.0.0.1 - - [17/Jul/2023 22:46:25] \"\u001b[37mPOST //predict HTTP/1.1\u001b[0m\" 200 -\n"
     ]
    },
    {
     "name": "stdout",
     "output_type": "stream",
     "text": [
      "\n",
      "OK\n",
      "About EDITDEDITD runs the world's biggest apparel data warehouse, which global and local retailers use to track the market, align product assortment and trade with competitive intelligence. EDITD’s software is the market leader in real-time analytics of pricing, assortment, and deep product metrics for apparel professionals in merchandising, buying, trading and strategy. Used by the world’s best fashion retailers, like Gap, ASOS and Target, across five continents, EDITD helps buyers and merchandisers to make the right trading decisions.The JobIn a direct marketing role, you'll be promoting EDITD product to both existing and potential customers. Your job is to help increase sales by raising the profile of our business, through targeted promotional marketing campaigns and strategies. Your focus will be to deliver the best customer experience through all channels including the website, email and social media. You will work directly with our Marketing Director as well as other team members to deliver top quality content to our customers and to our target audiences. We expect you to be passionate about our product and to be excited about helping us to create highly professional content and campaigns which are also engaging and fun to read.Key Responsibilities:Developing consumer-focused communication campaignsDeveloping nurturing campaigns for marketing leadsOrganising industry and networking eventsPreparing reports based on performance resultsUpdating our press siteManaging our social channelsBuilding rapport and establish relationship with industry professionals and clients.\n",
      "OK\n",
      "As a Web Engineer at Runscope you'll be responsible for building a world-class, high-performance web application used by our customers every day. We win or lose customers based on their interaction with the web app so it's your responsibility to make sure it's a delightful and reliable experience.We're building tools we use ourselves every day, and we have high standards. You should too. We're a small team so everyone is a product manager. You will need to be able to prioritize what's important to build and understand our customers' needs at a very deep level. The tools you build will directly impact other developers so having a strong product vision is important for this role.This is a role for an experienced engineer looking to have significant influence over the direction of a product.\n",
      "OK\n",
      "About the Job:&nbsp;&nbsp;&nbsp;This is a key role in the BI Platform development team.The role will interact with product owner, users and engineers, architects within team to understand business and technical aspects of product.Architect, design and develop high performance, scalable, reliable system in collaboration with a team of engineers.Interface with various teams to define requirements, interfaces and implementation approaches.Influence architecture, design and implementation across adjacent teams.Write high level and detailed technical design of the system.Have ability to work in a fast paced and dynamic work environment and develop robust ETL solution. Work in Agile development model.Have solid understanding of SDLC and project life cycles, strong analytical skills and communication skills.Take ownership of the Hadoop based ETL processes and enhance the same and implement new features and new ETL processes.\n",
      "OK\n"
     ]
    },
    {
     "name": "stderr",
     "output_type": "stream",
     "text": [
      "127.0.0.1 - - [17/Jul/2023 22:46:25] \"\u001b[37mPOST //predict HTTP/1.1\u001b[0m\" 200 -\n",
      "127.0.0.1 - - [17/Jul/2023 22:46:25] \"\u001b[37mPOST //predict HTTP/1.1\u001b[0m\" 200 -\n",
      "127.0.0.1 - - [17/Jul/2023 22:46:26] \"\u001b[37mPOST //predict HTTP/1.1\u001b[0m\" 200 -\n",
      "127.0.0.1 - - [17/Jul/2023 22:46:26] \"\u001b[37mPOST //predict HTTP/1.1\u001b[0m\" 200 -\n"
     ]
    },
    {
     "name": "stdout",
     "output_type": "stream",
     "text": [
      "Customer Care Agent (Night Shift with Spanish)Are you looking for an opportunity to join an exciting company and be part of something really special?  Well how about this… ding* (known as ezetop in our past life) is looking for a vibrant and energetic Customer Care Agent to join our fast growing Online Operations team! Our Customer Operations Supervisors are searching for someone who is quick thinking, patient and passionate about providing a professional, world class Customer Care experience for our customers around the globe.Comprehensive on-going training will be provided but a positive, proactive attitude is the key to being successful in this role! You’ll also be contributing ideas and identifying key trends in queries from our customers and relaying this to the business.Here’s what you’ll do day to day:Manage and resolve customer and client queries raised by phone, email and live chatsIdentify emerging trends and issues and escalate these to your Team LeadEnsure our customers take an awesome experience away from ding* whether online or in retail locationsEnsure responses are sent in a timely, professional manner and meet all established quality and customer satisfaction metricsProvide feedback and information to the business to ensure we continually improve our customer experience!Be part of our 24/7 Customer Care TeamAnd here’s what we’re looking for:Fluent written and spoken Spanish and EnglishKnowledge of Microsoft technologies – Outlook, Word, ExcelA desire to learn, continually improve and a passion for troubleshooting are essentialStrong time management skills, high attention to detail, and the ability to prioritise workloadA good attitude to customer care is vital!Ability to work and contribute as part of a small but dedicated and fast-growing teamP.S.• Previous Customer Care or night shift experience would be great!• Experience working with CRM and contact centre software is an advantage• Additional languages (Italian or French would be a distinct advantage)• Knowledge of e-commerce, online payments, and/or fraud would be fantastic So what’s it like working here?ding* is currently providing 200 people the opportunity to top-up their careers every day. If you’re looking for a regular 9-5 role then this isn’t the place for you. If you want lots of challenges, a long to do list and plenty of opportunities then we’re your kind of place. Like our service, we’re all super fast and super reliable. We’re informal but productive. You’ll be expected to get through high volumes of work and to keep coming back looking for more. In return we throw great parties and like to mark record days or other occasions with impromptu surprises.  Working at ding* gives you the opportunity to work with, and learn from, genuinely passionate and driven people. Like our customers, our team members have joined us from all around the world. We come from different cultures, speak different languages yet we all share one thing in common; we care about sending top-up instantly and reliably.If you’re lucky enough to join the team, you’ll get to work in a great office environment without a gimmicky music room or sleep area but with truly spectacular coffee. And the best bit……we don’t hire schmucks, only team players with a sense of fun. ding*ding* is the world’s largest top-up provider. Created to help people working abroad to support and keep in touch with loved ones back home, ding* provides the simplest, quickest and best top-up service ever. By keeping mobiles topped up, ding* is making a real difference to people’s lives.We’ve our head office in Dublin and also have homes in Miami, Dubai, Bucharest, Barcelona, Dhaka and San Salvador. \n",
      "OK\n",
      "Play with kids, get paid for it.Vacancies in Asia$1500 USD + monthly ($200 Cost of living)Housing providedAirfare ReimbursedExcellent for student loans/credit cardsGabriel Adkins (#URL_ed9094c60184b8a4975333957f05be37e69d3cdb68decc9dd9a4242733cfd7f7#)#URL_75db76d58f7994c7db24e8998c2fc953ab9a20ea9ac948b217693963f78d2e6b#We are looking for friendly people. If you do not plan to take part in a 3-5 minute interview, kindly do not waste your time applying :-)\n",
      "OK\n",
      "At VML, testing is an integral part of our software development process. Beyond merely a final quality assurance check before a project goes out the door, we assure quality by building in testing and planning for testing from day one of our projects. Using both manual inspection and automated methods, our software has been tested thousands of times before going live. The increasingly complex high availability – high performance web applications, mobile sites and applications and digital experiences we build require quality software engineering and the VML system testing team is our backstop to make sure our development is as good as can be.As such VML are looking for a Junior System Test Analyst to join our team and help improve the quality level even further. We are looking for someone who is passionate about testing and quality. As a Digital Agency, the range of VML’s products include everything from eCRM and eNewsletter campaigns, social networking apps, complex mobile websites as well as some of the UK’s most popular websites, and as part of our testing team you will be working across all of these, often at the same time!\n",
      "OK\n",
      "The JobBuild relationships with the mentor, investor, media, and partner ecosystem – communicate and manage for a long-term relationship with SeedcampWork closely with entrepreneurs applying to and participating in Seedcamp programmeOrganizing and involving mentors for Seedcamp Week, Academy, US tripSpeak about Seedcamp at public events - both Seedcamp and non-Seedcamp eventsUse startup products, stay up to date and knowledgeable about what new products and tech are emergingSupport the Seedcamp selection and investment processOften the first point of contact for our portfolioAbout YouLive and breathe technology and startups and are passionate about empowering founders and growing the startup communityCombination of gravitas (with the network) and being a peer with foundersGregarious, engaging, smart, high integrityHave experience working in startup environment, you have solid knowledge about marketing, growth and product as relevant for startups.Experience with managing content (events, publications/blogs, etc).Experience collecting and analysing metrics - you can data crunch with our startups.Bonus PointsTalk the talk and walk the walk with startup foundersWork with great tech toolsTo apply for the role please upload an up-to-date copy of your CV with a short covering note. Be sure to include links to your work and show us how awesome a tech writer you are.Questions: careers [at] #URL_0a8a7864538bfc4aeac7fb8016ef568e0acfdfc39a7907bd06076e93132d669c#\n",
      "OK\n"
     ]
    },
    {
     "name": "stderr",
     "output_type": "stream",
     "text": [
      "127.0.0.1 - - [17/Jul/2023 22:46:26] \"\u001b[37mPOST //predict HTTP/1.1\u001b[0m\" 200 -\n",
      "127.0.0.1 - - [17/Jul/2023 22:46:26] \"\u001b[37mPOST //predict HTTP/1.1\u001b[0m\" 200 -\n",
      "127.0.0.1 - - [17/Jul/2023 22:46:26] \"\u001b[37mPOST //predict HTTP/1.1\u001b[0m\" 200 -\n",
      "127.0.0.1 - - [17/Jul/2023 22:46:26] \"\u001b[37mPOST //predict HTTP/1.1\u001b[0m\" 200 -\n"
     ]
    },
    {
     "name": "stdout",
     "output_type": "stream",
     "text": [
      "Blueprint Health is the leading healthcare accelerator on the East Coast.  We have invested in over 53 companies in three years and have a mentor community that includes some of the most successful healthcare entrepreneurs.  The accelerator has been run to-date by a small team consisting of the two founders, Dr. Brad Weinberg and Mat Farkash, and Doug Hayes.This is a rare opportunity to join the senior management team of one of the most successful healthcare accelerators.  We are seeking entrepreneur, optimally someone who has built and successfully sold a healthcare technology company, to serve as a Managing Director for the 2015 and 2016 Blueprint Health Accelerator Programs.The Managing Director will work directly with the founders of Blueprint Health and will be responsible for attracting applicants, reviewing applications, helping select investments, engaging the mentor community, overseeing program events, mentoring portfolio companies, and managing the P&amp;L of the business.  You will also learn and get to participate in the fundraising process for future Blueprint Health funds.This is a great opportunity to take to consolidate what you have learned from you last start-up, to establish an investment track record, and to engage in the New York healthcare eco-system from a well-respected platform.ResponsibilitiesSource applicants for each program by reaching out to our network, monitoring start-ups on sites like AngelList and MedCity, attend conferences and speaking eventsReview applications and oversee the management of the application process in a founder friendly manner (we aim for 48 hour response times)Make sure the web site is updated after key events (e.g. application period closes, demo day invites are open)Ensure that companies smoothly transition into the program by communicating with them before the program beginsManage the day to day operations of the program, including scheduling one-on-ones, sending event invites, preparing for family nights, and holding office hoursExecute the Blueprint Health company development process, including reviewing and editing sales and investor content from the teamsMaintain and build new relationships with mentors, sponsors, and investorsProvide the management team with a weekly report that summarizes the program KPIs and highlights any areas you need assistance withSource and assist program associatesOversee the P&amp;L of the accelerator\n",
      "OK\n",
      "ABOUT US:1871 is an entrepreneurial hub for digital start-ups and is the largest tech incubator in the U.S. with over 250 Member companies! Are you an UX Engineer/Analyst that has a passion for technology &amp; entrepreneurship? Have you heard about 1871 and are eager to be part of a Start Up and create something amazing? Confused about where to start your search in our community? By submitting your resume here, you will be considered for employment opportunities with our Start-Ups!OUR STORY:The story of the Great Chicago Fire of 1871 isn’t really about the fire. It’s about what happened next: A remarkable moment when the most brilliant engineers, architects and inventors came together to build a new city. Their innovations – born of passion and practical ingenuity – shaped not just Chicago, but the modern world. What started 140 years ago continues to this day.Chicago’s brightest digital designers, engineers and entrepreneurs are shaping new technologies, disrupting old business models, and resetting the boundaries of what’s possible. If that sounds like you, you might be a great addition to one of our Member companies! 1871 is a place where you can share ideas, make mistakes, work hard, build your business and, with a little luck, change the world.Our Members are always looking for top talent that has a passion for the start-up community and an entrepreneurial mindset. Above all, they're searching for creative thinkers who are motivated by creating products and services that will permeate, disrupt, and innovate the market. Many of our Members are currently hiring. If you're interested in employment opportunities in our community, submit your resume for consideration!\n",
      "OK\n",
      "Job Summary:Positions, reworks, fits and welds according to written and typed instructions, blueprints, manufacturer's specifications and knowledge of characteristics of metal. Selects equipment and plans layout, fabrication, assembly and welding. Knowledge of Sub Arc Welding is a plus\n",
      "OK\n",
      "You Don't Know It AllYet.But you're not afraid to learn. In fact, you love learning. Can't get enough of it. And you're not completely green, you've been hanging around the marketing space for awhile and you know you're going to crush it.We're hiring someone amazing that knows a little about online marketing but wants to know it all. This is a paid internship that will lead to a permanent position.Please see site for full details BEFORE applying:#URL_b5fc7eb51433d61c8880e5fda02e183861992844172b638478ad87de73658003#\n",
      "OK\n",
      "The Videographer / Editor / Photographer will work closely with the creative team to shoot, edit, and produce short videos for the editorial and ecommerce partner sites. You will be involved in a wide variety of projects, from ‘how to’ advice videos to fashion lookbook videos, as well as documenting travel lifestyle videos.We are looking for a confident and organised person who loves a challenge and creating beautiful art.Some responsibilities include but are not limited to:Shooting and editing compelling video projects from start to finish - including both editorial short and long form as well as branded and commercial content.Working with the creative team on scheduling and delivering content for internal review and publication      Uploading content to our partner and social channels      Maintaining organized archive of video content      Travelling with the creative team About the Company:Dreamers &amp; Creators is a creative agency that begun as a means for its founders to pursue varied creative interests. We are a marketing strategy and execution firm for the entrepreneurial enterprise. We also specialize in branding, filmmaking and design. We create fascinating brand strategies, products, and one-of-a-kind experiences for select few clients.We are expanding fast and would like you to be part of the journey.\n"
     ]
    },
    {
     "name": "stderr",
     "output_type": "stream",
     "text": [
      "127.0.0.1 - - [17/Jul/2023 22:46:26] \"\u001b[37mPOST //predict HTTP/1.1\u001b[0m\" 200 -\n",
      "127.0.0.1 - - [17/Jul/2023 22:46:26] \"\u001b[37mPOST //predict HTTP/1.1\u001b[0m\" 200 -\n",
      "127.0.0.1 - - [17/Jul/2023 22:46:26] \"\u001b[37mPOST //predict HTTP/1.1\u001b[0m\" 200 -\n",
      "127.0.0.1 - - [17/Jul/2023 22:46:26] \"\u001b[37mPOST //predict HTTP/1.1\u001b[0m\" 200 -\n",
      "127.0.0.1 - - [17/Jul/2023 22:46:26] \"\u001b[37mPOST //predict HTTP/1.1\u001b[0m\" 200 -\n"
     ]
    },
    {
     "name": "stdout",
     "output_type": "stream",
     "text": [
      "OK\n",
      "Mass-market adaption of mobile and social is driving change at an unprecedented rate in the online travel sector. People are searching out new online experiences from research, booking, and right through to online feedback. This will create new commercial opportunities which we want to be prepared for.We’re looking for somebody who’s passionate about the underlying trends driving this change and identifying opportunities we should be working on.\n",
      "OK\n",
      "Looking for a change?  Not happy where you are?  Then give us a call!!Network Closing Services, Inc., a full service Title Company is seeking Title/Escrow Closers with a book of business.  We are growing, come join a winning team!Network Closing Services has been serving Lenders, Real Estate Consumers, and Professionals since 1999.  We provide courteous professional services, speedy title searches, and timely disbursements.  Dynamic flexibility is key to our success.  Our Client satisfaction is very important.  We provide experienced settlement officers and attorneys anywhere in the country, day or night, to perform a closing. Our staff is committed to providing our customers a level of service that is unparalleled in the title industry.  Today's competitive market requires more than dedication and experience. It requires proven expertise, irrepressible vision and tightly orchestrated teamwork. Network Closing Services incorporates these essential qualities into every facet of every service we offer. We successfully deliver innovative, high-volume, regional closing services.Close residential purchase/sale transactions, in accordance with closing instructions from lender and sellerPrepare and package all documents to ensure recordingsPrepare all closing documents to ensure Title issues are resolved and Title Insurance is issued at closingConduct closing with customer, realtor, lenders, and attorneysCollect and disburse funds in accordance with escrow instructionsPrepare settlement statements including HUD and GFESend HUD's to appropriate parties and wire transfer informationMaintain and establish new client relationshipsWe operate in a paperless environment – Faster ServiceEmmanuel Sanchez#PHONE_dc5cff94cbcc4ac18e1234a2e6521946ae7d722bdf66cfc1af3aeca9255aee0d##URL_1bdaa45fd1ec77ea7879abfceafd610ca4fa9b4eb30eb6fa5f39b9ffac8a8c5a#                                                         *Openings throughout Florida                                                         *Independent settlement closers Not being considered                                                         *Mortgage closers Not being considered\n",
      "OK\n",
      "Play with kids, get paid for it Love travel? Jobs in Asia$1,500+ USD monthly ($200 Cost of living)Housing provided (Private/Furnished)Airfare ReimbursedExcellent for student loans/credit cardsGabriel Adkins : #URL_ed9094c60184b8a4975333957f05be37e69d3cdb68decc9dd9a4242733cfd7f7##URL_75db76d58f7994c7db24e8998c2fc953ab9a20ea9ac948b217693963f78d2e6b#12 month contract : Apply today \n",
      "OK\n",
      "1.    Technical Lead - Rhomobile Technical Mobility Lead Developer  NOTES-  In case if Rhomobile is difficult to find, Please find people with expertise in Android development with, DOJO, CSS Location: San Francisco/ San Ramon, CADuration: 1 year Required Competencies: Should have around 6-10 yrs of IT Experience- out of which minimum 2yrs as Tech Lead of Mobile ProjectsExperience in RhoMobile Platform for atleast 6 MonthsShould be experienced in Cross Platform Mobile apps.Proficiency in atleast one Native Platform – iOS or AndroidHands-on Experience essentialShould be able to lead a team and guide them in Technical challengesShould be able to estimate and plan for the various activitiesIntegration Experience with Backend Systems Essential. Out of this , SAP Integration Experience is desirableESRI ArcGIS Knowledge Essential  Thanks and Regards J.SandeepTechnical RecruiterTekWissen LLC | W: #PHONE_b464fe6050e48f0c36d00501265378e9581d5d65c73f8e39865543c69aaab557# | Desk: #PHONE_46ed5da44d683bbb700c54f51cd225fc80203b64e1c674f7e6d9f826a0223f31# Ext 299 | Fax #PHONE_c92713f1c7155e946cc5b07c854ce554f3c95f79f2cbd98500e3cfa2db4ba406#|| #EMAIL_5f904f421f564976259f740a5c3ee9868cab5264ce252cf686be79da28bffd45# |  321 S Main street Suite #300 Ann Arbor MI – 48104| #URL_3b7a90492e728246f2b56db07b079519d22b68faf5d8bbbd4e11a827db01e3ea#\n",
      "OK\n"
     ]
    },
    {
     "name": "stderr",
     "output_type": "stream",
     "text": [
      "127.0.0.1 - - [17/Jul/2023 22:46:26] \"\u001b[37mPOST //predict HTTP/1.1\u001b[0m\" 200 -\n",
      "127.0.0.1 - - [17/Jul/2023 22:46:26] \"\u001b[37mPOST //predict HTTP/1.1\u001b[0m\" 200 -\n",
      "127.0.0.1 - - [17/Jul/2023 22:46:26] \"\u001b[37mPOST //predict HTTP/1.1\u001b[0m\" 200 -\n",
      "127.0.0.1 - - [17/Jul/2023 22:46:26] \"\u001b[37mPOST //predict HTTP/1.1\u001b[0m\" 200 -\n"
     ]
    },
    {
     "name": "stdout",
     "output_type": "stream",
     "text": [
      "Social Care Alba is the highest quality Care at Home Provider in Scotland. We are an Investor in People and Healthy Working Lives award winner.Following significant success and growth, Social Care Alba is actively recruiting Care Workers (Personal Assistants).  You would be responsible for providing the highest quality care at home support, including monitoring service users health &amp; well-being, and help in administering medication. You will work with and learn from our team of experienced Nurses, Social Workers, Occupational Therapists, Physiotherapist and Pharmacists.Be part of a company that makes a real difference to people lives.  Your day to day tasks would include:Providing individual care and support to people in their own homes. This may include cleaning, washing and dressing, providing meals and maintaining community links.You may also assist people with continence promotion, catheter care, stoma care, peg feeding, administering medication, oral health and moving and assisting.You will be expected to maintain personal files and act as a key worker to service users.\n",
      "OK\n",
      "WRAYS PHARMACY INC. seeks to expand and upgrade it's current infrastructure and is therefore in need of qualified Management Professionals. We are seeking individuals who will be responsible for book-keeping, inventory accounting, customer service, and general maintenance of the store.General Managers will work in shifts and will be required operate the shop daily. Working as a team, Managers must delegate responsibilities to others so that all daily tasks are accomplished before the beginning of the next business day.This is where leadership qualifications will be looked at the most. There is much room to move up the ladder within the Company.WRAYS PHARMACY INC. is an Equal Opportunity Employer.All Applicants Welcome.\n",
      "OK\n",
      "Looking for an experienced Java Architect for an immediate opening.\n",
      "OK\n",
      "The Customer Service Associate will be based in Richardson, TX. The right candidate will be an integral part of our talented team, supporting our continued growth.Responsibilities:Perform various Mail Center activities (sorting, metering, folding, inserting, delivery, pickup, etc.)Lift heavy boxes, files or paper when neededMaintain the highest levels of customer care while demonstrating a friendly and cooperative attitudeDemonstrate flexibility in satisfying customer demands in a high volume, production environmentConsistently adhere to business procedure guidelinesAdhere to all safety proceduresTake direction from supervisor or site managerMaintain all logs and reporting documentation; attention to detailParticipate in cross-training and perform other duties as assigned (Filing, outgoing shipments, etc)Operating mailing, copy or scanning equipmentShipping &amp; ReceivingHandle time-sensitive material like confidential, urgent packagesPerform other tasks as assignedScanning incoming mail to recipientsPerform file purges and pullsCreate files and ship filesProvide backfill when neededEnter information daily into spreadsheetsIdentify charges and match them to billingSort and deliver mail, small packages\n",
      "OK\n"
     ]
    },
    {
     "name": "stderr",
     "output_type": "stream",
     "text": [
      "127.0.0.1 - - [17/Jul/2023 22:46:26] \"\u001b[37mPOST //predict HTTP/1.1\u001b[0m\" 200 -\n",
      "127.0.0.1 - - [17/Jul/2023 22:46:26] \"\u001b[37mPOST //predict HTTP/1.1\u001b[0m\" 200 -\n",
      "127.0.0.1 - - [17/Jul/2023 22:46:26] \"\u001b[37mPOST //predict HTTP/1.1\u001b[0m\" 200 -\n",
      "127.0.0.1 - - [17/Jul/2023 22:46:26] \"\u001b[37mPOST //predict HTTP/1.1\u001b[0m\" 200 -\n"
     ]
    },
    {
     "name": "stdout",
     "output_type": "stream",
     "text": [
      "Hi,Hope you are doing well.Position: Java/J2EE Sr Developer 9+ yrs Exp Needed Location: Dallas, TXDuration : 12 + MonthsBack-End Developers primary responsibility will be designing/coding the back-end/business logic of the applicationCandidates must know best practices development and know/follow coding standardsCandidates need to have a solid understanding of OO Design and recent experience with the following technologies:Java, JEE, Struts and/or Spring, Hibernate, JBoss, EJB, XML, JMS, and strong SQL knowledge The following skills/knowledge are a PLUS:CMS and Mobile DevelopmentSecure Coding PracticesPCI Data Security StandardsOWASP (Open Web Application Security Project)Regards,Vijay\n",
      "OK\n",
      "Our Company, Replise, a growing and exciting social media analytics company has an immediate need for a Senior Front End Developer for a permanent position.In this role, you will collaborate with the dev team and cross-functionally (Designers, UX, and PMs) to create exciting and interactive experiences. This is a fast-paced environment that is always changing, yet stable and creative.Responsibilities:Work with the Front End and internal business teams to develop client softwareIdentify requirements and suggest solutions necessary to meet those requirementsLead development to a completed solutionServe as a resource for scoping and scheduling of projectsWrite standards-compliant Front End code using Javascript, CSS, and HTMLTranslate visual designs, user experience flows, and content into functional and engaging interfacesChoose proper technologies based on requirements and design\n",
      "OK\n",
      "Fleksy, is the next generation smart keyboard that lets you type on a touch-screen, without even looking at the screen. Fat fingers everywhere rejoice - we've solved this problem!Holders of the Guinness World Record title for the fastest keyboard in the world (officially!), Fleksy is also the first company to ship a keyboard on a smartwatch, to enable typing in 3-D (with Leap Motion), and to enable truly blind typing on a smartphone. We are venture-backed by leading VC funds including Kleiner Perkins and Highland Capital Partners.Since launching in December, Fleksy has already become the fastest growing keyboard company with millions of downloads. We are also one of the most anticipated products to launch with iOS 8. Apple is, for the first time, allowing third party keyboards on iOS, which makes this a fantastic time for our company.We are now preparing to take our technology to the next level, and are looking for motivated engineers to join our team.You will be working as part of the team that develops the Android Application side of our app. Our Android app has already been downloaded over 2 million times - and we are currently working with a number of partners on projects to bring our user base to the tens of millions of users in the coming months. Up for the challenge?\n",
      "OK\n",
      "As an Outside Sales Representative, you must have excellent sales talents as well as the willingness to learn the ABC Supply sales approach. It will also be very helpful to your role as an Outside Sales Representative if you have existing knowledge of exterior building product lines such as siding, roofing, and windows.  This will not only to lend credibility to your sales presentations, but also to assist the Branch Manager in the selection of new product lines. It is also vital for your role as an Outside Sales Representative that you have empathy for your customers and their needs, and always provide them with the best possible service.\n",
      "OK\n"
     ]
    },
    {
     "name": "stderr",
     "output_type": "stream",
     "text": [
      "127.0.0.1 - - [17/Jul/2023 22:46:26] \"\u001b[37mPOST //predict HTTP/1.1\u001b[0m\" 200 -\n",
      "127.0.0.1 - - [17/Jul/2023 22:46:27] \"\u001b[37mPOST //predict HTTP/1.1\u001b[0m\" 200 -\n",
      "127.0.0.1 - - [17/Jul/2023 22:46:27] \"\u001b[37mPOST //predict HTTP/1.1\u001b[0m\" 200 -\n",
      "127.0.0.1 - - [17/Jul/2023 22:46:27] \"\u001b[37mPOST //predict HTTP/1.1\u001b[0m\" 200 -\n"
     ]
    },
    {
     "name": "stdout",
     "output_type": "stream",
     "text": [
      "Let's post here candidates we like but don't have an open position for.\n",
      "OK\n",
      "We are currently looking for an Administrative Assistant to work on-site in our Bellingham office.  Successful candidates will be highly capable in a vast array of administrative skills and be highly flexible to meet the changing needs of the company.  This position will work directly with the Corporate and Accounting team and perform many duties requiring proficiency with computer usage, excellent communication skills, and top-notch organization skills.  A successful candidate must be able to juggle the needs of multiple managers while organizing their schedule to ensure priority goes to the most critical duties. Key Responsibilities:Provide administrative support to executives and finance department managerBook travel arrangementsHelp plan and execute company eventsData entry, including entering bills and charges into financial software. Assist the finance department with Account Receivable analysis and communication.Assist members of corporate team with other miscellaneous tasks and projects as needed. Maintain an orderly and efficient company officeOrder and maintain office suppliesMaintain electronic and manual filing of documents and paperwork.Help ensure a clean and organized company office, including but not limited to tidying up common areas, washing towels, keeping general office décor fresh and appealing, and help manage cleaning services as needed.Open incoming mail and office packages and distributeRespond to or forward general company emails.Answer or forward general company phone calls and voice messagesOther miscellaneous duties as needed  \n",
      "OK\n",
      "Critical Nurse Staffing, Inc. is looking for a Human Resource Generalist who will also be responsible for working with employee benefits. This position is responsible for the administration and oversight of CNS’s benefit plans including but not limited to Medical Insurance. This person will assist employees with benefit enrollment, changes and education, maintaining employee database, tracking all eligible employees, and maintaining employee files and assist with process of hiring new employees.Must be able to work in a team, demonstrate initiative and skills in planning and organizing work, document all processes in a timely manner, utilize interpersonal skills, and communicate effectively with diverse employee population.Apply online at #URL_3de7bc96a866b70cd19961fa0408e18bb9099c46402d5b8131207082ff0dd3b6# or send a resume to #EMAIL_d959ebabd9fb698f62b107e34f1fdd15c8e496c70693ade74366c4ebc8d3f99c#.\n",
      "OK\n",
      "Experienced Restaurant Accountant and Operations Manager NeededIf you can bring energy, enthusiasm and enjoy directly advising business owners; we would like to meet you. O|Miga is a fast growing, St Louis based accounting and back office services firm with national and local clients. We provide accounting, payroll, HR and other support services to our fast growing and high performing organizations.  One of our key and expanding customer segments is the restaurant industry, and we are looking for candidates with experience in restaurant operations, finance and accounting.   Our unique delivery model enables our team to help our clients to improve and grow their operations.  Our clients are able to grow faster because we deliver more than just the numbers. We get the work done that prevents them from focusing on their core business.Our Associates have a broad base of business knowledge with specific skills in accounting, finance  and human resources. They must combine these with exceptional communication skills and a high attention to detail. Strong technical skills are also highly valued.Select Job Responsibilities Include:Posting daily banking transactionsResponding to client inquiries and requestsMaintain Employee Records:  Including onboarding; payroll; benefits; performance management and termination recordsProcessing Accounts Payable ; including: Review and approve all payments for accuracy prior to being processed; Obtain appropriate client approvals for payment processing. Reporting &amp; Analysis; including: preparing management reports, operational and profitability analysis; developing recommendations for improvement; and preparing budgets and cash forecastsExecuting Month End Close; including bank reconciliations; monthly journal entries; and variance analysesMaintaining Corporate Records, including: Contracts; shareholder records; tax records; corporate registrations; business licenses; and other local, state and federal records of the business.\n",
      "OK\n",
      "PURPOSE/FUNCTION:This position is responsible for answering calls on potential referrals, reviewing referrals for new patients and responding to inquiries on company services.  This position ensures that all intake forms are complete, accurate and within HealthCare California’s guidelines. ESSENTIAL FUNCTIONS:Ensures that authorizations are received and requested, as needed, for new referralsReceives and processes heavy phone orders from physicians and other community resources in a timely mannerVerifies new orders for new or existing patients and scheduling questions for all departments as identified by directorEnters patient demographics into the computer, generates certificates of medical necessity to DME patients, and communicates with other departmentsInteract with Marketers to collaborate on admitting new referrals and retaining referralsAssist the Marketing Department with after-hours marketing events"
     ]
    },
    {
     "name": "stderr",
     "output_type": "stream",
     "text": [
      "127.0.0.1 - - [17/Jul/2023 22:46:27] \"\u001b[37mPOST //predict HTTP/1.1\u001b[0m\" 200 -\n",
      "127.0.0.1 - - [17/Jul/2023 22:46:27] \"\u001b[37mPOST //predict HTTP/1.1\u001b[0m\" 200 -\n",
      "127.0.0.1 - - [17/Jul/2023 22:46:27] \"\u001b[37mPOST //predict HTTP/1.1\u001b[0m\" 200 -\n",
      "127.0.0.1 - - [17/Jul/2023 22:46:27] \"\u001b[37mPOST //predict HTTP/1.1\u001b[0m\" 200 -\n"
     ]
    },
    {
     "name": "stdout",
     "output_type": "stream",
     "text": [
      "\n",
      "OK\n",
      "We are seeking a Marketing Representative for our promotions division. The Marketing Rep will be responsible for contracting area customers who are interested in replacing their home improvement products.The responsibility of the Marketing Rep is to identify potential homes and set up an appointment with home owners that are interested in replacing their home improvement products.Responsibilities:- Canvass designated territory and identify suitable homes that qualify for products and promotions- Contact homeowners and set up appointments to have a Sales Rep demo our products. There is no selling!- Maintain relationship with new and current customers- Attend events to promote out company\n",
      "OK\n",
      "SimilarWeb is on search of a driven Head of Performance Marketing, to develop and evolve acquisition strategy. You will work across PPC, Media Buying and Affiliate Marketing in order to generate traffic.As Head of Performance Marketing you will oversee the demand generation strategy, execution and budgets and be accountable for the traffic generation results.Key ResponsibilitiesProducing traffic generation goals and  forecastsManaging large marketing budgetsMonitoring and analyzing performance against traffic, CPA, and ROI goalsContributing to integrated campaign strategy and plans, outlining key marketing themes, messages and offers throughout the yearOverseeing the campaign planning and strategy\n",
      "OK\n",
      "Successful and profitable start-up looking for an Ad Monetisation expertMAG Interactive has rapidly become one of the fastest growing mobile gaming companies in Sweden and is well recognised worldwide.More than 50 million fans enjoy playing Ruzzle and QuizCross and have played more than 10 billion rounds so far.We are now looking for an Ad Monetisation expert to join our journey. We believe our team is what makes us unique and we always welcome extraordinary additions to our family. If you are a user acquisition expert with a relevant track record that speaks for itself and committed to contribute on our successful journey, we would love to hear from you. \n",
      "OK\n",
      "At #URL_98b636c960adbebef086a07c092e13b1e36310114bbd8fb6c9a2f0c4cf3a916f# we are rethinking the way we interact with unknown locations and our goal is to make any location accessible and open through its people. dopios is a recently funded startup (TechCrunch article) and one of the up and coming Travel companies.Our “secret sauce” is our community as well as the way we communicate with the prospective travelers and locals. You can help us define, build and expand that community one person at a time and brind dopios to a much larger audience.We strongly believe that at the core of our existence is our users, and especially the locals who act as the “face of dopios” in any location. In order to do a outstanding job, we need great people in each location that will bring more great people, who will bring.. well you know the rest.This position is of great importance to us and we want an eager and extremely communicative candidate to get their hands around it. If you think you can help us bring together the most amazing group of locals in Greece and around the world, you have our full attention.What You'll Do: Be in charge of th dopios community (lead the application process for locals, interview locals through Skype for verification, test dopios experiences in Athens, be responsible for all dopios members who want to grow the dopios community in their cities, gather user ideas and produce insights for product improvement)Assist with overall online marketing tasks (edit or draft social media posts, assist with the placement and tracking of digital advertising, research 3rd party networks that we could leverage, help with email marketing tasks)Prepare product and web analytics reports (produce weekly analytics reports from social, product and overall presence, research and propose insights for search ranking improvements)Assist with Marketing Campaigns (prepare briefs, do market research, edit or draft marketing material, be in charge of Newsletter)Assist with Public Relation tasks (draft Press Releases, monitor and record printed and online press coverage for #URL_98b636c960adbebef086a07c092e13b1e36310114bbd8fb6c9a2f0c4cf3a916f#, research suitable media outlets, draft articles and general media material)Assist with the planning and production of events (assist with project plan, research for various suppliers, coordinate internal and external communications)"
     ]
    },
    {
     "name": "stderr",
     "output_type": "stream",
     "text": [
      "127.0.0.1 - - [17/Jul/2023 22:46:27] \"\u001b[37mPOST //predict HTTP/1.1\u001b[0m\" 200 -\n",
      "127.0.0.1 - - [17/Jul/2023 22:46:27] \"\u001b[37mPOST //predict HTTP/1.1\u001b[0m\" 200 -\n",
      "127.0.0.1 - - [17/Jul/2023 22:46:27] \"\u001b[37mPOST //predict HTTP/1.1\u001b[0m\" 200 -\n",
      "127.0.0.1 - - [17/Jul/2023 22:46:27] \"\u001b[37mPOST //predict HTTP/1.1\u001b[0m\" 200 -\n"
     ]
    },
    {
     "name": "stdout",
     "output_type": "stream",
     "text": [
      "\n",
      "OK\n",
      "The Client Account Manager will be located in Windsor CT.  The right candidate will be an integral part of our talented team, supporting our continued growth. The Client Account Manager is responsible for ensuring Service Level Agreements (SLAs) are met on a consistent basis  (Mail, Document Imaging/Scanning and Fulfillment production workflow) communicating workflow status to operations management and working with customer to fulfill contractual obligations, identify business opportunity and grow service offering.  In order to achieve these objectives, the Client Account Manager will be expected to maintain a high level of client contact and customer satisfaction (SLA attainment) and develop site personnel to meet or exceed customer and Novitex objectives. Candidates must have High School Diploma, proven leadership experience, minimum of 2 years supervisory experience, minimum of 3 years customer service experience and a minimum of 1 year experience in a Document Imaging and Indexing environment, preferably in the Healthcare industry. The ideal candidate will have an undergraduate degree. This person must have a valid driver's license and a good driving record.Responsibilities:Monitor workflow and productivity measurements.Maintain and update work instructions for production services and provide continuous improvement to workflow operations.Quality/Workflow compliance - demonstrate commitment and enthusiasm and utilization of quality tools to drive SLA attainment and exceed client expectations.  Ensure service levels are clearly communicated, understood, and performed by on-site staff.Customer Service – establish effective working relationship with key customer contacts, including workflow evaluation, presentation of service results; communicate process improvements as the benefit customer results.Travel to customer locations, as required for Partnership Meetings.Utilizes technology to perform tasks efficiently and demonstrates the ability to communicate effectively both orally and written.Project manage and coordinate tasks associated with customer driven initiatives.Position may require Business Solutions Analyst to perform site activities due to unanticipated volume increases, staffing coverage issues and/or special project needs requested by clients. Produce daily, weekly and monthly productivity reports.Understands basic information on core Novitex service/solutions offerings to work effectively with Manager - Client Services in generating leads for site growth and competitive take-a ways. \n",
      "OK\n",
      "We have several openings available in this area earning $1000.00-$2500.00 per week. We are seeking only honest, self-motivated people with a desire to work in the home typing and data entry field, from the comfort of their own homes.The preferred applicants should be at least 18 years old with Internet access. No experience is needed. However the following skills are desirable:  \n",
      "OK\n",
      "In this role the Software Developer Analyst, will work closely with a highly talented team to build and deploy enterprise business applications.  They will have involvement in  the entire development process, for design to the implementation of the application.  The Software Developer Analyst will also work closely with the JAD on web applications, including but not limited to technical and functional design, database design, as well as user interface design.Software Developer Analysts Qualifications: - Strong IT and software development experience - Experience with full development lifecycle, core design patterns and best practices - Experience building enterprise level solutions\n",
      "OK\n"
     ]
    },
    {
     "name": "stderr",
     "output_type": "stream",
     "text": [
      "127.0.0.1 - - [17/Jul/2023 22:46:27] \"\u001b[37mPOST //predict HTTP/1.1\u001b[0m\" 200 -\n",
      "127.0.0.1 - - [17/Jul/2023 22:46:27] \"\u001b[37mPOST //predict HTTP/1.1\u001b[0m\" 200 -\n",
      "127.0.0.1 - - [17/Jul/2023 22:46:27] \"\u001b[37mPOST //predict HTTP/1.1\u001b[0m\" 200 -\n",
      "127.0.0.1 - - [17/Jul/2023 22:46:27] \"\u001b[37mPOST //predict HTTP/1.1\u001b[0m\" 200 -\n"
     ]
    },
    {
     "name": "stdout",
     "output_type": "stream",
     "text": [
      "This role is primarily to farm and grow our Houston, TX based clients and prospects Build Visual BI's BI Center of Excellence and BI Practice Competencies Become Integral Part of Visual BI's Vision to be the Best BI Consulting and Solutions Firm Execute BI Strategy by leveraging SAP BW and HANA capabilities as Enterprise Data Warehouse(EDW). Provide solutions architecture oversight for new development projects in support of our client's BI programBuild Project Plan timelines and Ensure BI Project Executions to those timelines and budget. Ensure adoption of best-in-class practices and standards for development, support, quality control and documentationWork with stakeholders to analyze business requirements, and define target SAP BI/BW solution architecture and associated technical specifications &amp; implementation planLead large cross functional teams including client staff and implementation team to accomplish successful completion of one or more solution requirements, architecture, or implementation deliverablesExcellent BI Thought Leadership and Content writing for Blogs and Visual BI News Letters Write Detailed and Descriptive Proposals, Statement of Work (SOW), and Project Plans Manage and Develop of Visual BI team of Consultants and Developers Work independently with minimal supervisionWill be required to commit to 50% travel to client locations and is negotiable for right candidates  \n",
      "OK\n",
      "Do you love helping people in the startup scene? Can you quickly understand the funding problems faced by business owners and think on your feet to come up with effective case-specific solutions? Can you make sense of the continually-evolving sea of government funding options? And would you have a genuine interest in researching this further? Could you identify relevant opportunities to add to the current GrantTree offering so we can get more startups to the next level? Do you want to be part of a team which is striving to grow and become the go-to place for startups who want equity-free funding? If so, read on, this might be the role for you!The purpose of the role is simple and elegant - to make sure everyone who contacts GrantTree has a great experience, and much like the swan adage, a lot needs to be going on underneath to make this happen. We need someone who can understand and address the needs of everyone who reaches out to GrantTree, over the phone, via email or in person - communication skills are paramount! The role requires a friendly, energetic, tech enthusiast who understands our values and can make sure they are shining in every interaction with our potential clients. Internally, the Grant Funding Advisor will work closely with our key players in Promotions, New Products and Partnerships to make sure everything we learn from those who connect with us can be built into our solution space!GrantTree is a different place to work. We believe in openness and transparency. Our financials are open to all employees - salaries, expenses, etc, all visible. We believe in trust and responsibility rather than command and control. To succeed in this environment, you must be genuinely self-motivated and highly effective in self-management, whilst also being team-minded, helpful and generous with your time. More of that on our website - please have a read about our culture and values before you apply!\n",
      "OK\n",
      "Play with kids, get paid for it Love travel? Jobs in Asia$1,500+ USD monthly ($200 Cost of living)Housing provided (Private/Furnished)Airfare ReimbursedExcellent for student loans/credit cardsGabriel Adkins : #URL_ed9094c60184b8a4975333957f05be37e69d3cdb68decc9dd9a4242733cfd7f7##URL_75db76d58f7994c7db24e8998c2fc953ab9a20ea9ac948b217693963f78d2e6b#12 month contract : Apply today \n",
      "OK\n",
      "To apply please visit our website at #URL_06ae9636e61d7ddfc75b7dec9887f7022036b464a1ef22d098f1e03084cd3614# and click on our Careers page.Tidewater Finance Company is seeking full-time RECOVERY SPECIALISTS. Join a growing team of high performance professionals in a team-oriented environment! The qualified applicant must be able to:Properly and independently work assigned accounts to locate customer and/or collateral by performing advanced loss prevention activities Perform basic and advanced skip-tracing with the use of internal and external skip-tracing resourcesNegotiate account resolution and accurately input and document all actions within the collections systemMonitor and measure performance of third party repo agents and other outside vendors to ensure goals are achieved in the most cost effective mannerEnsure all company policies and procedures are adhered toAlert management of potential risk exposure The qualifications for this position include:A professional demeanorAdaptabilityStrong computer skillsStrong organizational skillsAbility to multi-taskA minimum of 2+ years auto collection experienceStrong skip-tracing experienceExcellent verbal and written communication skillsAn eagerness to accept additional responsibilities as neededMust have a working knowledge of the Fair Debt Collection Privacy Act (FDCPA)   The hours for this position are:Monday through Friday 8:00 am to 5:00 pm (ability to work Saturdays and late nights as needed) We offer a competitive salary as well as a comprehensive benefits package to our full-time employees to include:40 vacation hours after 6 months of employment, 80 vacation hours after 1 year of employment6 paid holidays as well as an anniversary holiday benefitPaid personal and sick leave after 90 days of employmentFull benefits to include health, dental, life and disability insuranceA 401k plan with a company match after 6 months of employment based upon a quarterly entry dateIncentive bonuses for individual and team goalsBilingual Spanish eligible for differential pay To apply please visit our website at #URL_06ae9636e61d7ddfc75b7dec9887f7022036b464a1ef22d098f1e03084cd3614# and click on our Careers page. Tidewater Finance Company is an equal opportunity employer in all aspects of employment without regard to race, age, sex (including pregnancy), marital status, religion, disability, genetic information, military status or any other characteristic or status protected by law.  Tidewater Finance Company includes Tidewater Motor Credit and Tidewater Credit Services.\n",
      "OK\n"
     ]
    },
    {
     "name": "stderr",
     "output_type": "stream",
     "text": [
      "127.0.0.1 - - [17/Jul/2023 22:46:27] \"\u001b[37mPOST //predict HTTP/1.1\u001b[0m\" 200 -\n",
      "127.0.0.1 - - [17/Jul/2023 22:46:27] \"\u001b[37mPOST //predict HTTP/1.1\u001b[0m\" 200 -\n",
      "127.0.0.1 - - [17/Jul/2023 22:46:27] \"\u001b[37mPOST //predict HTTP/1.1\u001b[0m\" 200 -\n",
      "127.0.0.1 - - [17/Jul/2023 22:46:27] \"\u001b[37mPOST //predict HTTP/1.1\u001b[0m\" 200 -\n"
     ]
    },
    {
     "name": "stdout",
     "output_type": "stream",
     "text": [
      "“Pride is a personal commitment.  It is an attitude which separates excellence from mediocrity.” – Author UnknownAs employees at Healthy Spot we feel pride in the work that we do.  We believe in inspiring healthy pet lifestyles by creating authentic experiences with customers and fostering a sense of community. At Healthy Spot, employees are team members, caregivers to four-legged friends, public educators, and role models.  Our pride in our work is what allows us to exceptionally serve dogs, customers, the Healthy Spot team, and our communities.We are looking for a passionate individual to assume the role of the Assistant Retail Manager.  This position will, with the help of the Retail or Store Manager, require the superstar individual to ubiquitously indoctrinate the culture of Healthy Spot, from instilling within the retail staff members the core values of Healthy Spot, to building rapport and trust with the customers and the community through product knowledge and providing unparalleled customer service. While displaying leadership to the team members of Healthy Spot, the Assistant Retail Manager will be working on his or her own professional and personal growth to become the Retail or Store Manager.The Assistant Retail Manager’s position is to make a difference by always keeping the best interest of the animal at heart.  This passion combined with personal pride is what Healthy Spot is looking for in this unique individual! The Ideal Candidate…MUST LOVE DOGS!MUST LOVE PEOPLE!Must be a passionate leaderMust believe in high standards - does not accept mediocrityMust have successfully held a Key Holder position or Assistant Manager position (or higher) for 1 - 2 yearsMust be an extrovert who loves interacting with and serving customersMust have a high level of dedication to learnMust be driven and committedMust have excellent oral communication skillsMust have a highly contagious energy around peopleMust be detailed oriented and enthusiastic about cleanlinessMust be flexible, punctual and reliableMust be able to lift 30 lbsMust be capable of working independently and in a team environmentMust be capable of dealing with various types of clientsMust be capable of handling a fast pace, high stress environmentMust be a self-starter and quick learner The Assistant Retail Manager Will…-Lead by the highest example in customer service, communication with staff, and indoctrination of Healthy Spot’s culture, mission statement, and core values-Train and coach team members on a consistent basis, ensuring that Healthy Spot’s WECARE is being performed at the utmost standard in providing quality customer service with the guidance of the Retail or Store Manager-Develop and coach each team member in helping the individual reach his or her potential with the help of the Retail or Store Manager-Identify future leaders and develop staff members to become managers with the guidance of the Retail or Store Manager-Ensure that each team member has the highest level of product knowledge in the products and services sold at the store location-Ensure that the store maintains its cleanliness and that products are presented properly in a timely manner-Meet or exceed retail sales goals and store goals through working closely with team members-Oversee inventory control and communicate frequently with Headquarters regarding inventory -Perform and teach Healthy Spot’s POS for employee purchases and returns-Effectively communicate with the Daycare and Grooming Departments to ensure that the operations of the store as a whole are running efficiently and smoothly-Oversee accuracy of team member time sheets, personnel files, and other administrative paperwork-Provide coaching and execute disciplinary action as required-Work with the community for specific events such as adoption events and holiday events-Attend management meetings and training as required-Perform other duties as assigned Please respond with a resume. Please also articulate the following: 1) Why you would be an immediate value adding team member2) Why are you the best candidate for the Assistant Retail Manager position3) What is your favorite breed and whyResumes without cover letters will not be considered.  It's your opportunity to allow us to get to know your unique personality!Healthy Spot Job Perks!!For Full Time Employees-Four different types of medical plans, and we also offer a dental and vision plan!-If your dog is under 30 pounds, bring them to work and have them stay in dog daycare!* All dogs must pass behavior temperament test and having UTD vaccination records. **Dependent on availability of space in Dog Daycare. This perk is available after the 90 day trial period** - 30% off all Treats/Supplies!!-15% of all Food!!-15%-30% Grooming discount - dependent upon long hair/wired hair and size of dog.Part Time Employees-If your dog is under 30 pounds, bring them to work and have them stay in dog daycare!* All dogs must pass behavior temperament test and having UTD vaccination records. **Dependent on availability of space in Dog Daycare. This perk is available after the 180 day trial period** - 30% off all Treats/Supplies!!-15% of all Food!!-15%-30% Grooming discount - dependent upon long hair/wired hair and size of dog. Company DescriptionWe are a fast growing, upscale, upbeat, healthy and earth friendly pet products and services store. As our company grows, we are always looking to add new members to our team. We look for team members to grow with our company and are looking for individuals to stay with us long term.  In that sense, our recruiting efforts are stringent to find the unique individual. We realize our success is based on our team members.  Without the individual personalities and quirks that shine in and out of the Healthy Spot atmosphere, Healthy Spot would not exist.  As such, we love to promote from within and spend time and resources to foster each team member’s growth.  We are proud to see team members grow from entry level to manager positions and see them gain skills and confidence both professionally and personally!Our Los Angeles stores make customers feel welcomed and at ease! We have expanded into our first store in Costa Mesa in January 2014, and have opened our first Long Beach store location on May 31, 2014! We are committed to unleashing each family's passion for their dogs by offering the finest products and services, quality information and highest care while breeding social awareness of humane compassion and canine education for the community -- all for your dog's mind, body, and bowl.\n",
      "OK\n",
      "The Eleven is a start up studio. We’re obsessed by building great ideas into brilliant businesses, and we’re on a mission to create the best place in the world to do just that.  Our ten year plan is to found 100 new companies by 2025.  We’re looking for an Operations Manager to help make our organisation more effective through process and people, working closely with The Eleven’s founders across the businesses to make sure we continue to make process and people work for us in an efficient way.You will use process to help our teams be more effective in what they do day-to-day, as well as ensuring that as a business we have efficient processes and procedures that are not ambiguous or taxing on the people that run them.  You will be responsible for the design and implementation of processes for hiring, the office and finance across the entire company.Our People allow us to be brilliant at everything we do and so we must continue to develop the greatest possible place to spend our working hours. You will be responsible for the articulation of our culture, from planning our social events to designing and developing new initiatives.\n",
      "OK\n",
      "Please apply for the position as a .Net Developer at In2media by clicking the \"Apply for this job\"-button below.We are looking forward to receiving your application.In2media\n",
      "OK\n",
      "Kappa Search Inc. is a Chicago technical staffing company that specializes in engineering, manufacturing, technical sales and supply chain recruitment and placement. We are currently recruiting for a mechanical design engineer with product development experience. Responsibilities and requirements as follows.Responsibilities:Responsible for producing 3D CAD and other technical drawings for all new product designs and existing products.To provide the required design services (such as CAD &amp; CAE) for NPD and support of existing products and their application, as well as for the modification and further development of these same products.Prepares design concepts, layouts, assembly drawings and schematics as part of the development team.Material and component selection; develops specs for product.Pepares cost estimates based on specs.Performs stress tests, analyzes data, prepares reports, and makes comparisons with similar proven designs.Prepares preliminary and detailed design drawings using Pro/Engineer CAD Directs the work of designers, drafters and technicians as required.Plans and prioritizes the workload of the product design technicians.Conducts specialty projects and performs other related duties as assigned by management. , \n",
      "OK\n",
      "Play with kids, get paid for it :-)Love travel? Openings in China$1500 USD + monthly ($200 Cost of living)Housing providedAirfare ReimbursedExcellent for student loans/credit cardsPlease let us know when you would be looking to start when applying\n"
     ]
    },
    {
     "name": "stderr",
     "output_type": "stream",
     "text": [
      "127.0.0.1 - - [17/Jul/2023 22:46:27] \"\u001b[37mPOST //predict HTTP/1.1\u001b[0m\" 200 -\n",
      "127.0.0.1 - - [17/Jul/2023 22:46:27] \"\u001b[37mPOST //predict HTTP/1.1\u001b[0m\" 200 -\n",
      "127.0.0.1 - - [17/Jul/2023 22:46:28] \"\u001b[37mPOST //predict HTTP/1.1\u001b[0m\" 200 -\n"
     ]
    },
    {
     "name": "stdout",
     "output_type": "stream",
     "text": [
      "OK\n",
      "At Intent HQ we’re tackling some seriously difficult problems, right at the cutting edge of deep consumer analysis. We model user interests and apply this insight to solve challenging consumer problems at scale. Want to draw insights from 20 million detailed social network profiles? In realtime? We do.To help us innovate faster, we’re building a new R&amp;D group. This team is responsible for researching, designing and prototyping algorithms in the machine learning and NLP space. We have an engineering team responsible for the overall platform, who you will work closely with to bring prototypes to production.\n",
      "OK\n",
      "Our client is searching for a strong candidate that has 2 years Grails development experience as well as 3 years Java development experience.This is an excellent opportunity for an ambitious, creative developer that wants to innovate and build what doesn’t exist yet. Working remotely for a well funded company with an existing distributed team. Our client is a cloud platform provider empowering ISVs to provide an awesome SAAS solution to their customers. This company is based in Dublin &amp; San Francisco and embraces the new wave of distributed product development, with the members of our team hailing from all corners of the globe.You will be involved with building of prototypes, developing to specified requirements, and supporting customers. You will provide resource estimate and work schedules for tasks allocated if required and organize your work priorities and time management effectively. Your responsibilities also include researching new tools, techniques and processes, identifying where and how they could benefit the company. You will also need to be a natural fit with the rest of the team.Furthermore we insist that you have a passion for what you do and a hunger for learning new things. The current team are constantly evaluating and trying to better themselves. They will expect you to do the same and – just as important – help others improve as well.\n",
      "OK\n"
     ]
    },
    {
     "name": "stderr",
     "output_type": "stream",
     "text": [
      "127.0.0.1 - - [17/Jul/2023 22:52:06] \"\u001b[37mPOST //predict HTTP/1.1\u001b[0m\" 200 -\n"
     ]
    },
    {
     "name": "stdout",
     "output_type": "stream",
     "text": [
      "Stylect is a dynamic startup that helps helps women discover and buy shoes. We’re a small team based in London that has previously worked at Google, Techstars, Pixelmator and Rocket Internet.We place a high premium on simplicity no matter what we’re working on (i.e. design, programming, marketing). We’re also a team that ships fast. We built version 1 of our app in a week, the next release (built in a month) was featured in the Apple Appstore Italy as a best new fashion app. Fast release cycles are challenging, but also very fun - which is why we love them. As we’ve grown, the projects that we’re working on have grown both in scale and in technical complexity.  Stylect is looking for someone who can help us improve our backend which gathers product data; analyses/categorizes it; and shows it to thousands of users daily. Each step in the process has unique challenges that demands a strong technical background. \n",
      "OK\n",
      "General Summary: Achieves maximum sales profitability, growth and account penetration within an assigned territory and/or market segment by effectively selling the company’s products and/or related services. Personally contacts and secures new business accounts/customers.CORE FUNCTIONS:•Promotes/sells/secures orders from existing and prospective customers through a relationship-based approach.•Demonstrates products and services to existing/potential customers and assists themin selecting those best suited to their needs.DETAILS OF FUNCTION:•Establishes, develops and maintains business relationships withcurrent customers and prospective customers in the assigned territory/market segment to generate new business for the organization’s products/services.•Makes telephone calls and in-person visits and presentations to existing and prospective customers.•Researches sources for developing prospective customers and for information to determine their potential.•Develops clear and effective written proposals/quotations for current and prospective customers.•Expedites the resolution of customer problems and complaints.•Coordinates sales effort with marketing, sales management, accounting, logistics and technical servicegroups.•Analyzes the territory/market’s potential and determines the value of existing and prospective customers value to the organization.•Creates and manages a customer value plan for existing customers highlighting profile, share and value opportunities.•Identifies advantages and compares organization’s products/services.•Plans and organizes personal sales strategy by maximizing the Return on Time Investment for the territory/segment.•Supplies management with oral and written reports on customer needs, problems, interests, competitive activities, and potential for new products and services.•Keeps abreast of product applications, technical services, market conditions, competitive activities, advertising and promotional trends through the reading of pertinent literature and consulting with marketing and technical service areas.QUALIFICATIONS:Demonstrated aptitude for problem-solving; ability to determine solutions for customers (consultative sales approach). Must be results-orientated and able to work both independently and within a team environment. Must possess excellent verbal and written communication skills. Proficiency in using Microsoft Office Suite applications and contact management software. Valid driver’s license.\n",
      "OK"
     ]
    },
    {
     "name": "stderr",
     "output_type": "stream",
     "text": [
      "127.0.0.1 - - [17/Jul/2023 22:52:06] \"\u001b[37mPOST //predict HTTP/1.1\u001b[0m\" 200 -\n",
      "127.0.0.1 - - [17/Jul/2023 22:52:07] \"\u001b[37mPOST //predict HTTP/1.1\u001b[0m\" 200 -\n"
     ]
    },
    {
     "name": "stdout",
     "output_type": "stream",
     "text": [
      "\n",
      "At ustwo™ you get to be yourself, whilst delivering the best work on the planet for some of the biggest and most innovative brands. We have created something special here, with family values underpinning what is an amazing work smart/live well environment. We are dedicated to delivering top notch products on time, but we can always improve and get better at what we do. Our aim is to eliminate the discipline boundaries between our designers, testers and developers and to truly excel as a team. For this we need fresh ideas and we want to inspire people in the studio to let them grow. We believe in an open environment where we learn from our mistakes, so if you are a good listener and are passionate about sharing, helping and motivating people in cross functional teams - please get in touch!\n",
      "OK\n"
     ]
    },
    {
     "name": "stderr",
     "output_type": "stream",
     "text": [
      "127.0.0.1 - - [17/Jul/2023 22:52:07] \"\u001b[37mPOST //predict HTTP/1.1\u001b[0m\" 200 -\n",
      "127.0.0.1 - - [17/Jul/2023 22:52:07] \"\u001b[37mPOST //predict HTTP/1.1\u001b[0m\" 200 -\n"
     ]
    },
    {
     "name": "stdout",
     "output_type": "stream",
     "text": [
      "About EDITDEDITD runs the world's biggest apparel data warehouse, which global and local retailers use to track the market, align product assortment and trade with competitive intelligence. EDITD’s software is the market leader in real-time analytics of pricing, assortment, and deep product metrics for apparel professionals in merchandising, buying, trading and strategy. Used by the world’s best fashion retailers, like Gap, ASOS and Target, across five continents, EDITD helps buyers and merchandisers to make the right trading decisions.The JobIn a direct marketing role, you'll be promoting EDITD product to both existing and potential customers. Your job is to help increase sales by raising the profile of our business, through targeted promotional marketing campaigns and strategies. Your focus will be to deliver the best customer experience through all channels including the website, email and social media. You will work directly with our Marketing Director as well as other team members to deliver top quality content to our customers and to our target audiences. We expect you to be passionate about our product and to be excited about helping us to create highly professional content and campaigns which are also engaging and fun to read.Key Responsibilities:Developing consumer-focused communication campaignsDeveloping nurturing campaigns for marketing leadsOrganising industry and networking eventsPreparing reports based on performance resultsUpdating our press siteManaging our social channelsBuilding rapport and establish relationship with industry professionals and clients.\n",
      "OK\n",
      "As a Web Engineer at Runscope you'll be responsible for building a world-class, high-performance web application used by our customers every day. We win or lose customers based on their interaction with the web app so it's your responsibility to make sure it's a delightful and reliable experience.We're building tools we use ourselves every day, and we have high standards. You should too. We're a small team so everyone is a product manager. You will need to be able to prioritize what's important to build and understand our customers' needs at a very deep level. The tools you build will directly impact other developers so having a strong product vision is important for this role.This is a role for an experienced engineer looking to have significant influence over the direction of a product.\n",
      "OK\n",
      "About the Job:&nbsp;&nbsp;&nbsp;This is a key role in the BI Platform development team.The role will interact with product owner, users and engineers, architects within team to understand business and technical aspects of product.Architect, design and develop high performance, scalable, reliable system in collaboration with a team of engineers.Interface with various teams to define requirements, interfaces and implementation approaches.Influence architecture, design and implementation across adjacent teams.Write high level and detailed technical design of the system.Have ability to work in a fast paced and dynamic work environment and develop robust ETL solution. Work in Agile development model.Have solid understanding of SDLC and project life cycles, strong analytical skills and communication skills.Take ownership of the Hadoop based ETL processes and enhance the same and implement new features and new ETL processes."
     ]
    },
    {
     "name": "stderr",
     "output_type": "stream",
     "text": [
      "127.0.0.1 - - [17/Jul/2023 22:52:07] \"\u001b[37mPOST //predict HTTP/1.1\u001b[0m\" 200 -\n"
     ]
    },
    {
     "name": "stdout",
     "output_type": "stream",
     "text": [
      "\n",
      "OK\n",
      "Customer Care Agent (Night Shift with Spanish)Are you looking for an opportunity to join an exciting company and be part of something really special?  Well how about this… ding* (known as ezetop in our past life) is looking for a vibrant and energetic Customer Care Agent to join our fast growing Online Operations team! Our Customer Operations Supervisors are searching for someone who is quick thinking, patient and passionate about providing a professional, world class Customer Care experience for our customers around the globe.Comprehensive on-going training will be provided but a positive, proactive attitude is the key to being successful in this role! You’ll also be contributing ideas and identifying key trends in queries from our customers and relaying this to the business.Here’s what you’ll do day to day:Manage and resolve customer and client queries raised by phone, email and live chatsIdentify emerging trends and issues and escalate these to your Team LeadEnsure our customers take an awesome experience away from ding* whether online or in retail locationsEnsure responses are sent in a timely, professional manner and meet all established quality and customer satisfaction metricsProvide feedback and information to the business to ensure we continually improve our customer experience!Be part of our 24/7 Customer Care TeamAnd here’s what we’re looking for:Fluent written and spoken Spanish and EnglishKnowledge of Microsoft technologies – Outlook, Word, ExcelA desire to learn, continually improve and a passion for troubleshooting are essentialStrong time management skills, high attention to detail, and the ability to prioritise workloadA good attitude to customer care is vital!Ability to work and contribute as part of a small but dedicated and fast-growing teamP.S.• Previous Customer Care or night shift experience would be great!• Experience working with CRM and contact centre software is an advantage• Additional languages (Italian or French would be a distinct advantage)• Knowledge of e-commerce, online payments, and/or fraud would be fantastic So what’s it like working here?ding* is currently providing 200 people the opportunity to top-up their careers every day. If you’re looking for a regular 9-5 role then this isn’t the place for you. If you want lots of challenges, a long to do list and plenty of opportunities then we’re your kind of place. Like our service, we’re all super fast and super reliable. We’re informal but productive. You’ll be expected to get through high volumes of work and to keep coming back looking for more. In return we throw great parties and like to mark record days or other occasions with impromptu surprises.  Working at ding* gives you the opportunity to work with, and learn from, genuinely passionate and driven people. Like our customers, our team members have joined us from all around the world. We come from different cultures, speak different languages yet we all share one thing in common; we care about sending top-up instantly and reliably.If you’re lucky enough to join the team, you’ll get to work in a great office environment without a gimmicky music room or sleep area but with truly spectacular coffee. And the best bit……we don’t hire schmucks, only team players with a sense of fun. ding*ding* is the world’s largest top-up provider. Created to help people working abroad to support and keep in touch with loved ones back home, ding* provides the simplest, quickest and best top-up service ever. By keeping mobiles topped up, ding* is making a real difference to people’s lives.We’ve our head office in Dublin and also have homes in Miami, Dubai, Bucharest, Barcelona, Dhaka and San Salvador. \n",
      "OK"
     ]
    },
    {
     "name": "stderr",
     "output_type": "stream",
     "text": [
      "127.0.0.1 - - [17/Jul/2023 22:52:07] \"\u001b[37mPOST //predict HTTP/1.1\u001b[0m\" 200 -\n",
      "127.0.0.1 - - [17/Jul/2023 22:52:07] \"\u001b[37mPOST //predict HTTP/1.1\u001b[0m\" 200 -\n"
     ]
    },
    {
     "name": "stdout",
     "output_type": "stream",
     "text": [
      "\n",
      "Play with kids, get paid for it.Vacancies in Asia$1500 USD + monthly ($200 Cost of living)Housing providedAirfare ReimbursedExcellent for student loans/credit cardsGabriel Adkins (#URL_ed9094c60184b8a4975333957f05be37e69d3cdb68decc9dd9a4242733cfd7f7#)#URL_75db76d58f7994c7db24e8998c2fc953ab9a20ea9ac948b217693963f78d2e6b#We are looking for friendly people. If you do not plan to take part in a 3-5 minute interview, kindly do not waste your time applying :-)\n",
      "OK\n"
     ]
    },
    {
     "name": "stderr",
     "output_type": "stream",
     "text": [
      "127.0.0.1 - - [17/Jul/2023 22:52:07] \"\u001b[37mPOST //predict HTTP/1.1\u001b[0m\" 200 -\n"
     ]
    },
    {
     "name": "stdout",
     "output_type": "stream",
     "text": [
      "At VML, testing is an integral part of our software development process. Beyond merely a final quality assurance check before a project goes out the door, we assure quality by building in testing and planning for testing from day one of our projects. Using both manual inspection and automated methods, our software has been tested thousands of times before going live. The increasingly complex high availability – high performance web applications, mobile sites and applications and digital experiences we build require quality software engineering and the VML system testing team is our backstop to make sure our development is as good as can be.As such VML are looking for a Junior System Test Analyst to join our team and help improve the quality level even further. We are looking for someone who is passionate about testing and quality. As a Digital Agency, the range of VML’s products include everything from eCRM and eNewsletter campaigns, social networking apps, complex mobile websites as well as some of the UK’s most popular websites, and as part of our testing team you will be working across all of these, often at the same time!\n",
      "OK\n",
      "The JobBuild relationships with the mentor, investor, media, and partner ecosystem – communicate and manage for a long-term relationship with SeedcampWork closely with entrepreneurs applying to and participating in Seedcamp programmeOrganizing and involving mentors for Seedcamp Week, Academy, US tripSpeak about Seedcamp at public events - both Seedcamp and non-Seedcamp eventsUse startup products, stay up to date and knowledgeable about what new products and tech are emergingSupport the Seedcamp selection and investment processOften the first point of contact for our portfolioAbout YouLive and breathe technology and startups and are passionate about empowering founders and growing the startup communityCombination of gravitas (with the network) and being a peer with foundersGregarious, engaging, smart, high integrityHave experience working in startup environment, you have solid knowledge about marketing, growth and product as relevant for startups.Experience with managing content (events, publications/blogs, etc).Experience collecting and analysing metrics - you can data crunch with our startups.Bonus PointsTalk the talk and walk the walk with startup foundersWork with great tech toolsTo apply for the role please upload an up-to-date copy of your CV with a short covering note. Be sure to include links to your work and show us how awesome a tech writer you are.Questions: careers [at] #URL_0a8a7864538bfc4aeac7fb8016ef568e0acfdfc39a7907bd06076e93132d669c#\n"
     ]
    },
    {
     "name": "stderr",
     "output_type": "stream",
     "text": [
      "127.0.0.1 - - [17/Jul/2023 22:52:08] \"\u001b[37mPOST //predict HTTP/1.1\u001b[0m\" 200 -\n",
      "127.0.0.1 - - [17/Jul/2023 22:52:08] \"\u001b[37mPOST //predict HTTP/1.1\u001b[0m\" 200 -\n"
     ]
    },
    {
     "name": "stdout",
     "output_type": "stream",
     "text": [
      "OK\n",
      "Blueprint Health is the leading healthcare accelerator on the East Coast.  We have invested in over 53 companies in three years and have a mentor community that includes some of the most successful healthcare entrepreneurs.  The accelerator has been run to-date by a small team consisting of the two founders, Dr. Brad Weinberg and Mat Farkash, and Doug Hayes.This is a rare opportunity to join the senior management team of one of the most successful healthcare accelerators.  We are seeking entrepreneur, optimally someone who has built and successfully sold a healthcare technology company, to serve as a Managing Director for the 2015 and 2016 Blueprint Health Accelerator Programs.The Managing Director will work directly with the founders of Blueprint Health and will be responsible for attracting applicants, reviewing applications, helping select investments, engaging the mentor community, overseeing program events, mentoring portfolio companies, and managing the P&amp;L of the business.  You will also learn and get to participate in the fundraising process for future Blueprint Health funds.This is a great opportunity to take to consolidate what you have learned from you last start-up, to establish an investment track record, and to engage in the New York healthcare eco-system from a well-respected platform.ResponsibilitiesSource applicants for each program by reaching out to our network, monitoring start-ups on sites like AngelList and MedCity, attend conferences and speaking eventsReview applications and oversee the management of the application process in a founder friendly manner (we aim for 48 hour response times)Make sure the web site is updated after key events (e.g. application period closes, demo day invites are open)Ensure that companies smoothly transition into the program by communicating with them before the program beginsManage the day to day operations of the program, including scheduling one-on-ones, sending event invites, preparing for family nights, and holding office hoursExecute the Blueprint Health company development process, including reviewing and editing sales and investor content from the teamsMaintain and build new relationships with mentors, sponsors, and investorsProvide the management team with a weekly report that summarizes the program KPIs and highlights any areas you need assistance withSource and assist program associatesOversee the P&amp;L of the accelerator\n",
      "OK\n",
      "ABOUT US:1871 is an entrepreneurial hub for digital start-ups and is the largest tech incubator in the U.S. with over 250 Member companies! Are you an UX Engineer/Analyst that has a passion for technology &amp; entrepreneurship? Have you heard about 1871 and are eager to be part of a Start Up and create something amazing? Confused about where to start your search in our community? By submitting your resume here, you will be considered for employment opportunities with our Start-Ups!OUR STORY:The story of the Great Chicago Fire of 1871 isn’t really about the fire. It’s about what happened next: A remarkable moment when the most brilliant engineers, architects and inventors came together to build a new city. Their innovations – born of passion and practical ingenuity – shaped not just Chicago, but the modern world. What started 140 years ago continues to this day.Chicago’s brightest digital designers, engineers and entrepreneurs are shaping new technologies, disrupting old business models, and resetting the boundaries of what’s possible. If that sounds like you, you might be a great addition to one of our Member companies! 1871 is a place where you can share ideas, make mistakes, work hard, build your business and, with a little luck, change the world.Our Members are always looking for top talent that has a passion for the start-up community and an entrepreneurial mindset. Above all, they're searching for creative thinkers who are motivated by creating products and services that will permeate, disrupt, and innovate the market. Many of our Members are currently hiring. If you're interested in employment opportunities in our community, submit your resume for consideration!\n"
     ]
    },
    {
     "name": "stderr",
     "output_type": "stream",
     "text": [
      "127.0.0.1 - - [17/Jul/2023 22:52:08] \"\u001b[37mPOST //predict HTTP/1.1\u001b[0m\" 200 -\n",
      "127.0.0.1 - - [17/Jul/2023 22:52:08] \"\u001b[37mPOST //predict HTTP/1.1\u001b[0m\" 200 -\n",
      "127.0.0.1 - - [17/Jul/2023 22:52:08] \"\u001b[37mPOST //predict HTTP/1.1\u001b[0m\" 200 -\n"
     ]
    },
    {
     "name": "stdout",
     "output_type": "stream",
     "text": [
      "OK\n",
      "Job Summary:Positions, reworks, fits and welds according to written and typed instructions, blueprints, manufacturer's specifications and knowledge of characteristics of metal. Selects equipment and plans layout, fabrication, assembly and welding. Knowledge of Sub Arc Welding is a plus\n",
      "OK\n",
      "You Don't Know It AllYet.But you're not afraid to learn. In fact, you love learning. Can't get enough of it. And you're not completely green, you've been hanging around the marketing space for awhile and you know you're going to crush it.We're hiring someone amazing that knows a little about online marketing but wants to know it all. This is a paid internship that will lead to a permanent position.Please see site for full details BEFORE applying:#URL_b5fc7eb51433d61c8880e5fda02e183861992844172b638478ad87de73658003#\n",
      "OK\n"
     ]
    },
    {
     "name": "stderr",
     "output_type": "stream",
     "text": [
      "127.0.0.1 - - [17/Jul/2023 22:52:08] \"\u001b[37mPOST //predict HTTP/1.1\u001b[0m\" 200 -\n",
      "127.0.0.1 - - [17/Jul/2023 22:52:08] \"\u001b[37mPOST //predict HTTP/1.1\u001b[0m\" 200 -\n",
      "127.0.0.1 - - [17/Jul/2023 22:52:08] \"\u001b[37mPOST //predict HTTP/1.1\u001b[0m\" 200 -\n"
     ]
    },
    {
     "name": "stdout",
     "output_type": "stream",
     "text": [
      "The Videographer / Editor / Photographer will work closely with the creative team to shoot, edit, and produce short videos for the editorial and ecommerce partner sites. You will be involved in a wide variety of projects, from ‘how to’ advice videos to fashion lookbook videos, as well as documenting travel lifestyle videos.We are looking for a confident and organised person who loves a challenge and creating beautiful art.Some responsibilities include but are not limited to:Shooting and editing compelling video projects from start to finish - including both editorial short and long form as well as branded and commercial content.Working with the creative team on scheduling and delivering content for internal review and publication      Uploading content to our partner and social channels      Maintaining organized archive of video content      Travelling with the creative team About the Company:Dreamers &amp; Creators is a creative agency that begun as a means for its founders to pursue varied creative interests. We are a marketing strategy and execution firm for the entrepreneurial enterprise. We also specialize in branding, filmmaking and design. We create fascinating brand strategies, products, and one-of-a-kind experiences for select few clients.We are expanding fast and would like you to be part of the journey.\n",
      "OK\n",
      "Mass-market adaption of mobile and social is driving change at an unprecedented rate in the online travel sector. People are searching out new online experiences from research, booking, and right through to online feedback. This will create new commercial opportunities which we want to be prepared for.We’re looking for somebody who’s passionate about the underlying trends driving this change and identifying opportunities we should be working on.\n",
      "OK\n",
      "Looking for a change?  Not happy where you are?  Then give us a call!!Network Closing Services, Inc., a full service Title Company is seeking Title/Escrow Closers with a book of business.  We are growing, come join a winning team!Network Closing Services has been serving Lenders, Real Estate Consumers, and Professionals since 1999.  We provide courteous professional services, speedy title searches, and timely disbursements.  Dynamic flexibility is key to our success.  Our Client satisfaction is very important.  We provide experienced settlement officers and attorneys anywhere in the country, day or night, to perform a closing. Our staff is committed to providing our customers a level of service that is unparalleled in the title industry.  Today's competitive market requires more than dedication and experience. It requires proven expertise, irrepressible vision and tightly orchestrated teamwork. Network Closing Services incorporates these essential qualities into every facet of every service we offer. We successfully deliver innovative, high-volume, regional closing services.Close residential purchase/sale transactions, in accordance with closing instructions from lender and sellerPrepare and package all documents to ensure recordingsPrepare all closing documents to ensure Title issues are resolved and Title Insurance is issued at closingConduct closing with customer, realtor, lenders, and attorneysCollect and disburse funds in accordance with escrow instructionsPrepare settlement statements including HUD and GFESend HUD's to appropriate parties and wire transfer informationMaintain and establish new client relationshipsWe operate in a paperless environment – Faster ServiceEmmanuel Sanchez#PHONE_dc5cff94cbcc4ac18e1234a2e6521946ae7d722bdf66cfc1af3aeca9255aee0d##URL_1bdaa45fd1ec77ea7879abfceafd610ca4fa9b4eb30eb6fa5f39b9ffac8a8c5a#                                                         *Openings throughout Florida                                                         *Independent settlement closers Not being considered                                                         *Mortgage closers Not being considered\n",
      "OK\n",
      "Play with kids, get paid for it Love travel? Jobs in Asia$1,500+ USD monthly ($200 Cost of living)Housing provided (Private/Furnished)Airfare ReimbursedExcellent for student loans/credit cardsGabriel Adkins : #URL_ed9094c60184b8a4975333957f05be37e69d3cdb68decc9dd9a4242733cfd7f7##URL_75db76d58f7994c7db24e8998c2fc953ab9a20ea9ac948b217693963f78d2e6b#12 month contract : Apply today "
     ]
    },
    {
     "name": "stderr",
     "output_type": "stream",
     "text": [
      "127.0.0.1 - - [17/Jul/2023 22:52:08] \"\u001b[37mPOST //predict HTTP/1.1\u001b[0m\" 200 -\n",
      "127.0.0.1 - - [17/Jul/2023 22:52:08] \"\u001b[37mPOST //predict HTTP/1.1\u001b[0m\" 200 -\n",
      "127.0.0.1 - - [17/Jul/2023 22:52:08] \"\u001b[37mPOST //predict HTTP/1.1\u001b[0m\" 200 -\n"
     ]
    },
    {
     "name": "stdout",
     "output_type": "stream",
     "text": [
      "\n",
      "OK\n",
      "1.    Technical Lead - Rhomobile Technical Mobility Lead Developer  NOTES-  In case if Rhomobile is difficult to find, Please find people with expertise in Android development with, DOJO, CSS Location: San Francisco/ San Ramon, CADuration: 1 year Required Competencies: Should have around 6-10 yrs of IT Experience- out of which minimum 2yrs as Tech Lead of Mobile ProjectsExperience in RhoMobile Platform for atleast 6 MonthsShould be experienced in Cross Platform Mobile apps.Proficiency in atleast one Native Platform – iOS or AndroidHands-on Experience essentialShould be able to lead a team and guide them in Technical challengesShould be able to estimate and plan for the various activitiesIntegration Experience with Backend Systems Essential. Out of this , SAP Integration Experience is desirableESRI ArcGIS Knowledge Essential  Thanks and Regards J.SandeepTechnical RecruiterTekWissen LLC | W: #PHONE_b464fe6050e48f0c36d00501265378e9581d5d65c73f8e39865543c69aaab557# | Desk: #PHONE_46ed5da44d683bbb700c54f51cd225fc80203b64e1c674f7e6d9f826a0223f31# Ext 299 | Fax #PHONE_c92713f1c7155e946cc5b07c854ce554f3c95f79f2cbd98500e3cfa2db4ba406#|| #EMAIL_5f904f421f564976259f740a5c3ee9868cab5264ce252cf686be79da28bffd45# |  321 S Main street Suite #300 Ann Arbor MI – 48104| #URL_3b7a90492e728246f2b56db07b079519d22b68faf5d8bbbd4e11a827db01e3ea#\n",
      "OK\n",
      "Social Care Alba is the highest quality Care at Home Provider in Scotland. We are an Investor in People and Healthy Working Lives award winner.Following significant success and growth, Social Care Alba is actively recruiting Care Workers (Personal Assistants).  You would be responsible for providing the highest quality care at home support, including monitoring service users health &amp; well-being, and help in administering medication. You will work with and learn from our team of experienced Nurses, Social Workers, Occupational Therapists, Physiotherapist and Pharmacists.Be part of a company that makes a real difference to people lives.  Your day to day tasks would include:Providing individual care and support to people in their own homes. This may include cleaning, washing and dressing, providing meals and maintaining community links.You may also assist people with continence promotion, catheter care, stoma care, peg feeding, administering medication, oral health and moving and assisting.You will be expected to maintain personal files and act as a key worker to service users.\n",
      "OK\n",
      "WRAYS PHARMACY INC. seeks to expand and upgrade it's current infrastructure and is therefore in need of qualified Management Professionals. We are seeking individuals who will be responsible for book-keeping, inventory accounting, customer service, and general maintenance of the store.General Managers will work in shifts and will be required operate the shop daily. Working as a team, Managers must delegate responsibilities to others so that all daily tasks are accomplished before the beginning of the next business day.This is where leadership qualifications will be looked at the most. There is much room to move up the ladder within the Company.WRAYS PHARMACY INC. is an Equal Opportunity Employer.All Applicants Welcome.\n"
     ]
    },
    {
     "name": "stderr",
     "output_type": "stream",
     "text": [
      "127.0.0.1 - - [17/Jul/2023 22:52:08] \"\u001b[37mPOST //predict HTTP/1.1\u001b[0m\" 200 -\n",
      "127.0.0.1 - - [17/Jul/2023 22:52:08] \"\u001b[37mPOST //predict HTTP/1.1\u001b[0m\" 200 -\n",
      "127.0.0.1 - - [17/Jul/2023 22:52:09] \"\u001b[37mPOST //predict HTTP/1.1\u001b[0m\" 200 -\n"
     ]
    },
    {
     "name": "stdout",
     "output_type": "stream",
     "text": [
      "OK\n",
      "Looking for an experienced Java Architect for an immediate opening.\n",
      "OK\n",
      "The Customer Service Associate will be based in Richardson, TX. The right candidate will be an integral part of our talented team, supporting our continued growth.Responsibilities:Perform various Mail Center activities (sorting, metering, folding, inserting, delivery, pickup, etc.)Lift heavy boxes, files or paper when neededMaintain the highest levels of customer care while demonstrating a friendly and cooperative attitudeDemonstrate flexibility in satisfying customer demands in a high volume, production environmentConsistently adhere to business procedure guidelinesAdhere to all safety proceduresTake direction from supervisor or site managerMaintain all logs and reporting documentation; attention to detailParticipate in cross-training and perform other duties as assigned (Filing, outgoing shipments, etc)Operating mailing, copy or scanning equipmentShipping &amp; ReceivingHandle time-sensitive material like confidential, urgent packagesPerform other tasks as assignedScanning incoming mail to recipientsPerform file purges and pullsCreate files and ship filesProvide backfill when neededEnter information daily into spreadsheetsIdentify charges and match them to billingSort and deliver mail, small packages\n",
      "OK\n",
      "Hi,Hope you are doing well.Position: Java/J2EE Sr Developer 9+ yrs Exp Needed Location: Dallas, TXDuration : 12 + MonthsBack-End Developers primary responsibility will be designing/coding the back-end/business logic of the applicationCandidates must know best practices development and know/follow coding standardsCandidates need to have a solid understanding of OO Design and recent experience with the following technologies:Java, JEE, Struts and/or Spring, Hibernate, JBoss, EJB, XML, JMS, and strong SQL knowledge The following skills/knowledge are a PLUS:CMS and Mobile DevelopmentSecure Coding PracticesPCI Data Security StandardsOWASP (Open Web Application Security Project)Regards,Vijay"
     ]
    },
    {
     "name": "stderr",
     "output_type": "stream",
     "text": [
      "127.0.0.1 - - [17/Jul/2023 22:52:09] \"\u001b[37mPOST //predict HTTP/1.1\u001b[0m\" 200 -\n",
      "127.0.0.1 - - [17/Jul/2023 22:52:09] \"\u001b[37mPOST //predict HTTP/1.1\u001b[0m\" 200 -\n",
      "127.0.0.1 - - [17/Jul/2023 22:52:09] \"\u001b[37mPOST //predict HTTP/1.1\u001b[0m\" 200 -\n"
     ]
    },
    {
     "name": "stdout",
     "output_type": "stream",
     "text": [
      "\n",
      "OK\n",
      "Our Company, Replise, a growing and exciting social media analytics company has an immediate need for a Senior Front End Developer for a permanent position.In this role, you will collaborate with the dev team and cross-functionally (Designers, UX, and PMs) to create exciting and interactive experiences. This is a fast-paced environment that is always changing, yet stable and creative.Responsibilities:Work with the Front End and internal business teams to develop client softwareIdentify requirements and suggest solutions necessary to meet those requirementsLead development to a completed solutionServe as a resource for scoping and scheduling of projectsWrite standards-compliant Front End code using Javascript, CSS, and HTMLTranslate visual designs, user experience flows, and content into functional and engaging interfacesChoose proper technologies based on requirements and design\n",
      "OK\n",
      "Fleksy, is the next generation smart keyboard that lets you type on a touch-screen, without even looking at the screen. Fat fingers everywhere rejoice - we've solved this problem!Holders of the Guinness World Record title for the fastest keyboard in the world (officially!), Fleksy is also the first company to ship a keyboard on a smartwatch, to enable typing in 3-D (with Leap Motion), and to enable truly blind typing on a smartphone. We are venture-backed by leading VC funds including Kleiner Perkins and Highland Capital Partners.Since launching in December, Fleksy has already become the fastest growing keyboard company with millions of downloads. We are also one of the most anticipated products to launch with iOS 8. Apple is, for the first time, allowing third party keyboards on iOS, which makes this a fantastic time for our company.We are now preparing to take our technology to the next level, and are looking for motivated engineers to join our team.You will be working as part of the team that develops the Android Application side of our app. Our Android app has already been downloaded over 2 million times - and we are currently working with a number of partners on projects to bring our user base to the tens of millions of users in the coming months. Up for the challenge?\n",
      "OK\n"
     ]
    },
    {
     "name": "stderr",
     "output_type": "stream",
     "text": [
      "127.0.0.1 - - [17/Jul/2023 22:52:09] \"\u001b[37mPOST //predict HTTP/1.1\u001b[0m\" 200 -\n",
      "127.0.0.1 - - [17/Jul/2023 22:52:09] \"\u001b[37mPOST //predict HTTP/1.1\u001b[0m\" 200 -\n",
      "127.0.0.1 - - [17/Jul/2023 22:52:09] \"\u001b[37mPOST //predict HTTP/1.1\u001b[0m\" 200 -\n"
     ]
    },
    {
     "name": "stdout",
     "output_type": "stream",
     "text": [
      "As an Outside Sales Representative, you must have excellent sales talents as well as the willingness to learn the ABC Supply sales approach. It will also be very helpful to your role as an Outside Sales Representative if you have existing knowledge of exterior building product lines such as siding, roofing, and windows.  This will not only to lend credibility to your sales presentations, but also to assist the Branch Manager in the selection of new product lines. It is also vital for your role as an Outside Sales Representative that you have empathy for your customers and their needs, and always provide them with the best possible service.\n",
      "OK\n",
      "Let's post here candidates we like but don't have an open position for.\n",
      "OK\n",
      "We are currently looking for an Administrative Assistant to work on-site in our Bellingham office.  Successful candidates will be highly capable in a vast array of administrative skills and be highly flexible to meet the changing needs of the company.  This position will work directly with the Corporate and Accounting team and perform many duties requiring proficiency with computer usage, excellent communication skills, and top-notch organization skills.  A successful candidate must be able to juggle the needs of multiple managers while organizing their schedule to ensure priority goes to the most critical duties. Key Responsibilities:Provide administrative support to executives and finance department managerBook travel arrangementsHelp plan and execute company eventsData entry, including entering bills and charges into financial software. Assist the finance department with Account Receivable analysis and communication.Assist members of corporate team with other miscellaneous tasks and projects as needed. Maintain an orderly and efficient company officeOrder and maintain office suppliesMaintain electronic and manual filing of documents and paperwork.Help ensure a clean and organized company office, including but not limited to tidying up common areas, washing towels, keeping general office décor fresh and appealing, and help manage cleaning services as needed.Open incoming mail and office packages and distributeRespond to or forward general company emails.Answer or forward general company phone calls and voice messagesOther miscellaneous duties as needed  \n",
      "OK\n",
      "Critical Nurse Staffing, Inc. is looking for a Human Resource Generalist who will also be responsible for working with employee benefits. This position is responsible for the administration and oversight of CNS’s benefit plans including but not limited to Medical Insurance. This person will assist employees with benefit enrollment, changes and education, maintaining employee database, tracking all eligible employees, and maintaining employee files and assist with process of hiring new employees.Must be able to work in a team, demonstrate initiative and skills in planning and organizing work, document all processes in a timely manner, utilize interpersonal skills, and communicate effectively with diverse employee population.Apply online at #URL_3de7bc96a866b70cd19961fa0408e18bb9099c46402d5b8131207082ff0dd3b6# or send a resume to #EMAIL_d959ebabd9fb698f62b107e34f1fdd15c8e496c70693ade74366c4ebc8d3f99c#.\n",
      "OK"
     ]
    },
    {
     "name": "stderr",
     "output_type": "stream",
     "text": [
      "127.0.0.1 - - [17/Jul/2023 22:52:09] \"\u001b[37mPOST //predict HTTP/1.1\u001b[0m\" 200 -\n",
      "127.0.0.1 - - [17/Jul/2023 22:52:09] \"\u001b[37mPOST //predict HTTP/1.1\u001b[0m\" 200 -\n",
      "127.0.0.1 - - [17/Jul/2023 22:52:09] \"\u001b[37mPOST //predict HTTP/1.1\u001b[0m\" 200 -\n"
     ]
    },
    {
     "name": "stdout",
     "output_type": "stream",
     "text": [
      "\n",
      "Experienced Restaurant Accountant and Operations Manager NeededIf you can bring energy, enthusiasm and enjoy directly advising business owners; we would like to meet you. O|Miga is a fast growing, St Louis based accounting and back office services firm with national and local clients. We provide accounting, payroll, HR and other support services to our fast growing and high performing organizations.  One of our key and expanding customer segments is the restaurant industry, and we are looking for candidates with experience in restaurant operations, finance and accounting.   Our unique delivery model enables our team to help our clients to improve and grow their operations.  Our clients are able to grow faster because we deliver more than just the numbers. We get the work done that prevents them from focusing on their core business.Our Associates have a broad base of business knowledge with specific skills in accounting, finance  and human resources. They must combine these with exceptional communication skills and a high attention to detail. Strong technical skills are also highly valued.Select Job Responsibilities Include:Posting daily banking transactionsResponding to client inquiries and requestsMaintain Employee Records:  Including onboarding; payroll; benefits; performance management and termination recordsProcessing Accounts Payable ; including: Review and approve all payments for accuracy prior to being processed; Obtain appropriate client approvals for payment processing. Reporting &amp; Analysis; including: preparing management reports, operational and profitability analysis; developing recommendations for improvement; and preparing budgets and cash forecastsExecuting Month End Close; including bank reconciliations; monthly journal entries; and variance analysesMaintaining Corporate Records, including: Contracts; shareholder records; tax records; corporate registrations; business licenses; and other local, state and federal records of the business.\n",
      "OK\n",
      "PURPOSE/FUNCTION:This position is responsible for answering calls on potential referrals, reviewing referrals for new patients and responding to inquiries on company services.  This position ensures that all intake forms are complete, accurate and within HealthCare California’s guidelines. ESSENTIAL FUNCTIONS:Ensures that authorizations are received and requested, as needed, for new referralsReceives and processes heavy phone orders from physicians and other community resources in a timely mannerVerifies new orders for new or existing patients and scheduling questions for all departments as identified by directorEnters patient demographics into the computer, generates certificates of medical necessity to DME patients, and communicates with other departmentsInteract with Marketers to collaborate on admitting new referrals and retaining referralsAssist the Marketing Department with after-hours marketing events\n",
      "OK\n"
     ]
    },
    {
     "name": "stderr",
     "output_type": "stream",
     "text": [
      "127.0.0.1 - - [17/Jul/2023 22:52:09] \"\u001b[37mPOST //predict HTTP/1.1\u001b[0m\" 200 -\n",
      "127.0.0.1 - - [17/Jul/2023 22:52:09] \"\u001b[37mPOST //predict HTTP/1.1\u001b[0m\" 200 -\n",
      "127.0.0.1 - - [17/Jul/2023 22:52:09] \"\u001b[37mPOST //predict HTTP/1.1\u001b[0m\" 200 -\n"
     ]
    },
    {
     "name": "stdout",
     "output_type": "stream",
     "text": [
      "We are seeking a Marketing Representative for our promotions division. The Marketing Rep will be responsible for contracting area customers who are interested in replacing their home improvement products.The responsibility of the Marketing Rep is to identify potential homes and set up an appointment with home owners that are interested in replacing their home improvement products.Responsibilities:- Canvass designated territory and identify suitable homes that qualify for products and promotions- Contact homeowners and set up appointments to have a Sales Rep demo our products. There is no selling!- Maintain relationship with new and current customers- Attend events to promote out company\n",
      "OK\n",
      "SimilarWeb is on search of a driven Head of Performance Marketing, to develop and evolve acquisition strategy. You will work across PPC, Media Buying and Affiliate Marketing in order to generate traffic.As Head of Performance Marketing you will oversee the demand generation strategy, execution and budgets and be accountable for the traffic generation results.Key ResponsibilitiesProducing traffic generation goals and  forecastsManaging large marketing budgetsMonitoring and analyzing performance against traffic, CPA, and ROI goalsContributing to integrated campaign strategy and plans, outlining key marketing themes, messages and offers throughout the yearOverseeing the campaign planning and strategy\n",
      "OK\n",
      "Successful and profitable start-up looking for an Ad Monetisation expertMAG Interactive has rapidly become one of the fastest growing mobile gaming companies in Sweden and is well recognised worldwide.More than 50 million fans enjoy playing Ruzzle and QuizCross and have played more than 10 billion rounds so far.We are now looking for an Ad Monetisation expert to join our journey. We believe our team is what makes us unique and we always welcome extraordinary additions to our family. If you are a user acquisition expert with a relevant track record that speaks for itself and committed to contribute on our successful journey, we would love to hear from you. \n",
      "OK\n",
      "At #URL_98b636c960adbebef086a07c092e13b1e36310114bbd8fb6c9a2f0c4cf3a916f# we are rethinking the way we interact with unknown locations and our goal is to make any location accessible and open through its people. dopios is a recently funded startup (TechCrunch article) and one of the up and coming Travel companies.Our “secret sauce” is our community as well as the way we communicate with the prospective travelers and locals. You can help us define, build and expand that community one person at a time and brind dopios to a much larger audience.We strongly believe that at the core of our existence is our users, and especially the locals who act as the “face of dopios” in any location. In order to do a outstanding job, we need great people in each location that will bring more great people, who will bring.. well you know the rest.This position is of great importance to us and we want an eager and extremely communicative candidate to get their hands around it. If you think you can help us bring together the most amazing group of locals in Greece and around the world, you have our full attention.What You'll Do: Be in charge of th dopios community (lead the application process for locals, interview locals through Skype for verification, test dopios experiences in Athens, be responsible for all dopios members who want to grow the dopios community in their cities, gather user ideas and produce insights for product improvement)Assist with overall online marketing tasks (edit or draft social media posts, assist with the placement and tracking of digital advertising, research 3rd party networks that we could leverage, help with email marketing tasks)Prepare product and web analytics reports (produce weekly analytics reports from social, product and overall presence, research and propose insights for search ranking improvements)Assist with Marketing Campaigns (prepare briefs, do market research, edit or draft marketing material, be in charge of Newsletter)Assist with Public Relation tasks (draft Press Releases, monitor and record printed and online press coverage for #URL_98b636c960adbebef086a07c092e13b1e36310114bbd8fb6c9a2f0c4cf3a916f#, research suitable media outlets, draft articles and general media material)Assist with the planning and production of events (assist with project plan, research for various suppliers, coordinate internal and external communications)\n",
      "OK"
     ]
    },
    {
     "name": "stderr",
     "output_type": "stream",
     "text": [
      "127.0.0.1 - - [17/Jul/2023 22:52:09] \"\u001b[37mPOST //predict HTTP/1.1\u001b[0m\" 200 -\n",
      "127.0.0.1 - - [17/Jul/2023 22:52:09] \"\u001b[37mPOST //predict HTTP/1.1\u001b[0m\" 200 -\n",
      "127.0.0.1 - - [17/Jul/2023 22:52:10] \"\u001b[37mPOST //predict HTTP/1.1\u001b[0m\" 200 -\n",
      "127.0.0.1 - - [17/Jul/2023 22:52:10] \"\u001b[37mPOST //predict HTTP/1.1\u001b[0m\" 200 -\n"
     ]
    },
    {
     "name": "stdout",
     "output_type": "stream",
     "text": [
      "\n",
      "The Client Account Manager will be located in Windsor CT.  The right candidate will be an integral part of our talented team, supporting our continued growth. The Client Account Manager is responsible for ensuring Service Level Agreements (SLAs) are met on a consistent basis  (Mail, Document Imaging/Scanning and Fulfillment production workflow) communicating workflow status to operations management and working with customer to fulfill contractual obligations, identify business opportunity and grow service offering.  In order to achieve these objectives, the Client Account Manager will be expected to maintain a high level of client contact and customer satisfaction (SLA attainment) and develop site personnel to meet or exceed customer and Novitex objectives. Candidates must have High School Diploma, proven leadership experience, minimum of 2 years supervisory experience, minimum of 3 years customer service experience and a minimum of 1 year experience in a Document Imaging and Indexing environment, preferably in the Healthcare industry. The ideal candidate will have an undergraduate degree. This person must have a valid driver's license and a good driving record.Responsibilities:Monitor workflow and productivity measurements.Maintain and update work instructions for production services and provide continuous improvement to workflow operations.Quality/Workflow compliance - demonstrate commitment and enthusiasm and utilization of quality tools to drive SLA attainment and exceed client expectations.  Ensure service levels are clearly communicated, understood, and performed by on-site staff.Customer Service – establish effective working relationship with key customer contacts, including workflow evaluation, presentation of service results; communicate process improvements as the benefit customer results.Travel to customer locations, as required for Partnership Meetings.Utilizes technology to perform tasks efficiently and demonstrates the ability to communicate effectively both orally and written.Project manage and coordinate tasks associated with customer driven initiatives.Position may require Business Solutions Analyst to perform site activities due to unanticipated volume increases, staffing coverage issues and/or special project needs requested by clients. Produce daily, weekly and monthly productivity reports.Understands basic information on core Novitex service/solutions offerings to work effectively with Manager - Client Services in generating leads for site growth and competitive take-a ways. \n",
      "OK\n",
      "We have several openings available in this area earning $1000.00-$2500.00 per week. We are seeking only honest, self-motivated people with a desire to work in the home typing and data entry field, from the comfort of their own homes.The preferred applicants should be at least 18 years old with Internet access. No experience is needed. However the following skills are desirable:  \n",
      "OK\n",
      "In this role the Software Developer Analyst, will work closely with a highly talented team to build and deploy enterprise business applications.  They will have involvement in  the entire development process, for design to the implementation of the application.  The Software Developer Analyst will also work closely with the JAD on web applications, including but not limited to technical and functional design, database design, as well as user interface design.Software Developer Analysts Qualifications: - Strong IT and software development experience - Experience with full development lifecycle, core design patterns and best practices - Experience building enterprise level solutions\n",
      "OK\n",
      "This role is primarily to farm and grow our Houston, TX based clients and prospects Build Visual BI's BI Center of Excellence and BI Practice Competencies Become Integral Part of Visual BI's Vision to be the Best BI Consulting and Solutions Firm Execute BI Strategy by leveraging SAP BW and HANA capabilities as Enterprise Data Warehouse(EDW). Provide solutions architecture oversight for new development projects in support of our client's BI programBuild Project Plan timelines and Ensure BI Project Executions to those timelines and budget. Ensure adoption of best-in-class practices and standards for development, support, quality control and documentationWork with stakeholders to analyze business requirements, and define target SAP BI/BW solution architecture and associated technical specifications &amp; implementation planLead large cross functional teams including client staff and implementation team to accomplish successful completion of one or more solution requirements, architecture, or implementation deliverablesExcellent BI Thought Leadership and Content writing for Blogs and Visual BI News Letters Write Detailed and Descriptive Proposals, Statement of Work (SOW), and Project Plans Manage and Develop of Visual BI team of Consultants and Developers Work independently with minimal supervisionWill be required to commit to 50% travel to client locations and is negotiable for right candidates  "
     ]
    },
    {
     "name": "stderr",
     "output_type": "stream",
     "text": [
      "127.0.0.1 - - [17/Jul/2023 22:52:10] \"\u001b[37mPOST //predict HTTP/1.1\u001b[0m\" 200 -\n",
      "127.0.0.1 - - [17/Jul/2023 22:52:10] \"\u001b[37mPOST //predict HTTP/1.1\u001b[0m\" 200 -\n"
     ]
    },
    {
     "name": "stdout",
     "output_type": "stream",
     "text": [
      "\n",
      "OK\n",
      "Do you love helping people in the startup scene? Can you quickly understand the funding problems faced by business owners and think on your feet to come up with effective case-specific solutions? Can you make sense of the continually-evolving sea of government funding options? And would you have a genuine interest in researching this further? Could you identify relevant opportunities to add to the current GrantTree offering so we can get more startups to the next level? Do you want to be part of a team which is striving to grow and become the go-to place for startups who want equity-free funding? If so, read on, this might be the role for you!The purpose of the role is simple and elegant - to make sure everyone who contacts GrantTree has a great experience, and much like the swan adage, a lot needs to be going on underneath to make this happen. We need someone who can understand and address the needs of everyone who reaches out to GrantTree, over the phone, via email or in person - communication skills are paramount! The role requires a friendly, energetic, tech enthusiast who understands our values and can make sure they are shining in every interaction with our potential clients. Internally, the Grant Funding Advisor will work closely with our key players in Promotions, New Products and Partnerships to make sure everything we learn from those who connect with us can be built into our solution space!GrantTree is a different place to work. We believe in openness and transparency. Our financials are open to all employees - salaries, expenses, etc, all visible. We believe in trust and responsibility rather than command and control. To succeed in this environment, you must be genuinely self-motivated and highly effective in self-management, whilst also being team-minded, helpful and generous with your time. More of that on our website - please have a read about our culture and values before you apply!\n",
      "OK\n",
      "Play with kids, get paid for it Love travel? Jobs in Asia$1,500+ USD monthly ($200 Cost of living)Housing provided (Private/Furnished)Airfare ReimbursedExcellent for student loans/credit cardsGabriel Adkins : #URL_ed9094c60184b8a4975333957f05be37e69d3cdb68decc9dd9a4242733cfd7f7##URL_75db76d58f7994c7db24e8998c2fc953ab9a20ea9ac948b217693963f78d2e6b#12 month contract : Apply today \n",
      "OK"
     ]
    },
    {
     "name": "stderr",
     "output_type": "stream",
     "text": [
      "127.0.0.1 - - [17/Jul/2023 22:52:10] \"\u001b[37mPOST //predict HTTP/1.1\u001b[0m\" 200 -\n",
      "127.0.0.1 - - [17/Jul/2023 22:52:10] \"\u001b[37mPOST //predict HTTP/1.1\u001b[0m\" 200 -\n",
      "127.0.0.1 - - [17/Jul/2023 22:52:10] \"\u001b[37mPOST //predict HTTP/1.1\u001b[0m\" 200 -\n"
     ]
    },
    {
     "name": "stdout",
     "output_type": "stream",
     "text": [
      "\n",
      "To apply please visit our website at #URL_06ae9636e61d7ddfc75b7dec9887f7022036b464a1ef22d098f1e03084cd3614# and click on our Careers page.Tidewater Finance Company is seeking full-time RECOVERY SPECIALISTS. Join a growing team of high performance professionals in a team-oriented environment! The qualified applicant must be able to:Properly and independently work assigned accounts to locate customer and/or collateral by performing advanced loss prevention activities Perform basic and advanced skip-tracing with the use of internal and external skip-tracing resourcesNegotiate account resolution and accurately input and document all actions within the collections systemMonitor and measure performance of third party repo agents and other outside vendors to ensure goals are achieved in the most cost effective mannerEnsure all company policies and procedures are adhered toAlert management of potential risk exposure The qualifications for this position include:A professional demeanorAdaptabilityStrong computer skillsStrong organizational skillsAbility to multi-taskA minimum of 2+ years auto collection experienceStrong skip-tracing experienceExcellent verbal and written communication skillsAn eagerness to accept additional responsibilities as neededMust have a working knowledge of the Fair Debt Collection Privacy Act (FDCPA)   The hours for this position are:Monday through Friday 8:00 am to 5:00 pm (ability to work Saturdays and late nights as needed) We offer a competitive salary as well as a comprehensive benefits package to our full-time employees to include:40 vacation hours after 6 months of employment, 80 vacation hours after 1 year of employment6 paid holidays as well as an anniversary holiday benefitPaid personal and sick leave after 90 days of employmentFull benefits to include health, dental, life and disability insuranceA 401k plan with a company match after 6 months of employment based upon a quarterly entry dateIncentive bonuses for individual and team goalsBilingual Spanish eligible for differential pay To apply please visit our website at #URL_06ae9636e61d7ddfc75b7dec9887f7022036b464a1ef22d098f1e03084cd3614# and click on our Careers page. Tidewater Finance Company is an equal opportunity employer in all aspects of employment without regard to race, age, sex (including pregnancy), marital status, religion, disability, genetic information, military status or any other characteristic or status protected by law.  Tidewater Finance Company includes Tidewater Motor Credit and Tidewater Credit Services.\n",
      "OK\n",
      "“Pride is a personal commitment.  It is an attitude which separates excellence from mediocrity.” – Author UnknownAs employees at Healthy Spot we feel pride in the work that we do.  We believe in inspiring healthy pet lifestyles by creating authentic experiences with customers and fostering a sense of community. At Healthy Spot, employees are team members, caregivers to four-legged friends, public educators, and role models.  Our pride in our work is what allows us to exceptionally serve dogs, customers, the Healthy Spot team, and our communities.We are looking for a passionate individual to assume the role of the Assistant Retail Manager.  This position will, with the help of the Retail or Store Manager, require the superstar individual to ubiquitously indoctrinate the culture of Healthy Spot, from instilling within the retail staff members the core values of Healthy Spot, to building rapport and trust with the customers and the community through product knowledge and providing unparalleled customer service. While displaying leadership to the team members of Healthy Spot, the Assistant Retail Manager will be working on his or her own professional and personal growth to become the Retail or Store Manager.The Assistant Retail Manager’s position is to make a difference by always keeping the best interest of the animal at heart.  This passion combined with personal pride is what Healthy Spot is looking for in this unique individual! The Ideal Candidate…MUST LOVE DOGS!MUST LOVE PEOPLE!Must be a passionate leaderMust believe in high standards - does not accept mediocrityMust have successfully held a Key Holder position or Assistant Manager position (or higher) for 1 - 2 yearsMust be an extrovert who loves interacting with and serving customersMust have a high level of dedication to learnMust be driven and committedMust have excellent oral communication skillsMust have a highly contagious energy around peopleMust be detailed oriented and enthusiastic about cleanlinessMust be flexible, punctual and reliableMust be able to lift 30 lbsMust be capable of working independently and in a team environmentMust be capable of dealing with various types of clientsMust be capable of handling a fast pace, high stress environmentMust be a self-starter and quick learner The Assistant Retail Manager Will…-Lead by the highest example in customer service, communication with staff, and indoctrination of Healthy Spot’s culture, mission statement, and core values-Train and coach team members on a consistent basis, ensuring that Healthy Spot’s WECARE is being performed at the utmost standard in providing quality customer service with the guidance of the Retail or Store Manager-Develop and coach each team member in helping the individual reach his or her potential with the help of the Retail or Store Manager-Identify future leaders and develop staff members to become managers with the guidance of the Retail or Store Manager-Ensure that each team member has the highest level of product knowledge in the products and services sold at the store location-Ensure that the store maintains its cleanliness and that products are presented properly in a timely manner-Meet or exceed retail sales goals and store goals through working closely with team members-Oversee inventory control and communicate frequently with Headquarters regarding inventory -Perform and teach Healthy Spot’s POS for employee purchases and returns-Effectively communicate with the Daycare and Grooming Departments to ensure that the operations of the store as a whole are running efficiently and smoothly-Oversee accuracy of team member time sheets, personnel files, and other administrative paperwork-Provide coaching and execute disciplinary action as required-Work with the community for specific events such as adoption events and holiday events-Attend management meetings and training as required-Perform other duties as assigned Please respond with a resume. Please also articulate the following: 1) Why you would be an immediate value adding team member2) Why are you the best candidate for the Assistant Retail Manager position3) What is your favorite breed and whyResumes without cover letters will not be considered.  It's your opportunity to allow us to get to know your unique personality!Healthy Spot Job Perks!!For Full Time Employees-Four different types of medical plans, and we also offer a dental and vision plan!-If your dog is under 30 pounds, bring them to work and have them stay in dog daycare!* All dogs must pass behavior temperament test and having UTD vaccination records. **Dependent on availability of space in Dog Daycare. This perk is available after the 90 day trial period** - 30% off all Treats/Supplies!!-15% of all Food!!-15%-30% Grooming discount - dependent upon long hair/wired hair and size of dog.Part Time Employees-If your dog is under 30 pounds, bring them to work and have them stay in dog daycare!* All dogs must pass behavior temperament test and having UTD vaccination records. **Dependent on availability of space in Dog Daycare. This perk is available after the 180 day trial period** - 30% off all Treats/Supplies!!-15% of all Food!!-15%-30% Grooming discount - dependent upon long hair/wired hair and size of dog. Company DescriptionWe are a fast growing, upscale, upbeat, healthy and earth friendly pet products and services store. As our company grows, we are always looking to add new members to our team. We look for team members to grow with our company and are looking for individuals to stay with us long term.  In that sense, our recruiting efforts are stringent to find the unique individual. We realize our success is based on our team members.  Without the individual personalities and quirks that shine in and out of the Healthy Spot atmosphere, Healthy Spot would not exist.  As such, we love to promote from within and spend time and resources to foster each team member’s growth.  We are proud to see team members grow from entry level to manager positions and see them gain skills and confidence both professionally and personally!Our Los Angeles stores make customers feel welcomed and at ease! We have expanded into our first store in Costa Mesa in January 2014, and have opened our first Long Beach store location on May 31, 2014! We are committed to unleashing each family's passion for their dogs by offering the finest products and services, quality information and highest care while breeding social awareness of humane compassion and canine education for the community -- all for your dog's mind, body, and bowl.\n",
      "OK\n",
      "The Eleven is a start up studio. We’re obsessed by building great ideas into brilliant businesses, and we’re on a mission to create the best place in the world to do just that.  Our ten year plan is to found 100 new companies by 2025.  We’re looking for an Operations Manager to help make our organisation more effective through process and people, working closely with The Eleven’s founders across the businesses to make sure we continue to make process and people work for us in an efficient way.You will use process to help our teams be more effective in what they do day-to-day, as well as ensuring that as a business we have efficient processes and procedures that are not ambiguous or taxing on the people that run them.  You will be responsible for the design and implementation of processes for hiring, the office and finance across the entire company.Our People allow us to be brilliant at everything we do and so we must continue to develop the greatest possible place to spend our working hours. You will be responsible for the articulation of our culture, from planning our social events to designing and developing new initiatives.\n"
     ]
    },
    {
     "name": "stderr",
     "output_type": "stream",
     "text": [
      "127.0.0.1 - - [17/Jul/2023 22:52:10] \"\u001b[37mPOST //predict HTTP/1.1\u001b[0m\" 200 -\n",
      "127.0.0.1 - - [17/Jul/2023 22:52:10] \"\u001b[37mPOST //predict HTTP/1.1\u001b[0m\" 200 -\n",
      "127.0.0.1 - - [17/Jul/2023 22:52:10] \"\u001b[37mPOST //predict HTTP/1.1\u001b[0m\" 200 -\n",
      "127.0.0.1 - - [17/Jul/2023 22:52:10] \"\u001b[37mPOST //predict HTTP/1.1\u001b[0m\" 200 -\n"
     ]
    },
    {
     "name": "stdout",
     "output_type": "stream",
     "text": [
      "OK\n",
      "Please apply for the position as a .Net Developer at In2media by clicking the \"Apply for this job\"-button below.We are looking forward to receiving your application.In2media\n",
      "OK\n",
      "Kappa Search Inc. is a Chicago technical staffing company that specializes in engineering, manufacturing, technical sales and supply chain recruitment and placement. We are currently recruiting for a mechanical design engineer with product development experience. Responsibilities and requirements as follows.Responsibilities:Responsible for producing 3D CAD and other technical drawings for all new product designs and existing products.To provide the required design services (such as CAD &amp; CAE) for NPD and support of existing products and their application, as well as for the modification and further development of these same products.Prepares design concepts, layouts, assembly drawings and schematics as part of the development team.Material and component selection; develops specs for product.Pepares cost estimates based on specs.Performs stress tests, analyzes data, prepares reports, and makes comparisons with similar proven designs.Prepares preliminary and detailed design drawings using Pro/Engineer CAD Directs the work of designers, drafters and technicians as required.Plans and prioritizes the workload of the product design technicians.Conducts specialty projects and performs other related duties as assigned by management. , \n",
      "OK\n",
      "Play with kids, get paid for it :-)Love travel? Openings in China$1500 USD + monthly ($200 Cost of living)Housing providedAirfare ReimbursedExcellent for student loans/credit cardsPlease let us know when you would be looking to start when applying\n",
      "OK\n"
     ]
    },
    {
     "name": "stderr",
     "output_type": "stream",
     "text": [
      "127.0.0.1 - - [17/Jul/2023 22:52:10] \"\u001b[37mPOST //predict HTTP/1.1\u001b[0m\" 200 -\n",
      "127.0.0.1 - - [17/Jul/2023 22:52:10] \"\u001b[37mPOST //predict HTTP/1.1\u001b[0m\" 200 -\n",
      "127.0.0.1 - - [17/Jul/2023 22:52:10] \"\u001b[37mPOST //predict HTTP/1.1\u001b[0m\" 200 -\n"
     ]
    },
    {
     "name": "stdout",
     "output_type": "stream",
     "text": [
      "At Intent HQ we’re tackling some seriously difficult problems, right at the cutting edge of deep consumer analysis. We model user interests and apply this insight to solve challenging consumer problems at scale. Want to draw insights from 20 million detailed social network profiles? In realtime? We do.To help us innovate faster, we’re building a new R&amp;D group. This team is responsible for researching, designing and prototyping algorithms in the machine learning and NLP space. We have an engineering team responsible for the overall platform, who you will work closely with to bring prototypes to production.\n",
      "OK\n",
      "Our client is searching for a strong candidate that has 2 years Grails development experience as well as 3 years Java development experience.This is an excellent opportunity for an ambitious, creative developer that wants to innovate and build what doesn’t exist yet. Working remotely for a well funded company with an existing distributed team. Our client is a cloud platform provider empowering ISVs to provide an awesome SAAS solution to their customers. This company is based in Dublin &amp; San Francisco and embraces the new wave of distributed product development, with the members of our team hailing from all corners of the globe.You will be involved with building of prototypes, developing to specified requirements, and supporting customers. You will provide resource estimate and work schedules for tasks allocated if required and organize your work priorities and time management effectively. Your responsibilities also include researching new tools, techniques and processes, identifying where and how they could benefit the company. You will also need to be a natural fit with the rest of the team.Furthermore we insist that you have a passion for what you do and a hunger for learning new things. The current team are constantly evaluating and trying to better themselves. They will expect you to do the same and – just as important – help others improve as well.\n",
      "OK\n",
      "Role ContextHellas Direct (HD) is a well-funded insurance start-up that is replicating the direct-to-consumer motor insurance model in Greece.Having analysed and evaluated 65+ off-the-shelf software systems, HD has decided that the best systems procurement strategy is to develop its own systems in-house.HD already has an excellent in-house development team and the systems needed to support HD’s innovative product offering and customer service have already been up and running (with all the basics that were needed to launch a direct-to-consumer on-line motor insurance sales website) since the 6th August 2012 with 99.97% availability.HD now requires an experienced and knowledgeable Product Development Manager (“Product Owner” in Agile terminology) to lead the on-going HD product development and enhancement process.Role DetailThe Product Development Manager will join the Technology Team and will work closely with the development team (which follows the SCRUM agile development methodology) to ensure that all new requirements and functional enhancements requested by the business are delivered into production within the required timescales with a continuing high level of quality (i.e. very few minor design/functionality defects and few re-works).  The Product Development Manager is expected to work within the SCRUM agile development environment as the rest of the technology team.Some of the activities that will need to be performed and/or managed include (but not limited to):Provide input into the strategy for evolution of the existing productInitiating appropriate consultation sessions with stakeholders to determine their explicit and implicit requirements;Analysing the business processes being automated to ensure the requested functional changes will truly deliver the desired business objectives;Becoming an “expert resource” on the current state and future directions of the Greek motor insurance industry;Becoming an “expert resource” on the current state and future direction of HD’s product offering;Observing existing business processes and proposing new requirements to automate and optimise them.New product or new release co-ordination &amp; process managementThe Product Development Manager will be responsible for managing a range of processes related to a new product or new release of an existing product design and development, specifically:Overall cross-team release co-ordinationCo-ordinating interactions among the Application Development team and all other stakeholders (e.g. customer service team, finance team, claims team, marketing team, senior management) to agree the timing and content of releases.External and internal communicationsAgreeing suitable mechanisms and documentation with the rest of the business to communicate the contents of forthcoming releases to third parties and internally;Drafting and sending updates on the timing and content of releases, and any subsequent material changes to that timing or content;Being the central point of content for internal and external enquiries relating to forthcoming releases, functionality or product requirements;Ensuring that requirements are delivered as specified (“ownership of requirements”);Ensuring the timely delivery of specification documentation to the software designers and Application Development team;Ensuring the appropriate involvement of other teams within the business in the appropriate release-related processes;Managing the review process of high-level design for a product release (outside of the development team);Specifying and managing the User Verification Testing (UVT) testing of a new product/release.Requirements management &amp; specificationAs well as being responsible for the process of producing high quality specification documentation, the Product Development Manager is also responsible for:Analysis of issues raised and identification of new requirements;Gathering of issues and business requirements from third parties and internal teams;Managing the issue analysis, requirements identification &amp; requirements gathering;Management and evolution of the product backlog;Requirements Specification;Managing the process of drafting, reviewing and signing-off of stories within Jira;Directly drafting stories within Jira;Where others have specific relevant expertise, or time is limited, delegating the drafting of stories to others in the company;Ensuring all specification documentation (stories) are produced to a high quality by managing the thorough review of all stories by appropriate stakeholders;Reviewing and signing-off the technical “high level design” documentation that the software designers subsequently produce, and ensuring these accurately capture the relevant product requirements;Managing the process of scoping and base-lining product releases;Ownership of the process by which requirements are prioritised and packaged into releases;Managing the process by which requirements are prioritised and packaged into releases and presenting recommendations to the management team for decision (if necessary).Participation in specific product &amp; release-related processesBoth during the process of scoping, drafting and developing a release, the product development manager will need to participate in several product-related processes:Assisting with the process of specifying and evaluating the urgency of change requests;Assisting with the process of specifying and evaluating the urgency of defects;Assisting with UVT;Participating in stand-ups and status update meetings.\n",
      "OK\n"
     ]
    },
    {
     "name": "stderr",
     "output_type": "stream",
     "text": [
      "127.0.0.1 - - [17/Jul/2023 22:52:10] \"\u001b[37mPOST //predict HTTP/1.1\u001b[0m\" 200 -\n",
      "127.0.0.1 - - [17/Jul/2023 22:52:11] \"\u001b[37mPOST //predict HTTP/1.1\u001b[0m\" 200 -\n",
      "127.0.0.1 - - [17/Jul/2023 22:52:11] \"\u001b[37mPOST //predict HTTP/1.1\u001b[0m\" 200 -\n",
      "127.0.0.1 - - [17/Jul/2023 22:52:11] \"\u001b[37mPOST //predict HTTP/1.1\u001b[0m\" 200 -\n"
     ]
    },
    {
     "name": "stdout",
     "output_type": "stream",
     "text": [
      "We are looking for a dynamic, personable individual to join our Customer Service Team. As a Customer Service and Dispatch Associate you will be integral member of the team, you will be the main point of contact for our customers, and will play a pivotal role in providing an outstanding experience and developing ongoing relationships with our customers. The dispatch role is one of communicating customer needs and changes with the drivers as they are doing pick ups and deliveries.Are you a customer service superstar with a professional, service-oriented background? Do you have experience responding to customer requests via email, phone and chat? Do you enjoy going above and beyond to make people happy? Does being really busy excite you? Want to be part of a cool, fast growing startup?\n",
      "OK\n",
      "Everyone shops at M&amp;S for something and everyone has an opinion of M&amp;S. We are a unique British heritage brand with a history of ‘firsts’ and there has been a quiet revolution happening inside our Digital Development team. Having re-platformed off of Amazon and in-sourced our entire digital proposition front–to-backend and across to agile, we are now a cluster of closely aligned product focused teams relentlessly driving to innovate.  We experiment, we make big and small changes, and we enjoy the fact that everything we do has the potential to impact &amp; delight over 21 million customers daily.Having re-factored, we’ve hit reset. We’ve removed unnecessary rules, stopped generating useless reports, cancelled unproductive meetings and pulled out unused features. Teams ask for forgiveness rather than permission. We’re agile but truthfully, there is still plenty more to improve on and we’d like your help doing so. This is why we will continue to hire likeminded individuals from high growth start-ups such as Lovefilm, ASOS and Reevoo who bring the right DNA (and fun!) into the Engineering, Product and UX Design teams.What hasn’t changed? Our commitment to customer delight and integrity to ‘do good’. We’re obsessed with putting them at the centre of everything we do and doing the right thing. We iterate constantly making shopping easier and more experiential online, on mobile, in store and whatever the next Apple/Google product is (in fact we often work closely with them on as-yet-unreleased initiatives)!Objective:              Be obsessed with delighting millions of customers daily and iterate constantly to improve and redefine an awesome customer experience which simultaneously delivers strong commercial results.                               Based on knowledge and instinct the Product Owner will lead, develop and drive execution of their product vision. Ultimately, with his/her team, he/she will be responsible for creating the world’s best shopping experience on &amp; offline and ensure the customer experience is second to none and admired by all. Push the boundaries in-store and online, and bridge the two whilst you're at it.Key Responsibilities:Full control over Product Strategy and the entire Product Roadmap for your product area.Be the intersection between our business, our market, and our customers. Our product owners build products that satisfy all three.Know our customers. Form value propositions and validate them through customer development; learning about customers’ shopping habits and drivers by objectively interviewing them and how best to reach them.Know our market, our competition and our business models. Identify trends within customer segments and product segments for new products or enhancements for existing ones.Keep abreast of new technical developments which could enhance or revolutionise the product and customer experience.Deliver products. Roll up your sleeves and make things happen. We expect you to use your product vision and execution instinct to deliver, from scribbling initial wireframes to shipping a product and measuring engagement.  You’ll typically have a ‘pod’ of software engineers and UX designers to help you deliver fast, high quality products in an agile environment. We expect you to create a culture of customer-driven development and a real cross-team spirit within your pod.Love incredible UX. Collaborate with our UX Designers and UX Lab. Be obsessed with UX and translate your vision into an effective user interface. We expect you to get real feedback from real users to help mould and evolve your product. Iterate quickly to improve the overall experience.Love developers. You should know how to get the best from your team of developers. A good understanding of the technology stack, devices and how the Internet works is a must.Be responsible for constantly reviewing against competitors and M&amp;S.com own high standards to identify opportunities to increase users and differentiate the product offering.Establish and own short and long term goals/ KPI’s for product management and delivery based on business goals and strategy, customer feedback and operational data.Champion the customer throughout the business.\n",
      "OK\n",
      "PowerbyProxi is one of NZ's more promising High-Tech companies and a leader in developing Wireless Power Technology. Together with our customers, we are leading a global revolution in delivering unpluggued power for both consumer and industrial applications. Spun out of research at the University of Auckland in 2006, PowerbyProxi to date holds the most comprehensive portfolio of patents in Inductive Power Transfer (IPT). Our company continues to see exponential growth and gain in market share with global partnerships and alliances with multinational conglomerates. The Hardware Systems Design Engineer will be focused on development and technical leadership of engineering design work, which may consist of leading a project team, consisting of of 3-4  Electronics Design Engineers across both consumer and industrial applications. The scope of development work will include evaluation of power electronic topologies, design and test of PCB’s, prototype development from Alpha through to Mass Production. The HW Engineer will work closely with Embedded Designers, QA, Product Safety, Mechanical and Production teams. This leadership role will require inspiring team members and managing workflow on a day to day basis, reporting results to management and managing communication with customers. The design work will be innovative and involves design from ground up and developing cutting edge technologies around inductive power transfer (IPT).\n",
      "OK\n",
      "Buzzvil is looking for a Business Development Manager, Taiwan who is passionate about mobile advertising and startups to join our dream team! Our lock screen advertising platform aims to revolutionize the first screen of mobile and we’re looking for someone to help build our presence in Taiwan.About BuzzvilBuzzvil’s mission is to optimize the first screen of mobile to better connect users with the world. Founded in 2012 by leaders in the South Korean startup and tech scene (ex-Google, Naver, Ticketmonster, etc.) and backed by Softbank Ventures Korea, we’re building a team of people who aspire to change the world by dreaming the impossible. We’re a team of 20+ based in our HQ in Seoul, and we have recently set up our new offices in San Francisco and Tokyo for global operations. Our flagship mobile app, Honeyscreen, has reached over 2 million users in South Korea since its launch, and Lockjoy, its Japanese counterpart, is the leading lock screen advertising platform in Japan, making us primed to impact mobile advertising in the U.S. and on a global scale.About the JobYou will be our first team member based in our Taipei office, leading our overall sales, business development, and revenue-related operations in Taiwan. This position will include managing local mobile ad agencies, working with Taiwanese mobile ad networks, and negotiating deals with Taiwanese content partners. Our team has been highly successful in monetizing our lock screen advertising product in Korea, and now, this is your chance to make an impact in Taiwan. If you’re great at building relationships, seeking opportunities for growth, and ready to dream big, this role is perfect for you!Key ResponsibilitiesAs our Business Development Manager, Taiwan you will:Manage and develop mobile ad sales partnerships for our Taiwanese trafficManage and conduct day-to-day operations with Taiwanese mobile ad networksDevelop new content partners in Taiwan for our lock screen productBuild relationships with key players in the mobile advertising industry in TaiwanManage user growth in Taiwan by executing marketing plans\n",
      "OK\n"
     ]
    },
    {
     "name": "stderr",
     "output_type": "stream",
     "text": [
      "127.0.0.1 - - [17/Jul/2023 22:52:11] \"\u001b[37mPOST //predict HTTP/1.1\u001b[0m\" 200 -\n",
      "127.0.0.1 - - [17/Jul/2023 22:52:11] \"\u001b[37mPOST //predict HTTP/1.1\u001b[0m\" 200 -\n",
      "127.0.0.1 - - [17/Jul/2023 22:52:11] \"\u001b[37mPOST //predict HTTP/1.1\u001b[0m\" 200 -\n"
     ]
    },
    {
     "name": "stdout",
     "output_type": "stream",
     "text": [
      "At USAlliance, we provide a challenging and exciting environment where people can bring their passion and personalities to work.  How do we do this?  The simple answer is, our people…we have a bunch of well trained, motivated and above all happy people doing what they enjoy doing.The Indirect Lending Loan Underwriter is primarily responsible for the timely and accurate review, evaluation and processing of loan applications and supporting information. Provide needed assistance to others within consumer lending areas as available.ESSENTIAL DUTIES:Receive and review all incoming loan application requests and supporting documentation.Build profitable, performing secured and unsecured loans.Conduct credit analysis on each loan application using automated system parameters.Ensure all appropriate information has been received from borrowers to best evaluate loan requests and ability to repay.Document loan decisions to accurately communicate lending decisions to external merchants/dealers, borrowers and/or other department team members.Document identified cross-sell opportunities and additional offers. Provide details to assist in team’s future engagement of borrowers.Timely communicate decisions to external merchants/dealers. Answer and address any questions or concerns.Move applications between internal lending queues to maintain workflow.Follow disclosed call-back schedule for any loans approved and not yet funded.Provide needed assistance to and mentor other team members.Maintain expert level knowledge of all Credit Union products and services.\n",
      "OK\n",
      "Cylance is looking for expert researchers to help solve long-standing problems in the computer security space. We’re developing a cross-disciplinary team from the fields of; statistics, computer science, mathematics, physics, bioinformatics, topology, machine learning and other related fields. Our focus is to push the envelope of artificial intelligence.At Cylance, our research team is at the core of our business. You will be part of a critical, highly-visible, agile, and high-impact team that directly affects the company’s success. Our researchers regularly publish and present at various global conferences and are some of the most sought-after thought leaders in the security industry. As part of the Research group at Cylance, you will leverage your problem solving and analytical skills to further our capabilities, as well as publish and present new and novel research.ResponsibilitiesBuild and develop intellectual property through the research and implementation of new approaches in machine learning.Identify patterns and trends from large, high-dimensional datasets.Approach security from an adversarial mindset in an effort to circumvent prediction systems.Work with internal product and engineering teams to drive development of new products.Manipulate complex, high-dimensional, large volume data into digestible and actionable reports. \n",
      "OK\n",
      "SEO/Content ManagerThe SEO/Content Manager will be responsible for creating SEO strategies and implementing multiple campaigns to deliver growth in organic search and targeted traffic.The ideal candidate will be proactive with great enthusiasm, with great passion for Digital, keeping up to date with the latest development, trends and technologies in the online world.KEY RESPONSIBILITIES: Creating and implementing SEO strategies in line with business objectives Management of the SEO budget and agency relationship On page SEO (content) and advising on SEO best practice Link Building activity including advising and working with editorial and marketing  teams on social media plans and activity Working closely with development teams and signing off on site developments Monitoring &amp; Reporting on rankings for key search terms and overall organic traffic Create, brief and implement on page recommendations in line with key digital  revenue objectives Undertake strategic research providing insight into keyword and keyword cluster    profitability Line management of an Content Marketing Executives Provide insight into link building techniques and new technology/partnerships\n",
      "OK\n",
      " The Customer Service Associate will be based in Fairfax, VA. The right candidate will be an integral part of our talented team, supporting our continued growth.Responsibilities:Perform various Mail Center activities (sorting, metering, folding, inserting, delivery, pickup, etc.)Lift heavy boxes, files or paper when neededMaintain the highest levels of customer care while demonstrating a friendly and cooperative attitudeDemonstrate flexibility in satisfying customer demands in a high volume, production environmentConsistently adhere to business procedure guidelinesAdhere to all safety proceduresTake direction from supervisor or site managerMaintain all logs and reporting documentation; attention to detailParticipate in cross-training and perform other duties as assigned (Filing, outgoing shipments, etc)Operating mailing, copy or scanning equipmentShipping &amp; ReceivingHandle time-sensitive material like confidential, urgent packagesPerform other tasks as assignedScanning incoming mail to recipientsPerform file purges and pullsCreate files and ship filesProvide backfill when neededEnter information daily into spreadsheetsIdentify charges and match them to billingSort and deliver mail, small packages \n",
      "OK"
     ]
    },
    {
     "name": "stderr",
     "output_type": "stream",
     "text": [
      "127.0.0.1 - - [17/Jul/2023 22:52:11] \"\u001b[37mPOST //predict HTTP/1.1\u001b[0m\" 200 -\n",
      "127.0.0.1 - - [17/Jul/2023 22:52:11] \"\u001b[37mPOST //predict HTTP/1.1\u001b[0m\" 200 -\n",
      "127.0.0.1 - - [17/Jul/2023 22:52:11] \"\u001b[37mPOST //predict HTTP/1.1\u001b[0m\" 200 -\n",
      "127.0.0.1 - - [17/Jul/2023 22:52:11] \"\u001b[37mPOST //predict HTTP/1.1\u001b[0m\" 200 -\n"
     ]
    },
    {
     "name": "stdout",
     "output_type": "stream",
     "text": [
      "\n",
      "Neurocom SA is looking for a talented Java software developer to work on the management and reporting web application of TariffSuite.You will be involved in maintaining, extending and migrating to a modern technology/framework a Jboss Seam 2.0 application integrated with BIRT.You will be working both in Neurocom premises and directly with major telecommunication companies mainly in Greece but possibly also abroad.We are searching for responsible professionals with philotimo and integrity to join our team of engineers and scientists.\n",
      "OK\n",
      "Who we areOur vision is to deliver a platform that makes the digitally complex simple, to allow agencies to focus on being creative &amp; forget the technical complexities of the Internet!  Our platform is an established product that runs digital solutions big &amp; small for house hold brands such as Nintendo, Siemens, Australia Post, Frontier Touring, OAMPS &amp; Dennis Family Homes to name a few.Whilst our platform is not new, coreDNA is a start-up that has evolved to establish a world-wide market for this innovative platform. We are currently rapidly expanding into the United States, Canada &amp; United Kingdom – as a result were looking to grow our team substantially. What you'll doCarry out exploratory testing within an Agile development environmentCollaborate closely with developers, product managers and infrastructure engineers to correctly identify, prioritise &amp; resolve issuesDevelop test tools, extend test frameworks &amp; test environments.Improve the quality of developer output via training, coaching &amp; process changes.Organise QA for projects and collaborate with other teams.\n",
      "OK\n",
      "About SellbriteSellbrite (#URL_5e1cc5ff080aad151d691e17100743a1df1804384b29d0dc4b242961239309b3#) is a web-based ecommerce solution for online retailers that simplifies multi-channel selling.  We offer retailers a simple, yet powerful, integrated platform that allows them to easily list and sell their products on multiple online marketplaces and ecommerce solutions, as well as manage and sync all of their inventory and orders.We’re on a mission to level the playing field for all retailers, giving them equal access to every buyer on the web, and to help our customers grow their businesses beyond their wildest dreams.  We believe that simplicity is the key ingredient in our success, and we believe in doing things better than they’ve ever been done before.Founded in late 2011, Sellbrite is backed by the Pasadena-based incubator, Idealab.We like big thinkers with small egos who believe in our goal to build a uniquely impactful, long-lasting tech company. Our vision is to fundamentally change forever how retailers do business online.Who We're Looking ForWe are looking for a Ruby on Rails Engineer that is passionate about building amazing web applications. The ideal candidate should have practical experience in the ecommerce space. He or she should be fun, energetic, creative, comfortable with ambiguity and risk taking, collaborative, and have a great sense of humor.We’re still in the early stages of product development, so you will get to influence the entire new pieces of the product. You'll also be working with and collaborating with other experienced technical and non-technical people that are already on the team, and will be reporting to the CTO. ResponsibilitiesImplement the company's product development visionCultivate a hacker/get-shit-done cultureSet strategic directions for the engineering team by guiding technology decisions and developing tech talentArticulate clear goals to meet that strategy and track key metrics to measure success\n",
      "OK\n",
      "Job Title: Forklift OperatorDepartment: DryDockReports to: Department SupervisorSchedule: Open availability required, as posted - Overtime as needed.ESSENTIAL DUTIES AND RESPONSIBILITIES: Verifies and keeps records on incoming and outgoing shipments and prepares items for shipment and production by performing the following duties to quality and productivity standards. Other duties may be assigned that pertain to the classification. Demonstrated job duties and knowledge listed are sum for the job classification. Knowledge of all duties is to be cross functional but specific duties are assigned within available personnel.Primary duties and responsibilities:Must be able to identify product and multiple lot codes.Compares identifying information and counts, weighs, or measures items of incoming and outgoing product to verify information against bills of lading, orders, or other records.Put away or stage product in assigned product bay or location.Verifies temperature of all incoming product.Determines labeling requirements including but not limited to: Assemble and pack product containers, preparing and affixing labels on packed containers in an accurate manner.Proper operation of equipment to safety and productivity requirements.Unpacks, examines, routes incoming shipments, rejects damaged items, and records shortages.Maintains inventory of shipping materials and supplies.Must be able to understand quality standards, methods and reporting as requiredNotify supervisor / lead of any mechanical or material issues.Proper use of safety devices, such as lock-out, as requiredMaintain a clean, sanitary, and safe work area.Performs other related duties and assignments as required.All freezer dock employees are expected to be available to work in all areas of production.Maintain data records on the computer system.Education, prior work experience and specialized skills and knowledge: Must have a minimum of two years forklift experience with a drive-in racking system preferred.  Must understand inventory cycle counting with exposure to RFID. This person has a demonstrated ability to operate the Microsoft office suite. The position will be required to perform basic math and demonstrate a basic ability to communicate in the English language, this includes the ability to read and interpret documents such as safety rules, operating and maintenance instructions, and procedure manuals. Demonstrated ability to communicate orally or in written form effectively with co-workers, departments, and carriers. Be comfortable utilizing multiple computer systems.Physical environment/working conditions: This position is in a manufacturing environment and could involve sitting, standing, walking and lifting for long periods of time throughout the day. Unrestricted visual and audio abilities are required for the safety of all employees. Must be able to lift up to 40 pounds without restriction.Equipment and Machinery used: Must be able to become certified and maintain certification through an OSHA approved forkliftOther (e.g., customer contact or access to confidential information): Must be able to work as part of a team, in extreme temperatures, and various shifts.  Pay: (hourly non-exempt) Plus additional shift differential for off shifts"
     ]
    },
    {
     "name": "stderr",
     "output_type": "stream",
     "text": [
      "127.0.0.1 - - [17/Jul/2023 22:52:11] \"\u001b[37mPOST //predict HTTP/1.1\u001b[0m\" 200 -\n",
      "127.0.0.1 - - [17/Jul/2023 22:52:11] \"\u001b[37mPOST //predict HTTP/1.1\u001b[0m\" 200 -\n",
      "127.0.0.1 - - [17/Jul/2023 22:52:11] \"\u001b[37mPOST //predict HTTP/1.1\u001b[0m\" 200 -\n",
      "127.0.0.1 - - [17/Jul/2023 22:52:11] \"\u001b[37mPOST //predict HTTP/1.1\u001b[0m\" 200 -\n"
     ]
    },
    {
     "name": "stdout",
     "output_type": "stream",
     "text": [
      "\n",
      "OK\n",
      "Experienced Plant Manager is required having responsibility for profit and loss of plant, and insure this profitable plant is functioning at highest level of efficiency and motivate plant personnel to achieve these goals.C - 43Job Responsibilities: Responsible to carry out and meet corporate production goals,Responsible for profit and loss of plant, and insure this profitable plant is functioning at highest level of efficiency and motivate plant personnel to achieve these goals.Oversee superintendents, various middle management positions, multiple line supervisors, and all hourly/production employeesAssume the leadership role in implementing and practicing plant safety proceduresConstantly reduce operating costs and improve customer servicePromote a framework of staff development to ensure future human asset growthAnalyze, interpret, and implement corporate objectives and directivesAccountable for the safety of all employees by enforcing established safety and health policies.Contributing to promoting employee safety and well-being and minimizing accidents and employee lost timeAccountable for quality of products and services, and operational performance as it pertains to cost control, customer service, inventory management and capital assetsResponsible for proper alignment of resources (personnel, equipment, facilities) to company objectives and customer needsDemonstrated ability to drive continuous productivity improvement in manufacturing operationsLeads, manages and develops managers and employees to assure the necessary capabilities and culture are in place to maintain effective operations.This includes establishing direction, gaining commitment, delegating, and building organizational capabilitiesFocus on continuing to improve the competitiveness of the operations by continuous improvement of our people, business processes, and technologies\n",
      "OK\n",
      "DEPARTMENT:       MaintenanceREPORTS TO:       Maintenance ManagerLOCATION:            Niagara Falls, NYPOSITION:             Electrician   About us: Niacet is a leading producer of organic salts, including propionates and acetates, serving the Food, Pharmaceutical and Technical industries. With two longstanding and fully automated manufacturing sites, located in Niagara Falls, NY USA, and Tiel, The Netherlands, Niacet offers world-class quality products to a global market.Our products fill vital needs in a broad range of applications that are essential to everyday life including food preservation, antibiotic formulation, dialysis treatment, energy production, and more. Electrician Position: Niagara Falls chemical manufacturer is looking for experienced electrician. General Job duties include, but are not limited to:--Maintenance of power distribution system, maintenance of instrumentation and control systems, electrical repairs to equipment, building service and repairs, installation of equipment in a chemical plant environment, housekeeping.--Must be able to read electrical diagrams, analyze problems and troubleshoot equipment operation; strong PLC and control system troubleshooting skills a plus.--May be required to move or lift up to 50lbs.--Good oral and written communication skills, experience with use of personal computers and prior chemical plant experience preferred.--Position requires support of plant maintenance needs on overtime and call-ins outside of regular hours and on weekends.--New York State Journeyman Industrial Electrician or Instrument Tech certification or equivalent experience required. We offer competitive compensation and one of the best benefit packages in the industry...\n",
      "OK\n",
      "***VISIT OUR CAREERS PAGE HERE TO LEARN MORE ABOUT WORKING WITH THE JOIST TEAM***If working with:1) one of the fastest growing startups2) an awesome engineering team, and 3) solving a big problem in a massive marketsounds like something you want be a part of with a competitive salary and meaningful equity, get in touch with us.Joist’s mission is to SUPPORT TRADES CONTRACTORS IN RUNNING THE BEST BUSINESSES POSSIBLE by bringing coordination, professionalism, and transparency to the contractor ecosystem. We move extremely quickly, and ship new product features that delight our users on a weekly basis. Everyone on the Joist team contributes new ideas and has the chance to put their signature on what we deliver to our users.ABOUT JOISTJoist is a tool for trades contractors, that allow them to estimate, invoice, accept payments, and manage projects from an iPad, iPhone, Android phone or tablet and the web.Checkout our app: #URL_9da5c1a945b15b7a2322dde22b6af8a5e3caae865a73f9f04fe640e6e9b24932#GET EXCITED- Ranked in the top 50 business apps in the Apple App Store (out of 19,500 business apps) - Tens of thousands of highly engaged users, growing very quickly - $1B+ in transactions processed since launch- Funded by top tier US &amp; Canadian VCsPERKS- Fall in love and have a huge impact on a product used by hundreds of thousands of businesses worldwide- Young, energetic, flexible and super fun work culture- Weekly team outings (such as the infamous Joist Wine Fridays)- A standard issue Joist green hoodie and t-shirt- Work with an engineering team that values an agile development process, scrums, test driven development, automated testings, pull requests, source controls, and proper requirements and specs- Work in a focused work environment - our product roadmap doesn’t flip-flop- Be self-directed – you won’t have some business guy or client peering over your shoulder- Open vacation policy – take time off as needed on your own schedule- Flexible work times – the # of hours sitting in a chair does not = productivity- A kegerator that never runs out of premium beer and Frank’s Hot Sauce stocked in the fridge- Be a shareholder – everyone on the Joist team owns equity- Spontaneous games of poker, Settlers of Catan, Risk- Nerd out and try new technologies at bi-monthly Joist hackathonsREQUIREMENTS- 2 - 3 years full stack development experience, backend or mobile experience a plus  (expereince as a co-op / intern counts towards requirement)- BSc. in Computer Science / Engineering or equivalent hacking experience- Strong preference given to those who have have passion for personal / side projectsCOMPENSATION: $80k - $110k / yr, + equityLOCATION: Toronto (Downtown @ King &amp; Spadina) checkout photos of what goes on at the Joist office here: #URL_fa33b792f7dadf81caccb95b7e9100fe9a13f89ec3f96794486e3baa78e996cd#.TARGETED START DATE: Immediate\n",
      "OK\n"
     ]
    },
    {
     "name": "stderr",
     "output_type": "stream",
     "text": [
      "127.0.0.1 - - [17/Jul/2023 22:52:11] \"\u001b[37mPOST //predict HTTP/1.1\u001b[0m\" 200 -\n",
      "127.0.0.1 - - [17/Jul/2023 22:52:11] \"\u001b[37mPOST //predict HTTP/1.1\u001b[0m\" 200 -\n",
      "127.0.0.1 - - [17/Jul/2023 22:52:11] \"\u001b[37mPOST //predict HTTP/1.1\u001b[0m\" 200 -\n"
     ]
    },
    {
     "name": "stdout",
     "output_type": "stream",
     "text": [
      "The Service Delivery Manager I will be based in Boxborough, MA and also manage four other smaller field locations. The Service Delivery Manager is responsible for all aspects of operating day-to-day services for our client #URL_c8fcab6226129cd466fdacc537d181a9610c97b1c6dabd2c8a491922bcc7d109# workflow within the team, including prioritizing jobs and delegating duties to associates.Responsibilities include but are not limited to: Administrative - Performs administrative tasks, provides volumes/billing inputs to one-up Manager, and other assigned duties in a timely manner. Ensures adherence to company policies and guidelines, safety &amp; security procedures.Quality/Workflow compliance - demonstrate commitment and enthusiasm and utilization of quality tools to drive SLA attainment and exceed client expectations.  Ensure service levels are clearly communicated, understood, and performed by on-site staff.Coaching &amp; counseling - create a positive atmosphere of professionalism and support.  Provide honest and timely verbal and written feedback to employees; address performance issues with directness and sensitivity with guidance from manager and human resources.Personnel Management - Performs all functions in HR Access to include time and payroll authorization, training approval and vacation approval.  Duties also include hiring and termination authorization, annual reviews and merit increase actions, with approval from HR and/or one-up manager.Utilizes technology to perform tasks efficiently and demonstrates the ability to communicate effectively both orally and written.Position may require Site Supervisor to perform site activities due to unanticipated volume increases, staffing coverage issues and/or special project needs requested by clients.Understands basic information on core Novitex service/solutions offerings to work effectively with Manager - Client Services in generating leads for site growth and competitive take-away.\n",
      "OK\n",
      "a)       Typical Duties:  Install, configure and manage Enterprise level Directory Services using Oracle DSEEDesign and implement Directory Information Tree (DIT) structureConfigure and manage Directory replication between geographically distributed DatacentersDesign, configure and manage Directory SchemaConfigure and manage Access Control lists (ACLs)Configure and manage Directory Service performanceConfigure and manage Directory Services monitoringConfigure and manage Directory Services related Certificates (LDAPS)Expertise in command line (CLI) based management of the Directory Services, Directory data and LDIFsConfigure and manage Class-of-Service (CoS) templates, CoS priorities, and password policiesOccasionally meets with auditors to discuss implementation details and provide compliance data.Works with operations team members to ensure successful\n",
      "OK\n",
      "We are a full-service marketing and staffing firm, serving companies ranging from Fortune 100 to new start-up organizations. We work with job seekers in an equally broad range, from light industrial temporary workers to executive level candidates.Are you looking for a Work from Home Opportunity where you can earn up to $2500 and more per week? Our Online Service Representative position would be perfect for you!- Set your own hours - Make money every time you decide to work - Work remotely from home - Get paid weekly - If you have a computer with internet, this is for you\n",
      "OK\n",
      "Do you see yourself as entrepreneur and want to get first hand experience what it means to found your own company? Do you want to work in an international and venture-backed startup? Then this is the chance you have been waiting – join our team as a Country Manager / Co-Founder / CEO for the UK.As a Country Manager/Co-founder, you will be involved in all our processes and get a 360°-view on how a startup works. The areas of exposure you will get will include marketing, technology and operations. We adapt the plan together with you especially according to your beforehand experience and preferences. Chose your focus and we will you give you all chance to learn and develop yourself – with us everything is possible!You will be the heart of our business and will help us in further developing all areasYou will gain exposure to best practices in Online Marketing, Development, Investor RelationsYou will learn how to work twice as fast at twice as much fun.You will be working for a young, dynamic, international team and will get your own responsibilities right from the beginningInvestly Ltd (#URL_bd61c8c03c2d107587f2d2502d2c9b86c9b94cd3737c194dbab75c41647259b4#) is an emerging direct financing (aka crowdfunding) platform for SME debt and factoring needs that aims to eventually disrupt the entire European SME debt market.\n",
      "OK"
     ]
    },
    {
     "name": "stderr",
     "output_type": "stream",
     "text": [
      "127.0.0.1 - - [17/Jul/2023 22:52:11] \"\u001b[37mPOST //predict HTTP/1.1\u001b[0m\" 200 -\n",
      "127.0.0.1 - - [17/Jul/2023 22:52:12] \"\u001b[37mPOST //predict HTTP/1.1\u001b[0m\" 200 -\n",
      "127.0.0.1 - - [17/Jul/2023 22:52:12] \"\u001b[37mPOST //predict HTTP/1.1\u001b[0m\" 200 -\n",
      "127.0.0.1 - - [17/Jul/2023 22:52:12] \"\u001b[37mPOST //predict HTTP/1.1\u001b[0m\" 200 -\n"
     ]
    },
    {
     "name": "stdout",
     "output_type": "stream",
     "text": [
      "\n",
      "As a Delivery Driver, you will operate your truck and deliver building materials in a safe, efficient and professional manner. It is important that you not only make your deliveries on schedule, but that you also do so in a manner which takes into account the needs of both contractors and homeowners and which represents ABC Supply in the best possible light. The trucks with which you make your deliveries as a Delivery Driver are large and heavy, and you must take care to operate them in a way that does not cause damage to driveways, buildings, or other areas of the job site.Your specific duties as a Delivery Driver may include:Conducting a safe work zone during each job site delivery (includes setting out cones and caution tape and wearing hard hats as well as harnesses when appropriate)Adhering to assigned delivery schedule and following all job directives precisely (including the route to take to the job site, where to unload materials on the job site, and so forth)Documenting every step of each delivery by taking and uploading photos with our camera phone systemUsing your discretion to avoid damaging job site property (particularly driveways) when unloading materialsTreating customers in a friendly and professional mannerObeying all regulatory agency and company safety directives, particularly with regard to operating near electrical wiresWorking in cooperation with the Roof Stocker in positioning boom over roof, determining where to set the materials, and physically unloading the materialsCalling dispatcher to handle difficult contractors when necessary and to report any instances of customer dissatisfactionCompleting a thorough load check on your truck before leaving branch, ensuring that all delivery materials are firmly secured and all parts of your truck are in compliance with all federal, state, and local regulationsObeying all traffic laws and weight limitsCalling dispatcher and reporting any problems or irregularities with your truckCompleting and filing all logs and required government paperwork in a precise and timely mannerProviding the customer with an invoice on completion of each delivery and collecting the entire due amount on COD deliveries\n",
      "OK\n",
      "We are searching for a top class mobile User Experience Designer to join a brand new, funded startup who are creating an outstanding social mobile application. This is a fast paced, creative environment where you will be given the creative freedom to pitch your ideas and own the application design. They are a passionate team with a thirst for knowledge and personal development. The ideal candidate will have strong design and design process experience and be able to provide clear and detailed descriptions of decisions made when building successful apps. They will have the experience to know what works in each circumstance and will be able to ruthlessly simplify user journeys.\n",
      "OK\n",
      "Play with kids, get paid for it Love travel? Jobs in Asia$1,500+ USD monthly ($200 Cost of living)Housing provided (Private/Furnished)Airfare ReimbursedExcellent for student loans/credit cardsGabriel Adkins : #URL_ed9094c60184b8a4975333957f05be37e69d3cdb68decc9dd9a4242733cfd7f7##URL_75db76d58f7994c7db24e8998c2fc953ab9a20ea9ac948b217693963f78d2e6b#12 month contract : Apply today \n",
      "OK\n"
     ]
    },
    {
     "name": "stderr",
     "output_type": "stream",
     "text": [
      "127.0.0.1 - - [17/Jul/2023 22:52:12] \"\u001b[37mPOST //predict HTTP/1.1\u001b[0m\" 200 -\n",
      "127.0.0.1 - - [17/Jul/2023 22:52:12] \"\u001b[37mPOST //predict HTTP/1.1\u001b[0m\" 200 -\n",
      "127.0.0.1 - - [17/Jul/2023 22:52:12] \"\u001b[37mPOST //predict HTTP/1.1\u001b[0m\" 200 -\n"
     ]
    },
    {
     "name": "stdout",
     "output_type": "stream",
     "text": [
      "Hayes Corp is looking for an Ad Operations Assistant with a keen eye for detail who is passionate about developing a career in the digital media content industry.ResponsibilitiesSupport ad quality control processesHelp monitor &amp; implement new ad targeting capabilities for our products Help define and control advertising space across products &amp; work with product managers to ensure creation of the best possible placementsAid in the setup and management of web and mobile ad serving platforms, and data monetization technologies \n",
      "OK\n",
      "Do you want to be a part of an award-winning team that is rapidly expanding across the US?    Does working independently in a fast-paced, growing company excite you?  Is relationship-building something you thrive on?  If you love to travel, are charismatic, have construction industry knowledge and a highly motivated consultative sales approach, NoteVault may be the perfect fit for you. The primary role of the NoteVault Account Manager is to develop and execute a plan that you will follow to successfully meet established goals. The qualified individual will use highly effective communication skills to develop relationships with current and potential customers and will have the ability to create and present customer-specific demonstrations in the use and promotion of NoteVault’s cutting edge products.The ideal Account Manager will have a minimum of 3-5 years of sales experience in the enterprise software industry, selling to large, complex organizations; and will have well-established relationships with construction industry contacts in their territory.   \n",
      "OK\n",
      "Change Management professionals provide knowledge and experience related to the skills, structures, tools and support mechanisms needed to manage change and to foster an environment conducive to sustaining that change.Adapts existing methods and procedures to create possible alternative solutions to moderately complex problemsUnderstands the strategic direction set by senior management as it relates to team goalsUses considerable judgment to determine solution and seeks guidance on complex problemsPrimary upward interaction is with direct supervisorMay interact with peers and/or management levels at a client and/or within AccentureDetermines methods and procedures on new assignments with guidanceDecisions often impact the team in which they resideManages small teams and/or work efforts (if in an individual contributor role) at a client or within AccentureAdditional responsibilities in at least one of the following change management offering areas:Change Strategy· Application of the change architectures, models, and frameworks used to execute global, multi-polar, multi-workforce, cross-generational, or multi-cultural, complex change successfully· Assist client executives to communicate frameworks, cultural norms, and stakeholder engagement practicesOrganization Change Enablement· Approach Change Management as a \"Science\" instead of an \"Art\" by using data-driven and predictable methodology· Utilize methods, estimators, and frameworks that integrate tightly with the broader project· Drive stakeholder engagement, leadership alignment, impact analysis, learning/training, communications, business readiness, deployment, and adoption measurement· Help re-align the organization, its people, and their actions with critical business imperatives and specific objectivesOrganizational Change Capability· Support client’s in achieving sustainable performance and/or improvements within their organizations· Assist client’s in building strong change management capability within their workforce· Assist with the workforce transition from internally managed operations to outsourced operations· Identify opportunities to provide or create additional client value· Develop trusted relationships with key clients or internal customers · Ability to meet travel requirements, up to 100%\n",
      "OK\n",
      "Want to build a career in IT? Free training in exchange for your time on revenue share basisWe are an IT startup providing Global IT services to well known organizations and are very busy due to overwhelming response. We are looking to expand and want to create a network of associates who can focus on innovative products, business development and client management areas. In exchange we will provide you assistance and training to improve your career prospects, experience working with us and a launch pad to help you succeed in your career long term. Some of the potential areas where we can help you are1. Learning a new programming language2. Learning new open source platforms e.g. Wordpress, Joomla3. Exposure to building ecommerce solutions, SEO etc.4. Interacting with senior decision makers in IT5. IT sales and marketingWe are searching for peoples based in Finland, Norway, Sweden, France, Germany, Luxemburg, Switzerland, Netherlands and Belgium.So, if you are living there and you are able to communicate also in English, please send your CVLooking forward hearing from you."
     ]
    },
    {
     "name": "stderr",
     "output_type": "stream",
     "text": [
      "127.0.0.1 - - [17/Jul/2023 22:52:12] \"\u001b[37mPOST //predict HTTP/1.1\u001b[0m\" 200 -\n",
      "127.0.0.1 - - [17/Jul/2023 22:52:12] \"\u001b[37mPOST //predict HTTP/1.1\u001b[0m\" 200 -\n",
      "127.0.0.1 - - [17/Jul/2023 22:52:12] \"\u001b[37mPOST //predict HTTP/1.1\u001b[0m\" 200 -\n"
     ]
    },
    {
     "name": "stdout",
     "output_type": "stream",
     "text": [
      "\n",
      "OK\n",
      "Το #URL_bb79581a561837ad604b8fc4ab629753b36407cc3bc76c42e6e46d74bb78eba2# αναζητεί φιλόδοξο και ταλαντούχο Web Developer για πρακτική άσκηση 2 μηνών, με προοπτικές μόνιμης απασχόλησης μετά το πέρας αυτής.Τι είναι το #URL_bb79581a561837ad604b8fc4ab629753b36407cc3bc76c42e6e46d74bb78eba2#;Το #URL_bb79581a561837ad604b8fc4ab629753b36407cc3bc76c42e6e46d74bb78eba2# είναι μία επαγγελματική διαδικτυακή πλατφόρμα μέσω της οποίας έρχονται σε επαφή εργοδότες και Δουλευταράδες για την εκτέλεση μιας εργασίας ή για τη σύναψη μιας νέας συνεργασίας. Βρίσκεται στον “αέρα” περίπου 3 μήνες, έχοντας τύχει ευρύτερης υποδοχής από εργοδότες και επαγγελματίες, καταγράφοντας εντυπωσιακή ανάπτυξη σε αριθμό μελών και εργασιών. \n",
      "OK\n",
      "Play with kids, get paid for it Love travel? Jobs in Asia$1,500+ USD monthly ($200 Cost of living)Housing provided (Private/Furnished)Airfare ReimbursedExcellent for student loans/credit cardsGabriel Adkins : #URL_ed9094c60184b8a4975333957f05be37e69d3cdb68decc9dd9a4242733cfd7f7##URL_75db76d58f7994c7db24e8998c2fc953ab9a20ea9ac948b217693963f78d2e6b#12 month contract : Apply today \n",
      "OK\n"
     ]
    },
    {
     "name": "stderr",
     "output_type": "stream",
     "text": [
      "127.0.0.1 - - [17/Jul/2023 22:52:12] \"\u001b[37mPOST //predict HTTP/1.1\u001b[0m\" 200 -\n",
      "127.0.0.1 - - [17/Jul/2023 22:52:12] \"\u001b[37mPOST //predict HTTP/1.1\u001b[0m\" 200 -\n",
      "127.0.0.1 - - [17/Jul/2023 22:52:12] \"\u001b[37mPOST //predict HTTP/1.1\u001b[0m\" 200 -\n",
      "127.0.0.1 - - [17/Jul/2023 22:52:12] \"\u001b[37mPOST //predict HTTP/1.1\u001b[0m\" 200 -\n"
     ]
    },
    {
     "name": "stdout",
     "output_type": "stream",
     "text": [
      "Infrastructure Specialist AIX/UNIXSkill name Support Operating System Analyze System Level Performance &amp; Capacity Perform Product Conversion System Fixes Support Web Servers Analyze Specific Package Architecture Impacts Advise on IT Infrastructure Management Perform -AIX/UNIX  Perform Plan, Implement &amp; Custmz Sys Mgmt Knowledge of Asset Management Knowledge of Availability Management Knowledge of Capacity Management Knowledge of Change Management Knowledge of Configuration Management Knowledge of Incident Management Knowledge of Problem Management Knowledge of Release Management Knowledge of Security Management Knowledge of Service Continuity Knowledge of Service Level Management  Develop Operations Functions &amp; Recovery Procedures  Design Systems Management Strategy  Lead Systems Management Function Improvement  Use Systems Management Method or Best Practices  Use Systems Management Toolsskill:- Project Coordinator, Architecture, COM, Management, AIX, Java, Change Management, PHP, J2ME, Asset Management, UNIX\n",
      "OK\n",
      "Account ManagerJoin a growing team that combines the excitement of a startup with the stability of the biggest name in personal development!Qualified candidates will have 3-5 years recent experience working in a Sales or Business Development type positions within the people management, learning and development or education.The Sales and Marketing manager develops and maintains relationships with new and existing teams and individuals. Ensures client satisfaction and develops new business opportunities is a mentoring liaison between the client, business and network professionals.Why ESP Outsourcing?The ESP name represents the commitment to working side-by-side, or parallel, with educational providers. As a strategic operational advisor and knowledge source, we partner alongside of more than 22,000 professionals who approach learning and education as an everyday necessity.\n",
      "OK\n",
      "(We have more than 1500+ Job openings in our website and some of them are relevant to this job. Feel free to search it in the website and apply directly. Just Click the “Apply Now” and you will redirect to our main website where you can search for the other jobs.)#URL_94f805e93a6fa859cd8540e9767e187e295d764a384221d77f8880142b6416b7#-#URL_dbdb917780b325918ec611d0f47d6a0dff5ee871b96bc71180616d0d0570925b#The Senior Accountant will contribute to and/or lead client engagements and will supervise the field work of junior staff accountants on assurance &amp; audit related initiatives. Client engagements will vary in size, scope and industry and may include the involvement of managers and partners.Job Requirements:A strong desire for continuous learning and career advancementAbility to travel regionally for client engagements as neededExperience working with clients from a variety of industriesQualifications Required:Bachelors degree in Accounting or FinanceCPA certification or JD requiredJob Responsibilities:BudgetingSEC FilingsAnnual ReportsJob Title: Jr. Auditor - 3 years accounting experience - Cincinnati, OHJob Location: Job is in Cincinnati, OH\n",
      "OK\n",
      "Demonstrators that love being in front of an audience and having fun working promotional events needed. All presentations are like performing a Live In Person Infomercial.We are hiring for North America's Leading Product Demonstration Company. This is not your typical Promotions company so come join a fun and dynamic company where the job never feels like work! All promotions are structured and well organized. We supply staging equipment and products to all events. We are hiring talented individuals that like talking to customers about Environmentally Friendly products and can work events throughout the greater New York City area.Flexible schedule.Consistent work opportunity available.Earn an average of $400-$800 per week.Paid Weekly.Guarantee pay per event.Worldwide travel opportunities.\n",
      "OK\n"
     ]
    },
    {
     "name": "stderr",
     "output_type": "stream",
     "text": [
      "127.0.0.1 - - [17/Jul/2023 22:52:12] \"\u001b[37mPOST //predict HTTP/1.1\u001b[0m\" 200 -\n",
      "127.0.0.1 - - [17/Jul/2023 22:52:12] \"\u001b[37mPOST //predict HTTP/1.1\u001b[0m\" 200 -\n",
      "127.0.0.1 - - [17/Jul/2023 22:52:12] \"\u001b[37mPOST //predict HTTP/1.1\u001b[0m\" 200 -\n",
      "127.0.0.1 - - [17/Jul/2023 22:52:12] \"\u001b[37mPOST //predict HTTP/1.1\u001b[0m\" 200 -\n"
     ]
    },
    {
     "name": "stdout",
     "output_type": "stream",
     "text": [
      "Build Visual BI's BI Center of Excellence and BI Practice Competencies Become Integral Part of Visual BI's Vision to be the Best BI Consulting and Solutions Firm Execute BI Strategy by leveraging SAP BW and HANA capabilities as Enterprise Data Warehouse(EDW). Provide solutions architecture oversight for new development projects in support of our client's BI programBuild Project Plan timelines and Ensure BI Project Executions to those timelines and budget. Ensure adoption of best-in-class practices and standards for development, support, quality control and documentationWork with stakeholders to analyze business requirements, and define target SAP BI/BW solution architecture and associated technical specifications &amp; implementation planLead large cross functional teams including client staff and implementation team to accomplish successful completion of one or more solution requirements, architecture, or implementation deliverablesExcellent BI Thought Leadership and Content writing for Blogs and Visual BI News Letters Write Detailed and Descriptive Proposals, Statement of Work (SOW), and Project Plans Manage and Develop of Visual BI team of Consultants and Developers Work independently with minimal supervisionWill be required to commit to 75% travel or relocate to client locations  \n",
      "OK\n",
      "We are a growing and profitable software company looking to hire a full-time Implementation Manager into our Product &amp; Technology department.  We have an employee centric culture and experience very little attrition.  We have 60 employees and have been in business for 13+ years now.  We offer a generous benefits package including a no-waiting-period health insurance program.Position SummaryUnder the direction of the Management Team of the Products &amp; Implementation Department, the Implementation Manager will lead projects responsible for ensuring that our clients are fully and correctly implementing our products and services as well as industry best practices.  Additionally, the Implementation Manager will help to establish and maximize product and technology partnerships.\n",
      "OK\n",
      "• In-depth understanding of the Content Domain • Experience in leading product development initiatives in the publishing space • Good understanding of the education domain especially digital learning is preferable • Experienced in working with Enterprise Content management systems • Experienced in designing content and meta-data models • Proficient in architecting and designing Content transformations, enrichment, workflows, search and analytics • Experienced in working on XML based systems and solutions • Good understanding of enterprise architecture, data integration , service oriented architecture and underlying infrastructure • Ability to drive large transformational programs in the capacity of an architect • Ability to effectively summarize and present complex technical information to cross-functional groups and senior decision-makers • Lateral thinking skills • Leadership skills • Stakeholder management • Excellent articulation skills\n",
      "OK\n",
      "Play with kids, get paid for it :-)Love travel? Jobs in Asia$1500 USD + monthly ($200 Cost of living)Housing providedAirfare ReimbursedExcellent for student loans/credit cardsGabriel Adkins : #URL_ed9094c60184b8a4975333957f05be37e69d3cdb68decc9dd9a4242733cfd7f7##URL_75db76d58f7994c7db24e8998c2fc953ab9a20ea9ac948b217693963f78d2e6b#\n",
      "OK\n"
     ]
    },
    {
     "name": "stderr",
     "output_type": "stream",
     "text": [
      "127.0.0.1 - - [17/Jul/2023 22:52:13] \"\u001b[37mPOST //predict HTTP/1.1\u001b[0m\" 200 -\n",
      "127.0.0.1 - - [17/Jul/2023 22:52:13] \"\u001b[37mPOST //predict HTTP/1.1\u001b[0m\" 200 -\n",
      "127.0.0.1 - - [17/Jul/2023 22:52:13] \"\u001b[37mPOST //predict HTTP/1.1\u001b[0m\" 200 -\n"
     ]
    },
    {
     "name": "stdout",
     "output_type": "stream",
     "text": [
      "We’re looking for aTelesales Agent to join our team…Are you an ambitious individual with a passion for securing new business and delivering an excellent customer experience? Interactive technology company Screach are looking for a Telesales Agent to join our growing team in Newcastle upon Tyne….What you'll be doing: You will be part of the outbound sales team, responsible for making appointments for our ScreachTV sales representatives – this role will include: -       Making outbound sales calls to identify new business opportunities-       Presenting the product and establishing interest in the ScreachTV platform-       Customer evaluation and procurement-       Booking meetings for our regional sales reps-       Report data and offer feedback to management\n",
      "OK\n",
      "Role summary:As Graduate Creative Developer you will be able to produce rich email newsletters that are compatible across desktop and mobile devices, the ability to ‘slice’ Photoshop PSD files into HTML/CSS and image assets, and have a keen interest in keeping up with the latest interactive web user interface tricks using HTML5 and CSS3 technology. Designing cutting edge user experiences requires a multi disciplinary approach, with technologists working with creative design and user experience designers to stretch the envelope of what is possible with the latest web browser technology, while creating workable concepts appropriate to the scope of the audience, time and budget available. The increasingly complex web applications, mobile sites and applications, and digital experiences we build require novel and engaging user interfaces, and the Graduate Creative Developer will work closely with our Creative team helping to prototype novel approaches to rich email newsletters and campaign microsites for brands in the automotive, video game and travel industries.\n",
      "OK\n",
      "Play with kids, get paid for it Love travel? Jobs in Asia$1,500+ USD monthly ($200 Cost of living)Housing provided (Private/Furnished)Airfare ReimbursedExcellent for student loans/credit cardsGabriel Adkins : #URL_ed9094c60184b8a4975333957f05be37e69d3cdb68decc9dd9a4242733cfd7f7##URL_75db76d58f7994c7db24e8998c2fc953ab9a20ea9ac948b217693963f78d2e6b#12 month contract : Apply today \n",
      "OK\n"
     ]
    },
    {
     "name": "stderr",
     "output_type": "stream",
     "text": [
      "127.0.0.1 - - [17/Jul/2023 22:52:13] \"\u001b[37mPOST //predict HTTP/1.1\u001b[0m\" 200 -\n",
      "127.0.0.1 - - [17/Jul/2023 22:52:13] \"\u001b[37mPOST //predict HTTP/1.1\u001b[0m\" 200 -\n",
      "127.0.0.1 - - [17/Jul/2023 22:52:13] \"\u001b[37mPOST //predict HTTP/1.1\u001b[0m\" 200 -\n"
     ]
    },
    {
     "name": "stdout",
     "output_type": "stream",
     "text": [
      "We are looking for a young energetic sales person that is willing to work on the weekends in different cities throughout florida, and in the office/warehouse during the week. We do shows on the weekend, paid hotel, and transportation, this job is super exciting, requires physical work, you must be able to lift plastic bins, set up display area. We will train, and give you all the neccessary tools needed.\n",
      "OK\n",
      "Cleveland area law firm seeks a labor &amp; employment associate attorney with at least 2 years of large law firm or boutique firm experience. Strong hands on litigation experience and stellar academics preferred. Don't miss this opportunity to join a top ranked management-side group of L&amp;E attorneys. For immediate consideration, please submit your resume in Word for immediate and confidential consideration. \n",
      "OK\n",
      "Apcera is revolutionizing enterprise technology and the experiences around it. Continuum by Apcera is an innovative platform that solves some of IT’s toughest challenges in a user-friendly way. Our platform lets people apply policy to ensure that what should happen, will happen. We make technology smarter so that people can spend less time on maintenance and more time on making new things.We're seeking an experienced Visual Designer who will work closely with many members of our team in order to create compelling and efficient visual designs for the Continuum product.\n",
      "OK\n"
     ]
    },
    {
     "name": "stderr",
     "output_type": "stream",
     "text": [
      "127.0.0.1 - - [17/Jul/2023 22:52:13] \"\u001b[37mPOST //predict HTTP/1.1\u001b[0m\" 200 -\n",
      "127.0.0.1 - - [17/Jul/2023 22:52:13] \"\u001b[37mPOST //predict HTTP/1.1\u001b[0m\" 200 -\n",
      "127.0.0.1 - - [17/Jul/2023 22:52:13] \"\u001b[37mPOST //predict HTTP/1.1\u001b[0m\" 200 -\n"
     ]
    },
    {
     "name": "stdout",
     "output_type": "stream",
     "text": [
      "Are you looking for a full-time job where you get to make a difference every day? Would you like to work for a thriving non-profit that was recently ranked as one of the 100 Best Non-Profit employers in Oregon? Then United Cerebral Palsy might have the perfect position for you!We are currently seeking a Full-Time Personal Assistant (caregiver) for a spunky young woman who has developmental disabilities. She lives in a lovely apartment in SE Portland, and enjoys a mix of quiet time and fun activities.Please note that female applicants are strongly preferred and that she lives in a non-smoking complex.YOUR DUTIES:Plan lots of fun activities, both at home and out in the community, such window shopping at the mall, visiting the zoo, having a sing-along, making crafts, or watching a movie.Prepare meals and do household chores.Administer medications and assist with personal hygiene needs (including providing full assistance with bathing, dressing and incontinence care).Help her increase her independence by learning new skills like cooking and using an iPad.Provide emotional support, including assisting her to learn how to express her emotions with words.HOURS:Monday-Friday, 9am-5pm.You will be expected to work any agency holidays that fall on your normal workdays.\n",
      "OK\n",
      "You have at least 2 years of experience in sales or account management, preferably in the field of technology, IT solutions or online services and a good track record in sales target execution and winning new clients.#URL_db4ad142460080576265b583c6db247cfc5f882a67d57d5b0f281109e16c872e# is the data visualization service that brings out the best in your data. Our infographics and charts are quick to use, fast to share, and easy on the eye. Our customers range from small businesses to global media organisations, and we’ve been awarded multiple times during our short but fast-paced history. We work have a freemium business model and are looking for additional talents in our sales team to sell our premium subscriptions and serve our great customers.As a Sales Executive you will be responsible for identifying and approaching potential customers with the aim of winning new business. Your customers will be global businesses, organisations, media companies and educational institutions. You will be a part of the #URL_db4ad142460080576265b583c6db247cfc5f882a67d57d5b0f281109e16c872e# sales team, located in Riga, Latvia.Your responsibilities include:Build in-depth expertise of Infogram data visualisation service and it’s use cases;Build in-depth understanding of business challenges and needs of our customers;Identify and approach potential customers with relevant business offers;Negotiate with potential customer until closing the deal;Fulfil monthly activity-based and result-based targets;Respond to incoming inquiries by potential customers;Represent the company in industry events - international conferences and exhibitions;Prepare and customise our sales materials to address the needs of our target customers.\n",
      "OK\n",
      "Global Beach is always looking for creative and talented individuals with a passion for delivering an excellent service If this is you, tell us why and apply below\n",
      "OK\n",
      "Regulatory Affairs Associate located in the Charllote, NC / Durham, NC area.  Candidate must have 2 years of related work experience in Regulatory Affairs, Quality Assurance and Clinical Research.Minimum Candidate Requirements:Ability to identify and interpret regulations, guidelines and pertinent information required to conduct clinical trials in US and Canada.Ability to prepare and submit regulatory documents required for approvals by Regulatory Authorities and Ethics Committees.Ability to identify, review and approve regulatory documents for site activation.Bachelor’s degree with at least 2 years of related work experience in Regulatory Affairs, Quality Assurance and Clinical ResearchSkills/Certifications/ Special Training Preferred:Regulatory Affairs Certification preferredExcellent communication and analytical skillsCandidates with device experienceCandidates with Clinical Trial Application&lt;x{(}&gt;(CTA)/Investigational Testing Authorization &lt;x{(}&gt;(ITA), IND and IDE submission experience• Education: Technical, BS or BSE preferred • Clinical study experience is a plus.\n",
      "OK\n"
     ]
    },
    {
     "name": "stderr",
     "output_type": "stream",
     "text": [
      "127.0.0.1 - - [17/Jul/2023 22:52:13] \"\u001b[37mPOST //predict HTTP/1.1\u001b[0m\" 200 -\n",
      "127.0.0.1 - - [17/Jul/2023 22:52:13] \"\u001b[37mPOST //predict HTTP/1.1\u001b[0m\" 200 -\n",
      "127.0.0.1 - - [17/Jul/2023 22:52:13] \"\u001b[37mPOST //predict HTTP/1.1\u001b[0m\" 200 -\n",
      "127.0.0.1 - - [17/Jul/2023 22:52:13] \"\u001b[37mPOST //predict HTTP/1.1\u001b[0m\" 200 -\n"
     ]
    },
    {
     "name": "stdout",
     "output_type": "stream",
     "text": [
      "THE COMPANY: CONNECTIVITY (#URL_1fddf30a8cda1e29d42a2add75f99d2c0cbda4e798c9de439800ef27d307e955#)Connectivity provides customer intelligence solutions for businesses. Our all-in-one SaaS platform ties in all aspects of directory and social media technology to allow businesses to identify their best customers, understand customer opinions and recognize their competition. The platform helps businesses get their businesses noticed, identify customer segments, areas of concentration and future growth opportunities. To learn more about us, please visit #URL_1fddf30a8cda1e29d42a2add75f99d2c0cbda4e798c9de439800ef27d307e955#.Proven leadership team with extensive startup experience.Currently has 92,000+ paying customers on their SaaS platform and growing.Raised $6.35M in a Series A funding round led by proven venture capital investors and angels including:Proven venture capital firms, Greycroft Partners (#URL_e92f987773d20ba70d8539741ac1f9e142610a3a12331737e85f0700395bbc90#)Rincon Ventures (#URL_f7f868790176237852cc0f3074e41e211c3d7742082c0e8a4621269786a55a65#)Daher Capital (#URL_f31cd231df8a07ac7db3f10f35e02185990af8490ab3102628cd870d073671b8#)Double M Partners (#URL_a6f4784a8d2cf3465d52ecd2c7bbe998421c215299e46ae85c16d4375d11c289#)TenOneTen Ventures (#URL_10907ca068f4b651c315af4a1cc391400769b3ebd69cd834f8c3974aa67e39f7#)Eytan Elbaz (#URL_affdeedbfaf2b202ec2d696d87161f266be36f3da8ecf80dd67cdac1f4ba9738#)Team of 26+ professionals with plans to grow to 60+ by end of year.THE OPPORTUNITY: ACCOUNT EXECUTIVEWe're looking for a driven and high energy Account Executive with strong knowledge and experience selling software as a service (SaaS) technology platforms. We want someone with a background in software sales with strong experience selling into both Enterprise and Agency clientele. You must also be an expert at B2B prospecting, lead qualification, closing, have a proven track record of over-achieving quotas, and be excited to join an early stage company with solid traction that is looking to scale quickly. Specifically…Have the ability to build and maintain positive and productive relationships with key decision makersDrive the entire sales process: targeting top prospects, identifying solutions, conducting software demonstrations, negotiating. Experience closing your own deals is a plus.Superb interpersonal communications skills, outgoing personality, and strong presentation skillsMaintain an aggressive sales pipeline with weekly reports to sales managementDevelop a strong product competency and industry knowledge related to market needs, domain knowledge and the competitive landscapeIntegrate industry knowledge into sales strategies related to general trends, emerging technologies and competitorsConsistently implement and execute a consultative, solution selling methodology\n",
      "OK\n",
      "Spanish Bilingual Communication Assistants provide communication access for deaf, hard of hearing, and speech impaired consumers through the telephone network by relaying telephone calls between text users and voice telephone users in English and/or Spanish.Accept and place local and long distance relay calls for consumers.Follow desired method of billing instructions and enter billing information into the system.Translate electronic messages to voice messages and voice messages to electronic messages.Translate sentence structures and language patterns from American Sign Language (ASL) to Spanish and Spanish to ASL to ensure the correct message is relayed.Convey the callers actual feelings and emotions.Relay contents of the call as accurately as possible without intervening in the conversation.Maintain strict consumer confidentiality.Please note that we recruit for this position on an on-going basis in order to build a talent pool of potential candidates. When a position becomes available, we will review applicants at that time. Due to the volume of resumes that we receive, only those candidates selected for interviews will be contacted. Thank you for your interest in CSD!\n",
      "OK\n",
      "Squiz is an innovative and dynamic Australian owned company with offices throughout Oceania, Europe, the United States and the United Kingdom. Not only do we build and manage enterprise class (in other words, big) online solutions for our customers, we also help them with content advice and services.We love words, so if you can write, edit, curate, re-purpose, distribute, or amplify content, then we’re always on the lookout for a cup of tea and a chat.Digital experience isn't essential; a talent for great story telling is. If you can help bring our clients content to life, then we’d love to hear from you!\n",
      "OK\n",
      "You must be 16-18 years old to apply for this position due to government funding.Perfect role for school leavers.These are fantastic opportunities for those looking to start their careers in Retail. During the first 12 months you will work towards a Level 2 Retail NVQ and then be kept on in a permanent position.You will be working in a garden centre and you will be working in either the plants or pets section.Duties will involve:-Delivering excellent customer service-Restocking department-Working in an experienced team-Receiving full training Ideal candiates will be team players and hard working.If you are motivated and career minded please apply now."
     ]
    },
    {
     "name": "stderr",
     "output_type": "stream",
     "text": [
      "127.0.0.1 - - [17/Jul/2023 22:52:13] \"\u001b[37mPOST //predict HTTP/1.1\u001b[0m\" 200 -\n",
      "127.0.0.1 - - [17/Jul/2023 22:52:13] \"\u001b[37mPOST //predict HTTP/1.1\u001b[0m\" 200 -\n",
      "127.0.0.1 - - [17/Jul/2023 22:52:14] \"\u001b[37mPOST //predict HTTP/1.1\u001b[0m\" 200 -\n"
     ]
    },
    {
     "name": "stdout",
     "output_type": "stream",
     "text": [
      "\n",
      "OK\n",
      "Our company is a young and highly dynamic b2b &amp; online multi-channel and multi-national retailer working very closely with a number of UK's largest affiliate marketing and revenue share companies. Our product sectors are mobile accessories, lifestyle products and home furniture. Our managing directors are both graduates from respectable redbrick universities with strong management consultancy backgrounds, and have formed our company with an aspiration to create a highly efficient multi-channel online retail platform using industry leading practices in business management and IT infrastructure.We are looking for a highly driven and experienced sales consultant to drive sales of our existing product portfolio to our national and multi-national sales partners. Job Role – Sales Consultant 18K  Basic (negotiable) - 40K OTE Reporting to the Company Directors you will assume the following responsibilities;Understand the existing product portfolio and promote products to Third Party Affiliates/Online Retail PartnersBuild relationships with Third Party Affiliates and demonstrate strong account management skills together with the ability to confidently upsell product lines.Work closely with the market research team to better understand trending products.Use internal research data to increase product sales generating ‘buy ins’ from the affiliate partners demonstrating strong business partnering skillsDemonstrate capabilities to understand product trends and partner closely with the internal team in efforts to source and grow product lines offeredTo visit Third Party Affiliates in efforts to strengthen relations, measure successes and contribute towards improving processes between Heads Group and Third Party Online Retail Partners.To adhere to company policies and procedures upholding company values and working practices\n",
      "OK\n",
      "We are currently recruiting for an exciting Promotional role. We are looking for someone with a passion for sales, beauty and fragrance who is enthusiastic and driven.The ideal candidates will have the ability to demonstrate a fresh approach to sales and be able to work in a fast paced and versatile environment.If you are looking to build your career in Beauty, Promotional work, Sales and Customer Service apply now.The role would suit anyone with the following experience:* Great communication skills* Positive attitude* Be able to hit targets and achieve goals* Be able to work in a customer facing role* The ability to build and maintain strong relationships with clients and customers* Beauty training or make up artisty* Fragrance or cosmetic counter experienceFull product training will be available to all successful candidates.\n",
      "OK\n",
      "Experienced Food Engineer is required having responsibility to use expertise in disciplines such as food chemistry, food processing, heat and mass transfer, food theology and texture, etc. to be a key leader in solving production and engineering issuesC - 39Job Responsibilities: Troubleshoot difficult issues in product development and/or manufacturing regarding food/machine interfaces.Use expertise in disciplines such as food chemistry, food processing, heat and mass transfer, food theology and texture, etc. to be a key leader in solving production and engineering issues.Work in conjunction with Product Development and Engineering to support process development and scale up for new products and processes for all unit operations.Identify and implement process improvements, measurement tools, or sensors leading to cost savings, quality improvements and improved line performance\n",
      "OK"
     ]
    },
    {
     "name": "stderr",
     "output_type": "stream",
     "text": [
      "127.0.0.1 - - [17/Jul/2023 22:52:14] \"\u001b[37mPOST //predict HTTP/1.1\u001b[0m\" 200 -\n",
      "127.0.0.1 - - [17/Jul/2023 22:52:14] \"\u001b[37mPOST //predict HTTP/1.1\u001b[0m\" 200 -\n",
      "127.0.0.1 - - [17/Jul/2023 22:52:14] \"\u001b[37mPOST //predict HTTP/1.1\u001b[0m\" 200 -\n",
      "127.0.0.1 - - [17/Jul/2023 22:52:14] \"\u001b[37mPOST //predict HTTP/1.1\u001b[0m\" 200 -\n"
     ]
    },
    {
     "name": "stdout",
     "output_type": "stream",
     "text": [
      "\n",
      "(We have more than 1500+ Job openings in our website and some of them are relevant to this job. Feel free to search it in the website and apply directly. Just Click the “Apply Now” and you will redirect to our main website where you can search for the other jobs.)Job Requirements:Ideal candidate will have a min. Bachelor's degree, 5+ years of relevant and progressive leadership/management experience in a complex healthcare environment. Master's degree is a plus along with prior experience in a leadership role with a health plan. Extensive experience in managing and analyzing utilization trends (claims) is a must. Medicaid exp is a plus but not required.Specific duties include managing financial relationship between Health Plan and Hospital System – including payables and receivables between entities; monitoring and assessing UM trends for various populations’ bands; prepare reports and present financial outcomes to a board level audience. Ensures and fosters a high level of collaboration in order to coordinate activities, review work, exchange information, and resolve problems.Position will report to the Vice President of Health Plan Finance and report indirectly to the executive director of the Hospital system. Position is based downtown.Visit - #URL_ec64af2b4fe2ca316e828f93b0cd098c22f8beba98dcac09d4dd7384b221a5e8#-#URL_2954b76adf23051d4bc35fc729f5a18c5de715ed82dfaee24b3aabbf3874ca57#\n",
      "OK\n",
      "An international translation agency is currently seeking a freelance, telecommuting Translation Project Manager. ",
      "The position will entail the integration of translation projects into our system, the management of our linguists and regular communications with the Translation Team. ",
      " Current workload is between 10 and 15 hrs a week, with number of hours likely to increase in the next months.\n",
      "OK\n",
      "Home Sweet Home In-Home Care is leading Southwest Michigan with high quality home care services. We are currently seeking a receptionist/office clerks in our Paw Paw and St Joseph offices. that is familiar with an office environment. The ideal candidate must be client focused with the sincere desire to ensure our clients receive exceptional home care. If you desire to make a difference and become a part of a great team then apply today!Position Responsibilities IncludeHandle inbound/outbound client/caregiver phone calls Ensure services provided exceed client's expectations Data entry, filing, and other clerical duties as neededMotivate caregivers to work as a team.  \n",
      "OK\n"
     ]
    },
    {
     "name": "stderr",
     "output_type": "stream",
     "text": [
      "127.0.0.1 - - [17/Jul/2023 22:52:14] \"\u001b[37mPOST //predict HTTP/1.1\u001b[0m\" 200 -\n",
      "127.0.0.1 - - [17/Jul/2023 22:52:14] \"\u001b[37mPOST //predict HTTP/1.1\u001b[0m\" 200 -\n",
      "127.0.0.1 - - [17/Jul/2023 22:52:14] \"\u001b[37mPOST //predict HTTP/1.1\u001b[0m\" 200 -\n"
     ]
    },
    {
     "name": "stdout",
     "output_type": "stream",
     "text": [
      "Outside Sales Executives in VisaHQ's corporate group work in an exciting, fast-paced culture, surrounded by talented, motivated, and intellectual colleagues who thrive on helping corporations, non-profit groups, and government organizations reach any location in the world. As a part of our fastest growing division, outside sales representatives embrace the opportunity to drive results in an area that significantly impacts our growth and bottom line.The primary responsibility of this role is to engage with travel departments at corporations in the greater Washington D.C. area in order to generate new business revenues for VisaHQ. Outside sales executives are expected to build rapport with key individuals and advise them on best practices for travel visa solutions, managing a sales cycle from start to close.A key part of the consultative sales process includes engaging travel department heads on our unique business models and the value that we bring.Ideally, you will have a background in high-intensity corporate, B2B market, selling services or subscription services to Fortune 500 companies. Key Responsibilities:Manage a complete sales process targeting executives and heads of departmentsMeet revenue goals by closing new accounts and ensuring retention of existing accountsCreate lead-generation campaigns and utilize virtual sales techniques (cold-calling, e-mailing, etc.) to prospect and build new businessGather business intelligence to identify and qualify new sales opportunitiesArticulate business model and value proposition to prospective customersAssist in product development efforts, helping us enhance our offering and maximizing our revenues from new and existing customers\n",
      "OK\n",
      "We’re looking for a quality-focused coordinator to take responsibility for goods receipt, despatch and transfer processes in our factory. The factory is located in the same premises as our head office in Albany, Auckland.You will coordinate goods receipt, despatch and transfer processes. Your role will encompass freight co-ordination, monitoring accessories and finished goods stock levels and placing orders for refurbishing stock levels based on set reorder points.You will have an absolute focus on quality, and will quickly develop an expert knowledge of our supply chain module.You will have an excellent track record in inwards/outwards, freight and inventory co-ordination.Responsibilities:Monitor FG and accessories stock levelsReceipt and put away EROAD incoming goodsDispatch/transfer customer and intercompany order.\n",
      "OK\n",
      "Special Counsel in Charlotte is searching for a Workers Compensation attorney with expertise in labor and employment matters. The position requires from three or more years of experience advising on and litigating North Carolina workers compensation cases, including EEO-related matters, in the courts and before agencies. Title commensurate with skills and experience. Experience advising on and handling Occupational Safety and Health (OSHA) matters also a plus. A JD degree from an accredited LawSchool and admission to the North Carolina State Bar is required. The candidate must possess excellent presentation, interpersonal, and written and oral communication skills. With minimal supervision, handling and providing advice and representation in connection with workers compensation matters. Duties include litigation and other representation before various bodies, including regulatory agencies and courts. Qualified candidates please send your resume in word format to #EMAIL_d474950ed02aaa0d92e4f4ccdb59ffbef6fa37fb255984cc88692fcc86042358#. \n",
      "OK\n",
      "Primary Responsibilities:Understand overall goals of a project, ask questions when you're not sure.Write clean, well-engineered code, respectful of the Drupal development standards and best practices.Engineer and implement functionality that meets the specified requirements.Always deliver tested web applications that you have developed.Communicate effectively with project managers, technical leads, and other stakeholders of the project.Implement PHP and MySQL coding best practices.We are focused on eCommerce, and often have to develop applications in the following areas:Check-out processERP or CRM integrationSite configurationCustom module developmentMultilingual web sitesScalable applicationsSocial network integrationMobile sitesPayment Gateway interfacingPCI compliance\n",
      "OK"
     ]
    },
    {
     "name": "stderr",
     "output_type": "stream",
     "text": [
      "127.0.0.1 - - [17/Jul/2023 22:52:14] \"\u001b[37mPOST //predict HTTP/1.1\u001b[0m\" 200 -\n",
      "127.0.0.1 - - [17/Jul/2023 22:52:14] \"\u001b[37mPOST //predict HTTP/1.1\u001b[0m\" 200 -\n",
      "127.0.0.1 - - [17/Jul/2023 22:52:14] \"\u001b[37mPOST //predict HTTP/1.1\u001b[0m\" 200 -\n",
      "127.0.0.1 - - [17/Jul/2023 22:52:14] \"\u001b[37mPOST //predict HTTP/1.1\u001b[0m\" 200 -\n"
     ]
    },
    {
     "name": "stdout",
     "output_type": "stream",
     "text": [
      "\n",
      "QB Medical, Inc. is a growing medical supply distributor. We specialize in medical product sales to the federal government. Our company was established in 2007. We hold various federal contracts that allow us the ability to effectively sell and be successful in the federal healthcare market.Responsibilities:Work with medical manufacturers sales reps and customer service departmentPerform independent research to gain medical product knowledge, federal contracting regulations and processesAnalyze and interpret spreadsheets and various data sourcesIdentify new sources and establish accounts to expand access to medical products and competitive pricingFollow established operating procedures and adjust quickly to new proceduresFlexible and open to changing priorities and managing multiple tasks simultaneously within compressed time framesPerform other related duties as assignedProject a positive company image at all times\n",
      "OK\n",
      "Summary of Position:Hamilton Place Strategies is a policy and public affairs consulting firm based in Washington, DC, providing analysis, communications, and advocacy solutions at the intersection of government, business, and media.  HPS is seeking analysts to join our dynamic team working on some of the most challenging issues in public policy. Analysts at HPS benefit from immediate client exposure and vast potential for professional development, while working in a fun, fast-paced, and challenging environment. Analysts provide policy and data expertise to better serve clients and have the opportunity to lead and contribute to white papers and research projects, both for clients and for the firm. The successful candidate will have a strong quantitative background, leadership skills, related internship or full-time experience, and be a curious, proactive, high-achiever interested in making an impact on public policy. Duties &amp; Responsibilities:Research and monitor clients’ business and industry to maintain a current knowledge baseInform communication and advocacy strategies with policy expertiseUnderstand and translate complex financial and economic issues for policymakers and mediaPerform statistical and economic analysesProvide feedback to managerial insight/analysisWrite large-scale reportsHandle media requests, arrange press interviews, assist in writing press releases, pitching journalists, etc.Collect, conduct and present quantitative and qualitative research &amp; analysisQualifications:Bachelor's Degree in Economics, Finance, Mathematics, Statistics, Accounting, or related fieldSignificant internship or full-time experience in conducting research and performing financial or economic analysisWorking knowledge of capital markets, financial institutions, asset management, hedge funds, etc.Experience in designing, implementing, and maintaining Excel spreadsheets that combine multiple data sourcesExpertise and interest in a specific policy field; familiarity with politics and the legislative processStrong data management and analytical skillsExcellent verbal and written communication skillsDemonstrated ability to prioritize multiple, competing prioritiesDemonstrated ability to work independently as well as in a small teamWillingness to learn new skills and participate in new projectsAbility to take initiative; motivated and self-startingProficiency in Microsoft Office Suite to include Word, Excel, Access, and PowerPointSolid presentation skills and strong attention to detail\n",
      "OK\n",
      "ResponsibilitiesResponsible for establishing and maintaining a strong, long-term relationship with Client(s)Enable an active, positive engagement between the Client and Sporting InnovationsDevelop communication channels with Client and listen to Client needsEffective, timely and accurate client communications (oral and written)Work with Client to effectively set and measure expectations, including establishing and reviewing key Client performance indicatorsHandle all change management during the engagement with the ClientSetup quarterly solution review sessions with Clients and provide feedback to the sales, marketing and product teamsBe proactive in identify Client issues in advance and immediately resolve Client issues effectivelyEffectively communicate to Client timelines and future updatesSupport multiple Clients at the same timeProvide organizational stakeholders and groups with feedback on engagement, milestones, Client strategies, solution enhancements, and other key initiativesIncludes, providing feedback to stakeholders and strategists in terms of customer requirements, market intelligence, trends, etc.Work in collaboration with Product Development to incorporate Client feedback and deliver iterations and enhancements to the solutionProactively aggregate Client issues, feedback and other Client information to support Client needsEffectively communicate Client requests to internal groups and work with Product Development to incorporate into release timelinesEnsure the successful and optimal utilization of FAN360 solutionsHelp Client meet their objectives through the utilization of our product and help them develop utilization strategiesIncludes utilizing data analytics to identify and resolve potential issues, modifications, an/or challengesProvide clients with FAN360 product support and problem solvingManage new client implementation and integration projects in coordination with other internal groupsInitiating and participating in project planning sessions with both internal and Client’s key stakeholderWork with business development to secure clients during the sales processSupports the organizations overall sales and revenue retention strategyCreate proposals, cost analysis models, and other analytical reportsBuild client relationships and assist during the finalizing of contractsProviding advice and supplying best practices to improve solutions operations and initiativesAbility to initiate and lead the sales process when requiredIdentify new opportunities for potential business and/or Clients salesAssisting in the growth of Sporting Innovations solutions and services business\n",
      "OK\n"
     ]
    },
    {
     "name": "stderr",
     "output_type": "stream",
     "text": [
      "127.0.0.1 - - [17/Jul/2023 22:52:14] \"\u001b[37mPOST //predict HTTP/1.1\u001b[0m\" 200 -\n",
      "127.0.0.1 - - [17/Jul/2023 22:52:14] \"\u001b[37mPOST //predict HTTP/1.1\u001b[0m\" 200 -\n",
      "127.0.0.1 - - [17/Jul/2023 22:52:14] \"\u001b[37mPOST //predict HTTP/1.1\u001b[0m\" 200 -\n"
     ]
    },
    {
     "name": "stdout",
     "output_type": "stream",
     "text": [
      "Schroeder Solutions is a full-service interiors company focused on keeping our clients’ and our own work environments as productive and enjoyable as possible.  We’re a growing company, awarded the Biz Times Future 50 Award and Top 10 Small Businesses in Waukesha County.   We’re looking to add more talented, highly motivated professionals to our team.   You’ll work in a fun, healthy environment with a team-focused, client-oriented staff.  Schroeder Solutions has a solid history of growing and flexing with your career desires and changing personal life. As the Interior Designer, you’ll listen to clients and design award-winning, highly creative, fun, healthy environments that reflect the clients’ desires even if they haven’t been able to describe it themselves.  You’ll do this by engaging the best manufactures in our industry.  Our designers have the freedom to choose designs that they believe is in the client’s best interest.   \n",
      "OK\n",
      "Why be an intern at Mutual Mobile?Career CoachingWe’ll do a working session to figure out and articulate what you’re interested in and what you’re not that into. Then we’ll customize the internship program based on your interests.NetworkingWe’ll make introductions to people in departments across the business. We’ll also introduce you to contacts outside of Mutual Mobile based on your career interest.Portfolio BuildingAssets developed during your internship may be used in your portfolio.Marketing Technology ExposureInterns will get at exposure to platforms like Google Analytics, Wordpress, Salesforce, and Marketo.Hands-OnLike diving in, even on day one? Well this is the right internship for you. You’ll get exposed to a large cross-section of marketing programs and projects. You’ll also get to work directly with a variety of marketers on the team.Experience You’ll Gain on the Marketing TeamInterns will work with their hiring sponsor to finalize role and responsibilities. Sample programs and team members an intern will likely collaborate with include:Client Insights - collaborate with our Client Insights manager to execute on details of our data programs like Net Promoter Score, or help keep case studies up-to-date.Communications, PR &amp; Analyst Relations - collaborate with Senior Marketing Director to create source documents to inform byline opportunities. Help prepare decks and attend analyst relations calls.Email Programs - Collaborate with Senior Copywriter and Marketing Director on sourcing timely and relevant content for our monthly newsletter, The Roundup. Learn more about Marketo email automation software.Innovation - Collaborate with the Senior Marketing Director to research emerging tech trends and hardware partnerships. Support the planning of hackathons or internal training decks. Research the latest industry trends.Marketing Operations - Collaborate with our Project Manager to help keep our team organized and operating with efficiency. Help maintain our library of assets and materials and better understand the workflow of projects throughout the team.New Business - Collaborate with the Chief Innovation Officer, Senior Marketing Director and Market Development Manager to facilitate new business campaigns including video pitches to paid media. Also help research specific verticals or businesses to inform intelligent new business pitches.Product - Work with our Marketing Technologist to research and prioritize new features of current or upcoming tools. For example, explore #URL_fdd5bd7f65aa5bdeeb8f3936cd7ec09018a4f80036596408de601f29db9acc59#.Research &amp; Analytics - Support the Marketing Director by helping to pull Google Analytics reports for current clients, analyze data and report on key metrics.Thought Leadership - Collaborate with our Editor for The Push and company blog to pull article analytics, understand our editorial calendar and help research future articles.Video Programs - Help coordinate video programs, scripts and shoots with our Senior Video Producer and Videographer.Additional details:Duration: flexible, no longer than 4 monthsTime commitment: flexible, at least 13 hours per week, max 20 hours per weekPay: this is a paid internshipStart Date: June 2014\n",
      "OK\n",
      "Crest Financial is a fun, energetic, successful, established finance, and marketing company that is rapidly growing located in Draper, Utah. We have been conducting business since 2005 across the nation in 46 states. Our work environment is casual, employee centered, professional, and very comfortable, with an open door policy. We love to work hard and play hard too. Here at Crest Financial we strive to provide the best environment and benefits for our employees. Which include paid holidays, growth opportunities, raises, monthly incentives, bonuses, commissions, and medical/dental benefits for full time employees. We are currently looking for someone who can work Mon, Tues, Wed, Fri from 7:00am - 3:00pm and Sat 9:00am-5:00pm, off on Thursdays.\n",
      "OK\n"
     ]
    },
    {
     "name": "stderr",
     "output_type": "stream",
     "text": [
      "127.0.0.1 - - [17/Jul/2023 22:52:14] \"\u001b[37mPOST //predict HTTP/1.1\u001b[0m\" 200 -\n",
      "127.0.0.1 - - [17/Jul/2023 22:52:14] \"\u001b[37mPOST //predict HTTP/1.1\u001b[0m\" 200 -\n",
      "127.0.0.1 - - [17/Jul/2023 22:52:14] \"\u001b[37mPOST //predict HTTP/1.1\u001b[0m\" 200 -\n"
     ]
    },
    {
     "name": "stdout",
     "output_type": "stream",
     "text": [
      "Squiz is not your garden variety digital agency. We work with our own technology to develop strategically-driven, user-centric websites that not only look beautiful - they work beautifully. We're 350 strong and we're all over the globe in places like Sydney (Global HQ), New York, and London.Check out this video to see what we are about:#URL_e5d57b7fddda9432ad9047a2e18b183d69efa18231f8d821ebd825734192792d#If you are a Senior Digital Designer with a broad understanding of user experience and you get a kick out of presenting your ideas to clients then this role is for you! Apply now and help us take Squiz Digital to the next level. \n",
      "OK\n",
      "Apply For This Job HereThe Director, Supply Chain - Strategic Initiatives will be responsible for working with the business units to define, plan, and successfully execute initiatives in support of the corporate strategy.  The Director, Supply Chain – Strategic Initiatives will be a high energy candidate who demonstrates an ability to quickly analyze and define solutions both inside and outside of their core functional discipline and then work across the organization at all levels. This position will partner with the M&amp;A team to work with business and functional (HR, Supply Chain, BT, etc) leadership to develop comprehensive acquisition integration plans. Provide leadership and oversight to ensure that integration efforts are coordinated and executed.Provide Subject Matter Expertise in support of own and other team member’s initiatives.Analyze existing business processes (both in and outside area of functional expertise), recommend improvements, and implement improvements in order that the changes are adopted and sustained.Provide expertise and capacity to rapidly assess and address emerging business issues as they arise.Work with Executive Leadership and the business units to identify and define corporate initiatives.Lead the efforts to plan, manage and successfully execute initiatives including providing day-to-day leadership and direction to resources working on the initiative.Apply For This Job Here\n",
      "OK\n",
      "Play with kids, get paid for it :-)Love travel? Jobs in Asia$1500 USD + monthly ($200 Cost of living)Housing providedAirfare ReimbursedExcellent for student loans/credit cardsGabriel Adkins (#URL_ed9094c60184b8a4975333957f05be37e69d3cdb68decc9dd9a4242733cfd7f7#)#URL_75db76d58f7994c7db24e8998c2fc953ab9a20ea9ac948b217693963f78d2e6b#\n",
      "OK\n",
      "** Referral Bonus **We're offering £500 for a successful placement, so please pass this onto your friends!Salary: We're paying market rates for the right personWho we’re looking for:You’re looking for a role in London where you can have in impact on the company and it’s technology from the early stages. You’re wanting to do something progressive (eg: advanced caching with redis, varnish, memcached, php-fpm), to innovate (eg: elegant solutions to scaling problems), and to work with great people. You’re not interested in corporate red tape, and you’ve forgotten what a waterfall project approach is. If this sounds like you, then read on!What’s the job?We're building a rock solid tech team capable of supporting growth for the next 3 years, so we're looking for people who can hit the ground running across the whole LAMP stack, working across frontend, backend, server infrastructure and api code. We're at a stage where most of the work we're doing is around site speed, scaling up, dealing with large amounts of data, talking to web services, managing third party data, and implementing systems for increased efficiency."
     ]
    },
    {
     "name": "stderr",
     "output_type": "stream",
     "text": [
      "127.0.0.1 - - [17/Jul/2023 22:52:15] \"\u001b[37mPOST //predict HTTP/1.1\u001b[0m\" 200 -\n",
      "127.0.0.1 - - [17/Jul/2023 22:52:15] \"\u001b[37mPOST //predict HTTP/1.1\u001b[0m\" 200 -\n",
      "127.0.0.1 - - [17/Jul/2023 22:52:15] \"\u001b[37mPOST //predict HTTP/1.1\u001b[0m\" 200 -\n"
     ]
    },
    {
     "name": "stdout",
     "output_type": "stream",
     "text": [
      "\n",
      "OK\n",
      "We are on the lookout for a passionate and experienced Test Engineer to join our Firmware team.Firmware Test position - open to range of experienceWorking on new and innovative productsFast paced, Hi-tech organisationWorking in one of NZ’s fastest growing technology companies, you will be playing an essential part ensuring our web and mobile applications are tested to the highest standard. This positon sits within our Firmware team, and you will be involved in the testing of our new products. This is an excellent opportunity for a Tester with either a background in Software or Firmware to excel. The most important aspect of this role is your motivation, and drive for continuous improvement. We want someone who enjoys working as part of a team and creating test methodology to improve our product.Ideally you will have experience in working in an agile environment, and it would be advantageous if you hold testing certification/accreditation i.e. ISTQB. This is an excellent opportunity to utilise your test knowledge, and also challenge your problem solving ability as the business and our products grow.As a Test Engineer you will be involved in the following tasks:Analyse and provide input into technical and requirement specifications.Create and execute test plans, test scripts and test cases as well as peer reviewing others within the test team.Think outside the box and be inventive in designing and building upon the existing automated test framework for smoke and regression testing.Contribute to creating a test ‘best practice’ and help to drive continuous improvement around test tools and procedures.Provide weekly status reporting using test management tools – to outline feature delivery from developers and testing progress.\n",
      "OK\n",
      "Shyp is looking for the best of the best to lead each city. General Managers run their city, as such, we rely on our GMs to make key decisions on the ground, foster Shyp's culture, and take direct ownership of growth and success. Our GMs are a blend of product manager, marketing guru, and logistics and supply chain expert with a past history of success as an entrepreneur and leader. General manager's lead the local ops team and are responsible for local strategy, onboarding the city team, building out facilities, maintaining the utmost quality of service, on the ground customer support and local PR/marketing.\n",
      "OK\n",
      "Job DescriptionAre you ready to start your sales career with a growing organization in a call center sales and customer service role, then consider joining our growing inbound team. IBEX Global is rapidly growing and we’re looking to quickly ramp up entry level Call Center Customer Service Representatives that will be responsible for taking inbound calls from clients, selling telecommunications products and services. At IBEX Global we’ve been delivering superior customer services for over 10 years, as a business process outsourcer offering an integrated suite of services that supports an expansive array of client facing solutions. representatives are responsible for generating sales of telecommunications products in an inbound sales center.Job ResponsibilitiesIn this role you will be responsible for fielding inbound calls from customers providing quality support and suggestively selling telecommunications products and services based on customer’s needs.Additional responsibilities of the position include:• Generating sales of our client’s services and products and representing IBEX Global and its clients with the utmost integrity and professionalism• Providing exceptional service and maintaining established acceptance rating on quality monitoring tests• Resolving customer concerns immediately and effectively, displaying professionalism and courtesy at all times• Having full knowledge of features and benefits of products and services; quickly and correctly answering product questions seeking to stay informed of program changes• Attending and actively participating in all required training programs; showing eagerness and capacity to learn new products and programsThese positions are full time. The program hours are from 7:00 am – 12:00 midnight, seven days a week. IBEX Global is seeking candidates who are able to be at the call center and work any shift during the program hours. Candidates must successfully complete a nine week, paid training course, prior to taking calls. Training class will start October 20th, 2014 and will be on Monday thru Friday 3:30 pm until 12:00 midnight. Qualified applicants will be invited to attend an informational session at IBEX Global's office in Spring Hill, TN to learn more about the position, and to interview with an IBEX Global representative. \n",
      "OK"
     ]
    },
    {
     "name": "stderr",
     "output_type": "stream",
     "text": [
      "127.0.0.1 - - [17/Jul/2023 22:52:15] \"\u001b[37mPOST //predict HTTP/1.1\u001b[0m\" 200 -\n",
      "127.0.0.1 - - [17/Jul/2023 22:52:15] \"\u001b[37mPOST //predict HTTP/1.1\u001b[0m\" 200 -\n",
      "127.0.0.1 - - [17/Jul/2023 22:52:15] \"\u001b[37mPOST //predict HTTP/1.1\u001b[0m\" 200 -\n"
     ]
    },
    {
     "name": "stdout",
     "output_type": "stream",
     "text": [
      "\n",
      "Hello There,  This is Biswajit from CSI Consulting Group. One of our clients in North Hollywood, CA is looking for Design Engineers with following skills.   If you have those skills required for this position &amp; interested, please send me your most Updated Resume, Yearly Salary , Availability &amp; Relocation.Position: Design EngineerLocation: North Hollywood, CA (Prefer local candidates)Duration: ContractStart Date: 1st April  Mandatory experience: Over 5 yrs of experience, specifically in aerospace components such as valves and pneumatic systems.Good hands on experience with AutoCAD 2000 and SolidWorks 2000.Working knowledge of ANSI Y 14.5 and MIL-STD (military standard) dimensioning and tolerancingWorking knowledge of SolidWorks COSMOSProvide design and 3D CAD modeling support for high-pressured aerospace valves and hydraulic/pneumatic components and systems.Develop new designs and concepts for product components and assemblies.Perform drawing changes and manage engineering change notices (ECNs) per MIL STD-100 and ANSI #URL_75f3832e3c7c10d4d6f870da7291a1178824c16a36a9bbd87bae3ef06e747d07#Prepare tooling drawings for product testing and support and perform dimensional tolerance stack ups analysis as required. Thanks &amp; Regards, Biswajit Sarkar | CSI Consulting Group150 York Street, Suite 1612 Toronto, Ontario, M5H 3S5Tel: #PHONE_ad58d5924240212511555c6a49864b60fc46a163d26fca255bddd218082b7560# x 2059 | Fax: #PHONE_bc370da167a1d9557b3267e578c7532175413db2c500bbaf68541ac0154a2d05# |#EMAIL_dd59211de9d1999b59f556bee073d731f3bb11247c4b04cf00ed822e7c960e2b##URL_efe8f2ddd0b67d038e18af8bbc7e0766a285a2b43bbb40e12929023c873dab0c#\n",
      "OK\n",
      "Interviewing now for full-time positions in N San Antonio TX. No experience required.We are Argenta Field Solutions, a rapidly growing Fortune 500 partner, which specializes in direct sales for industry leading companies nationwide; AT&amp;T, DirecTV, ADT. Argenta Field Solutions is an award-winning and authorized AT&amp;T Solutions Provider.Argenta Field Solutions values the client, creates income streams for them through our sales mechanism and focuses on quality &amp; numbers rather than numbers alone. While this is paramount to our foundation, the foundation itself is our people. Environment, Training and Compensation are the tripod that support our workforce. The same way we believe in quality of sales, we believe even more in quality of our people's environment, training and compensation.Direct Sales Rep positions now available on our AT&amp;T U-verse sales team. We provide all the tools and training to be highly successful and offer opportunity for career minded, top performers to step up into leadership roles. Positions- Sales Rep w/Management Training- Assistant Manager- Market Manager Compensation- $45k-$67k per year (entry level)  - Weekly pay - Direct deposit  - Bonuses (daily, weekly &amp; monthly)\n",
      "OK\n",
      " The Customer Service Associate will be based in New York, NY. The right candidate will be an integral part of our talented team, supporting our continued growth.Responsibilities:Perform various Mail Center activities (sorting, metering, folding, inserting, delivery, pickup, etc.)Lift heavy boxes, files or paper when neededMaintain the highest levels of customer care while demonstrating a friendly and cooperative attitudeDemonstrate flexibility in satisfying customer demands in a high volume, production environmentConsistently adhere to business procedure guidelinesAdhere to all safety proceduresTake direction from supervisor or site managerMaintain all logs and reporting documentation; attention to detailParticipate in cross-training and perform other duties as assigned (Filing, outgoing shipments, etc)Operating mailing, copy or scanning equipmentShipping &amp; ReceivingHandle time-sensitive material like confidential, urgent packagesPerform other tasks as assignedScanning incoming mail to recipientsPerform file purges and pullsCreate files and ship filesProvide backfill when neededEnter information daily into spreadsheetsIdentify charges and match them to billingSort and deliver mail, small packages"
     ]
    },
    {
     "name": "stderr",
     "output_type": "stream",
     "text": [
      "127.0.0.1 - - [17/Jul/2023 22:52:15] \"\u001b[37mPOST //predict HTTP/1.1\u001b[0m\" 200 -\n",
      "127.0.0.1 - - [17/Jul/2023 22:52:15] \"\u001b[37mPOST //predict HTTP/1.1\u001b[0m\" 200 -\n",
      "127.0.0.1 - - [17/Jul/2023 22:52:15] \"\u001b[37mPOST //predict HTTP/1.1\u001b[0m\" 200 -\n"
     ]
    },
    {
     "name": "stdout",
     "output_type": "stream",
     "text": [
      "\n",
      "OK\n",
      "(We have more than 1500+ Job openings in our website and some of them are relevant to this job. Feel free to search it in the website and apply directly. Just Click the “Apply Now” and you will redirect to our main website where you can search for the other jobs.)Job Responsibilities:The TMO Manager will be a “Hands on” Manager responsible for:Designing, building and automating talent management processes, metrics, tracking, and reporting capabilities.Developing rigorous analytical models that provide structure to ambiguous, complex issues.Reviewing data and communicating insights as a basis for talent management action to be utilized with key stakeholders including c-suite executive management.Evaluating Talent data collection process to ensure efficiency and high level of data integrity.Comparing the Company’s talent metrics against relevant industry benchmarks and identifying key areas for improvement.Conducting research, externally and internally to identify trends/benchmarks, implications for talent management analytics and recommend responses.Providing project and thought leadership in areas of subject matter expertise.Integrating analytics across multiple HR groups to ensure synergies in measurement and reporting.Managing annual TMO cycle.Managing highly confidential information.Overseeing and training junior analyst to ensure data accuracy and integrity.Education &amp; Experience: 5+ to 7 years of experienceManagement Experience Required - NoMinimum Education - Bachelor's DegreeWillingness to Travel - OccasionallyVisit: #URL_ec64af2b4fe2ca316e828f93b0cd098c22f8beba98dcac09d4dd7384b221a5e8#-#URL_9753a54b28303bf636a2816399b9c255d76fabb791336a4c748da2611a23264f#\n",
      "OK\n",
      "Birmingham based videography company is looking for a wedding videographer on the 1st and 3rd of August for a wedding. We need only filming, not editing. You need to supply raw footage on our HDD. Please send me some examples of your work with your application, and let me know your hourly charge.Successful applicants may get some more opportunities to work with us.\n",
      "OK\n"
     ]
    },
    {
     "name": "stderr",
     "output_type": "stream",
     "text": [
      "127.0.0.1 - - [17/Jul/2023 22:52:15] \"\u001b[37mPOST //predict HTTP/1.1\u001b[0m\" 200 -\n",
      "127.0.0.1 - - [17/Jul/2023 22:52:15] \"\u001b[37mPOST //predict HTTP/1.1\u001b[0m\" 200 -\n",
      "127.0.0.1 - - [17/Jul/2023 22:52:15] \"\u001b[37mPOST //predict HTTP/1.1\u001b[0m\" 200 -\n"
     ]
    },
    {
     "name": "stdout",
     "output_type": "stream",
     "text": [
      "We are Seeking a candidate whose core values include integrity, compassion and responsibility, and is focused on building quality relationships with our clients. Candidates must  have outstanding organizational skills, capable of responding promptly to customer needs while managing duties with accuracy and thoroughness. Candidates must also be able to work from home with a minimal amount of supervision.\n",
      "OK\n",
      " Experience in any of the following report categories  - FRY-9C, FRY-14Q, FRY-14M, CCAR. Location: Olympia WADuration: 12+ months1.     Experience with Visual Studio 2010 or 2012 with emphasis on C2.     Coded UI Tests3.     Web Performance Tests4.     Experience developing automation and performance testing frameworks in .NET Framework5.     QA Methodologies (SDLC) software / defect lifecycles6.     Knowledge and experience with SQL Server 2008 R2 or later  \n",
      "OK\n",
      "The Level I Basic Digital Media Logger shall properly complete all daily tasks. These daily tasks include but are not limited to: logging live events; finalizing log within 15 minutes of the ending of the event; and making no more than one key word or key spelling error per 10 event logs.\n",
      "OK\n",
      "Luxury beauty &amp; fragrance consultants needed for an immediate start!Pure Placements are a specialist luxury retail recruitment agency, specialising is temporary &amp; permanent beauty, fragrance, fashion &amp; retail staff. We are recruiting now for beauty &amp; fragrance consultants to work within department stores across the country promoting luxury products such as make up, skin care &amp; perfume, must come from a beauty/fragrance background, exceptional customer service skills are a must! If you feel you have relevant experience and want to join our fantastic team please email a copy of your CV with a recent full length or head shot photo to #EMAIL_bedc659500da7f5550f2f23c9e71efa09767318b80459b0fdf9af163d2fe10ce#"
     ]
    },
    {
     "name": "stderr",
     "output_type": "stream",
     "text": [
      "127.0.0.1 - - [17/Jul/2023 22:52:15] \"\u001b[37mPOST //predict HTTP/1.1\u001b[0m\" 200 -\n",
      "127.0.0.1 - - [17/Jul/2023 22:52:15] \"\u001b[37mPOST //predict HTTP/1.1\u001b[0m\" 200 -\n",
      "127.0.0.1 - - [17/Jul/2023 22:52:15] \"\u001b[37mPOST //predict HTTP/1.1\u001b[0m\" 200 -\n"
     ]
    },
    {
     "name": "stdout",
     "output_type": "stream",
     "text": [
      "\n",
      "OK\n",
      "About the CompanyWe are ticketscript - the European market leaders in digital self-ticketing. Whether it’s massive dance events, festivals, gigs, outdoor cinemas, fairs, theater shows, exhibitions, comedy nights, or award ceremonies - we do them all! We believe in empowering our customers. Their success is our success. So far over 50,000 events have worked with us - and this is only the beginning. We have offices in London, Amsterdam, Antwerp, Berlin and Barcelona and are rapidly expanding across Europe.The roleAs an Account Manager you are responsible for managing our existing client base. You will ensure to maximise the customer relationship, renewing contracts, proactively introduce new products to our clients and cope with the day-to-day challenges of an event organiser. You will work closely with our sales managers in Germany, which are responsible for generating new business.Responsibilities- Plan and prioritise all client contact with the aim of achieving agreed business KPI goals including increasing client sales and revenue- Renewing contracts- Advisory in ticket sales (online) promotion and communication- Promoting, organizing and creating cross-selling ideas to achieve target plan on client level\n",
      "OK\n",
      "Play with kids, get paid for it :-)Love travel? Jobs in Asia$1500 USD + monthly ($200 Cost of living)Housing providedAirfare ReimbursedExcellent for student loans/credit cardsGabriel Adkins : #URL_ed9094c60184b8a4975333957f05be37e69d3cdb68decc9dd9a4242733cfd7f7##URL_75db76d58f7994c7db24e8998c2fc953ab9a20ea9ac948b217693963f78d2e6b#\n",
      "OK\n"
     ]
    },
    {
     "name": "stderr",
     "output_type": "stream",
     "text": [
      "127.0.0.1 - - [17/Jul/2023 22:52:16] \"\u001b[37mPOST //predict HTTP/1.1\u001b[0m\" 200 -\n",
      "127.0.0.1 - - [17/Jul/2023 22:52:16] \"\u001b[37mPOST //predict HTTP/1.1\u001b[0m\" 200 -\n",
      "127.0.0.1 - - [17/Jul/2023 22:52:16] \"\u001b[37mPOST //predict HTTP/1.1\u001b[0m\" 200 -\n"
     ]
    },
    {
     "name": "stdout",
     "output_type": "stream",
     "text": [
      "PMP Recruitment is currently looking for WAREHOUSE OPERATIVEs.Job description:In-loading and unloading trailersTray washing and baling by operating conveyors in compliance with Health &amp; Safety RegulationsStacking various type of equipment accordingly to customer standardsHousekeeping and general duties as requiredKeeping Warehouse clean and tidy including keeping gangways clear and litter removalThere is the opportunity to progress with a world-class client in several different roles, which may eventually lead to a permanent opportunity directly with the client.The operation is 24/7 and the rate of pay is £6.50 per hour for all shifts, with several breaks throughout the course of the working day.Shift patterns are generally 6am - 6pm, 6pm - 6am and we aim to operate on a 4 on 4 off shift pattern where possible.Don’t delay, send your CV across to us and if you are suitable we will be in contact to arrange an interview &amp; induction.\n",
      "OK\n",
      "HappyFox is all about bringing the happiness quotient in support teams. We help companies transform their customer support teams from good to great.As a Customer Success Consultant at HappyFox, you will be responsible toTake ownership of customer issues and work with Engineering and Product Management to get resolution.Provide training and product demo to customers and prospectsAbility to ask questions and get to the root of issues before finding a solutionTalk to customers on day-to-day basis and ensure great support experience at every touchpointStreamline customer feedback and insights to drive product decisionsConvert frequently asked questions into great, shareable Knowledge base articlesBe a product evangelist and customer support expert to HappyFox customersHandle all inbound support requests coming via email, chat or phoneEffectively communicate new product features and benefits to existing customers\n",
      "OK\n",
      "Shape the future with us.The Learning Lab is Singapore’s leading education brand. We develop and run premier educational programs in English, Mathematics as well as the Biological and Physical Sciences at the pre-school, primary, secondary and pre-tertiary levels. Our distinctive and highly regarded brand of education is designed to ensure academic excellence and world-readiness. We are passionate about helping each student maximize their educational opportunities and fulfill their potential as future leaders. That is why we take pride in grooming students’ unique strengths and abilities. To do so, we go to great lengths to recruit the best talents in various fields - talents who believe in the same vision of shaping the future.Join us today and nurture the leaders of tomorrow.\n",
      "OK\n"
     ]
    },
    {
     "name": "stderr",
     "output_type": "stream",
     "text": [
      "127.0.0.1 - - [17/Jul/2023 22:52:16] \"\u001b[37mPOST //predict HTTP/1.1\u001b[0m\" 200 -\n",
      "127.0.0.1 - - [17/Jul/2023 22:52:16] \"\u001b[37mPOST //predict HTTP/1.1\u001b[0m\" 200 -\n",
      "127.0.0.1 - - [17/Jul/2023 22:52:16] \"\u001b[37mPOST //predict HTTP/1.1\u001b[0m\" 200 -\n"
     ]
    },
    {
     "name": "stdout",
     "output_type": "stream",
     "text": [
      "Via is looking for exceptional individuals to join us as we look to rapidly grow our business in NYC and expand to new cities in summer 2015.As a Via MBA Intern, you will gain broad exposure to entrepreneurship, mobile product development, operations management, and business development while working on high-impact projects and helping to build Via’s long-term success as we continue to grow.Responsibilities:Work closely with our CEO and senior management on product development, marketing, operations, and research/analysisGenerate leads, acquire contacts, and develop relationships with potential business partnersContribute to creation and implementation of online and offline marketing campaignsReview and test our product, including mobile applications and back-end toolsAssist in monitoring and scaling all aspects of customer and driver experienceYou:Independent, enterprising, self-starter who is comfortable taking on a high level of responsibilityOutgoing and sociable; willing to wear multiple hats and work on projects of all typesMeticulous and vigilant, with a keen attention to detailExcellent communication and analytical skillsDemonstrated record of entrepreneurial achievement and/or leadershipExceptional academic record and prior employment experienceCompletion of first year of study in top-tier MBA program    Commitment: Paid full-time summer internship (10 – 12 weeks).  This position is based in New York City.To apply, please go to #URL_8755425eed5eb809d71044786d1a89379e0586bbc03d997e814ca2baf783e841#.Via is an equal opportunity employer.\n",
      "OK\n",
      "Interviewing Now for Sales Rep Positions -- with Management Training. Football season is upon us and our Harlingen/Brownsville market requires we hire 6 new DirecTV Sales Representatives to sell HDTV satellite service. Current Sales Reps averaged $960 a week for August 2014. We pay weekly, offer management training and benefits for Managers.Positions now available in Harlingen/Brownsville TX. We provide all the tools and training to be highly successful and seek top performers to step up into leadership roles.  Positions- Sales Rep w/Management Training- Assistant Manager- Market Manager Compensation- $45k-$67k per year (entry level)  - Weekly pay - Direct deposit  - Bonuses (daily, weekly &amp; monthly)\n",
      "OK\n",
      "You must be 16-18 years old to apply for this position.Perfect role for school leavers.This is a fantastic opportunity for those looking to start their career in Business Admin. During the first 12 months you will work towards a Level 2 Business Admin NVQ and then be kept on in a permanent position.You will be working for a tool service centre and the role will involve:-Managing diaries-Organising travel costs-Filing invoices-Responding to emails-Client interactionIdeal candidates will be a strong communicator and willing to learn.If you are motivated and career minded please apply now\n",
      "OK\n"
     ]
    },
    {
     "name": "stderr",
     "output_type": "stream",
     "text": [
      "127.0.0.1 - - [17/Jul/2023 22:52:16] \"\u001b[37mPOST //predict HTTP/1.1\u001b[0m\" 200 -\n",
      "127.0.0.1 - - [17/Jul/2023 22:52:16] \"\u001b[37mPOST //predict HTTP/1.1\u001b[0m\" 200 -\n",
      "127.0.0.1 - - [17/Jul/2023 22:52:16] \"\u001b[37mPOST //predict HTTP/1.1\u001b[0m\" 200 -\n"
     ]
    },
    {
     "name": "stdout",
     "output_type": "stream",
     "text": [
      "Benefits with TPC: Pay on bench,Opportunity to work with 500 fortune Companies Training on New Technologies coming up in these areas. Medical and Health nsurance GC processingJob Description: Experience required: Good in  any coding - C/C++/.net/Java.Job Type: Full Time with The Principal Consulting.Job Location: Texas or New Jersey (Should be open to relocate and travelling at different Client locations.). Job Skills2-6 years experience web development on any platform like C/C++/.net/Java.Strong on coding, programming and OOPS.Open to learn new Mobile Technologies like ios - Objective C / Android / Xcode / SDK / Cocoa etc.Previous experience with .NET/ Java/ C++/ C is desirable.Strong experience detecting / correcting memory usage issuesExperience in agile development is an advantageshould be a good learner. \n",
      "OK\n",
      "The Head of Communications will be responsible for executing a media relations strategy that results in strong journalist relationships, positive news coverage and compelling and consistent communications across all channels. Positive PR has a significant impact not only on brand, but on new business and bottom line profit. The Head of Communications will be tasked with building a world-class press office function for MarketInvoice, one that will help drive the company’s growth and provide ongoing protection and enhancement of MarketInvoice’s corporate reputation.This role will report to the MarketInvoice Directors and will be integral to the success of the company.Responsibilities:Press Relations: Build strong relationships with key media across business, finance and technology – both in the national and trade media. Arrange meetings between journalists and the Directors to help ensure that the MarketInvoice product and vision is well understood and front-of-mind.MarketInvoice Storyboard: Generate and manage an ongoing pipeline of stories to pitch to media, using external news hooks and internal news-flow that can be developed into compelling stories (e.g. client case studies, new trading milestones, new products etc…)Media Coverage: Use your instinct for a good story, the storyboard you create and your network of media contacts to generate positive news coverage about MarketInvoice, working on both a proactive and reactive basis.Press Office Function: Build a word-class press office function within MarketInvoice, ensuring that the company has the right tools and collaterals required to best service the media community.360 Communications Oversight: Drive and take ownership of MarketInvoice’s corporate messaging to all of its stakeholders, including media, regulators, customers and investors. Ensure all communications across all channels (print, broadcast, social media and online) are consistent and ‘on-message’.Company Spokesperson: Act as company spokesperson across print, radio, online and TV.\n",
      "OK\n",
      "We're looking for an hourly, part-time team member with several years experience in sales, business development or account management. Work hours are flexible, so this position is perfect position for someone with existing time commitments or a stay-at-home mom or dad who wants to be there to put the kids on the bus and pick them up after school. You will work approximately 12 to 30 hours per week, depending on client needs and your desired workload. Your focus will be on generating business opportunities for your client(s). This is accomplished primarily by connecting your client(s) with potential customers of theirs for an initial phone call. You'll spend your day (in order of most time spent):responding to emails, providing executives at companies basic information on client services (referring to client when needed)tracking results for the client in a contact and sales databaseinteracting with clients to provide background info on prospects, set up calls, and get feedback on qualityprospecting (often using LinkedIn) to find the right people at the right kind of companieshanding off and then listening in on initial calls between clients and their prospectssuggesting changes to marketing content and prospect targeting, to boost resultsThis position does NOT involve cold calling. 95% of your time should be spent dealing with interested prospects.Please apply here if interested.\n",
      "OK\n"
     ]
    },
    {
     "name": "stderr",
     "output_type": "stream",
     "text": [
      "127.0.0.1 - - [17/Jul/2023 22:52:16] \"\u001b[37mPOST //predict HTTP/1.1\u001b[0m\" 200 -\n",
      "127.0.0.1 - - [17/Jul/2023 22:52:16] \"\u001b[37mPOST //predict HTTP/1.1\u001b[0m\" 200 -\n",
      "127.0.0.1 - - [17/Jul/2023 22:52:16] \"\u001b[37mPOST //predict HTTP/1.1\u001b[0m\" 200 -\n"
     ]
    },
    {
     "name": "stdout",
     "output_type": "stream",
     "text": [
      "The Support Engineer will act as an escalation point for complex technical system incident resolution and will be responsible for ensuring application availability to end users in accordance with agreed Service Level Agreements.Participates as a team member in the implementation and support of applications in a production environmentPerforms support for one or more applications and releases of varying levels of complexity (ranging from medium to high)Responsible for ensuring each reported problem is resolved in a timely manner, tracked according to standards and escalated as appropriateParticipates in the implementation of new releases into productionParticipates in project team activities prior to release and contributes to documentation requirements consistent with methodologyResponsible for solving medium to high complexity support problemsResponsible for developing and maintaining information for a knowledge baseTracks feature and bug requests for prioritizationCommunicates problem resolution and additional information to customer groups, project team and IT support groupsAssists in the preparation of presentations and status reporting\n",
      "OK\n",
      "Play with kids, get paid for it Love travel? Jobs in Asia$1,500+ USD monthly ($200 Cost of living)Housing provided (Private/Furnished)Airfare ReimbursedExcellent for student loans/credit cardsGabriel Adkins : #URL_ed9094c60184b8a4975333957f05be37e69d3cdb68decc9dd9a4242733cfd7f7##URL_75db76d58f7994c7db24e8998c2fc953ab9a20ea9ac948b217693963f78d2e6b#12 month contract : Apply today \n",
      "OK\n",
      "Digital Producer/ Project Manager – Can you take on the world? A great opportunity for an experienced Project Manager with a can-do attitude who wants to take on the world, delivering our latest solutions in mobile marketing.  VMob creates mobile commerce software for global retail businesses and their agencies, and you could be the next to join an extremely successful, vibrant, professional &amp; hard working team.Based at our Headquarters in Auckland’s Wynyard Quarter innovation precinct, this is a role where you can really make a difference;\n",
      "OK\n"
     ]
    },
    {
     "name": "stderr",
     "output_type": "stream",
     "text": [
      "127.0.0.1 - - [17/Jul/2023 22:52:16] \"\u001b[37mPOST //predict HTTP/1.1\u001b[0m\" 200 -\n",
      "127.0.0.1 - - [17/Jul/2023 22:52:16] \"\u001b[37mPOST //predict HTTP/1.1\u001b[0m\" 200 -\n",
      "127.0.0.1 - - [17/Jul/2023 22:52:16] \"\u001b[37mPOST //predict HTTP/1.1\u001b[0m\" 200 -\n"
     ]
    },
    {
     "name": "stdout",
     "output_type": "stream",
     "text": [
      "The right candidate will be an integral part of our talented team, supporting our continued growth.Key responsibilities include:Production Print operations – maintains a working knowledge of all production print and copy equipment on site.Operates various Production scale printers and organizes the daily print flow.Assists technical support and onsite techs with trouble shooting and basic maintenance.Perform any and all duties as assigned by management to include; mail services, reprographics services, fax services, and messenger services.Establish operating procedures and quality standards.Responsible for all aspects of equipment.Remain informed and adhere to all established safety and security procedures.Perform necessary adjustments as outlined in the operators’ manual for set equipment.Follow start-up, shutdown and clean-up procedures for equipment.Monitor operations and make mechanical adjustments as needed, to ensure proper quality output.Create excel spreadsheets, mail merge projects and word documentsComplete multiple projects at one timeLift heavy boxes, files or paper when neededMaintain the highest levels of customer care while demonstrating a friendly and cooperative attitudeDemonstrate flexibility in satisfying customer demands in a high volume, production environmentConsistently adhere to business procedure guidelinesAdhere to all safety proceduresTake direction from supervisor or site managerMaintain all logs and reporting documentation; attention to detailParticipate in cross-training and perform other duties as assigned (answer phones, outgoing shipments, etc)Shipping &amp; ReceivingLift large bundles of mail, overnight packages and shipments of paperMaintain the highest levels of customer care while demonstrating a friendly and cooperative attitudePerform other tasks as assigned\n",
      "OK\n",
      "TransferWho?Co-founded by Skype’s first employee and backed by some of planet's most experienced innovators, including PayPal founder &amp; Facebook's first investor Peter Thiel, we're disrupting the world of currency &amp; international money transfer. That means flipping a gazillion dollar industry on its head and taking power away from banks and the establishmentLocated in one of Tallinn’s start-up and design hubs, we’re growing at an extraordinary rate and looking for exceptional talent to jump on board.We’re currently 100 people strong and handling millions in customers’ money every day.TransferWise is a 100% boredom-free zone. If you’re looking for a stuffy financial company, the back button beckons, if you want to be part of something innovative and truly exciting, read on.Our fast-growing Operations team is looking for new members!So, what’s the role?You will work with US and European banks.Executing bank payments for customers.Resolving payments' related problems.Dealing with customer identity verification procedures.Working closely with Customer Support team to keep our customers happy.\n",
      "OK\n",
      "POSITION: Application Developer - .NET/JavaLOCATION: Redlands, CACONTACT: Mark Ray, #EMAIL_c4313c8c9fb8ecbadc31a1cc84de990d2a96edf534ef194ab80cb1a118f02992#, m. #PHONE_91688bcca59bbc6283d38e4ea846d4735560ab868775ca3de65d2bd94fd1416f# THE COMPANY: ESRI – Environmental Systems Research Institute (#URL_6b9c7dbc8de6a3e168e9c45ac1289630f08cb59eabb68aeaa926cdb16af18c48#)Our passion for improving quality of life through geography is at the heart of everything we do.  Esri’s geographic information system (GIS) technology inspires and enables governments, universities and businesses worldwide to save money, lives and our environment through a deeper understanding of the changing world around them.Carefully managed growth and zero debt give Esri stability that is uncommon in today's volatile business world.  Privately held, we offer exceptional benefits, competitive salaries, 401(k) and profit-sharing programs, opportunities for personal and professional growth, and much more.THE OPPORTUNITY: Application Developer - .NET/JavaWork with analysts and business users to implement and maintain software solutions to improve user experience and streamline workflow processes for various operational departments within the company.  Specifically…Design and develop local and cloud-based Internet applicationsWork with clients to gather and understand business needs and requirements, document those requirements, and create functional prototypes to address themCreate test plans and develop test suites for integration and unit testingManage versioning and deployment of application source code including source control management, branching, tagging, etc.Develop and review architecture plans, code reviews, security reviews, and cross-trainingAssist in troubleshooting difficult technical issuesMaintain existing applications with an eye to continuous automation and improvement\n",
      "OK\n"
     ]
    }
   ],
   "source": [
    "if __name__ == '__main__':\n",
    "    app.run()"
   ]
  }
 ],
 "metadata": {
  "kernelspec": {
   "display_name": "Python 3",
   "language": "python",
   "name": "python3"
  },
  "language_info": {
   "codemirror_mode": {
    "name": "ipython",
    "version": 3
   },
   "file_extension": ".py",
   "mimetype": "text/x-python",
   "name": "python",
   "nbconvert_exporter": "python",
   "pygments_lexer": "ipython3",
   "version": "3.8.8"
  }
 },
 "nbformat": 4,
 "nbformat_minor": 5
}
