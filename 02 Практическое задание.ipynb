{
 "cells": [
  {
   "cell_type": "markdown",
   "id": "deee7408",
   "metadata": {},
   "source": [
    "## Практическое задание 1"
   ]
  },
  {
   "cell_type": "markdown",
   "id": "eaac1b1d",
   "metadata": {},
   "source": [
    "Все задания рекомендуется делать вручную, проверяя полученные результаты через NumPy.\n",
    "\n",
    "__1.__ Установите, какие произведения матриц $AB$ и $BA$ определены, и найдите размерности полученных матриц:\n",
    "\n",
    "   а) $A$ — матрица $4\\times 2$, $B$ — матрица $4\\times 2$;\n",
    "    \n",
    "   б) $A$ — матрица $2\\times 5$, $B$ — матрица $5\\times 3$;\n",
    "    \n",
    "   в) $A$ — матрица $8\\times 3$, $B$ — матрица $3\\times 8$;\n",
    "    \n",
    "   г) $A$ — квадратная матрица $4\\times 4$, $B$ — квадратная матрица $4\\times 4$.\n",
    "    \n",
    "__2.__ Найдите сумму и произведение матриц $A=\\begin{pmatrix}\n",
    "1 & -2\\\\ \n",
    "3 & 0\n",
    "\\end{pmatrix}$ и $B=\\begin{pmatrix}\n",
    "4 & -1\\\\ \n",
    "0 & 5\n",
    "\\end{pmatrix}.$\n",
    "\n",
    "__3.__ Из закономерностей сложения и умножения матриц на число можно сделать вывод, что матрицы одного размера образуют линейное пространство. Вычислите линейную комбинацию $3A-2B+4C$ для матриц $A=\\begin{pmatrix}\n",
    "1 & 7\\\\ \n",
    "3 & -6\n",
    "\\end{pmatrix}$, $B=\\begin{pmatrix}\n",
    "0 & 5\\\\ \n",
    "2 & -1\n",
    "\\end{pmatrix}$, $C=\\begin{pmatrix}\n",
    "2 & -4\\\\ \n",
    "1 & 1\n",
    "\\end{pmatrix}.$\n",
    "    \n",
    "__4.__ Дана матрица $A=\\begin{pmatrix}\n",
    "4 & 1\\\\ \n",
    "5 & -2\\\\ \n",
    "2 & 3\n",
    "\\end{pmatrix}$.\n",
    "Вычислите $AA^{T}$ и $A^{T}A$.\n",
    "\n",
    "__5*.__ Напишите на Python функцию для перемножения двух произвольных матриц, не используя NumPy."
   ]
  },
  {
   "cell_type": "markdown",
   "id": "f79e4b25",
   "metadata": {},
   "source": [
    "## Решение\n",
    "***Задача 1 (вручную и с проверкой на NumPy)***"
   ]
  },
  {
   "cell_type": "code",
   "execution_count": 13,
   "id": "045c946b",
   "metadata": {},
   "outputs": [
    {
     "name": "stdout",
     "output_type": "stream",
     "text": [
      "Общее правило определения произведения AB матриц A и B: размеры матрицы B должны быть согласованы с размерами матрицы A,\n",
      "или число строк матрицы B должно быть равно числу столбцов матрицы A.\n",
      "При размерности матрицы A m*n и матрицы B n*p размерность произведения AB равна m*p\n",
      "\n",
      "a) AB не определено; BA не определено\n",
      "б) AB определено, размерность 2 x 3; BA не определено\n",
      "в) AB определено, размерность 8 x 8; BA определено, размерность 3 x 3\n",
      "г) AB определено, размерность 4 x 4; BA определено, размерность 4 x 4\n"
     ]
    }
   ],
   "source": [
    "print(\"Общее правило определения произведения AB матриц A и B: размеры матрицы B должны быть согласованы с размерами матрицы A,\\nили число строк матрицы B должно быть равно числу столбцов матрицы A.\")\n",
    "print(\"При размерности матрицы A m*n и матрицы B n*p размерность произведения AB равна m*p\\n\")\n",
    "print(\"a) AB не определено; BA не определено\")\n",
    "print(\"б) AB определено, размерность 2 x 3; BA не определено\")\n",
    "print(\"в) AB определено, размерность 8 x 8; BA определено, размерность 3 x 3\")\n",
    "print(\"г) AB определено, размерность 4 x 4; BA определено, размерность 4 x 4\")"
   ]
  },
  {
   "cell_type": "code",
   "execution_count": 14,
   "id": "df5d6895",
   "metadata": {},
   "outputs": [],
   "source": [
    "import numpy as np"
   ]
  },
  {
   "cell_type": "code",
   "execution_count": 15,
   "id": "b156d9c2",
   "metadata": {
    "scrolled": true
   },
   "outputs": [
    {
     "name": "stdout",
     "output_type": "stream",
     "text": [
      "Размеры матриц А и В: [[[4, 2], [4, 2]], [[2, 5], [5, 3]], [[8, 3], [3, 8]], [[4, 4], [4, 4]]]\n",
      "\n",
      "A (4, 2), B (4, 2):    A*B  ----    B*A  ---- \n",
      "A (2, 5), B (5, 3):    A*B (2, 3)   B*A  ---- \n",
      "A (8, 3), B (3, 8):    A*B (8, 8)   B*A (3, 3)\n",
      "A (4, 4), B (4, 4):    A*B (4, 4)   B*A (4, 4)\n"
     ]
    }
   ],
   "source": [
    "dimensions = []\n",
    "dimensions.append([[4,2],[4,2]])\n",
    "dimensions.append([[2,5],[5,3]])\n",
    "dimensions.append([[8,3],[3,8]])\n",
    "dimensions.append([[4,4],[4,4]])\n",
    "print(f\"Размеры матриц А и В: {dimensions}\\n\")\n",
    "\n",
    "for el in dimensions:\n",
    "    A = np.ones((el[0][0], el[0][1]))\n",
    "    B = np.ones((el[1][0], el[1][1]))\n",
    "    s = \"A \" + str(A.shape) + \", B \" + str(B.shape) + \":    A*B \"\n",
    "    try:\n",
    "        C = np.dot(A,B)\n",
    "        s1 = str(C.shape)\n",
    "    except:\n",
    "        s1 = \" ---- \"\n",
    "    s = s + s1 + \"   B*A \"\n",
    "    try:\n",
    "        C = np.dot(B,A)\n",
    "        s1 = str(C.shape)\n",
    "    except:\n",
    "        s1 = \" ---- \"\n",
    "    s += s1\n",
    "    print(s)\n",
    "    \n"
   ]
  },
  {
   "cell_type": "markdown",
   "id": "63bc9df6",
   "metadata": {},
   "source": [
    "***Задача 2***"
   ]
  },
  {
   "cell_type": "code",
   "execution_count": 16,
   "id": "7ac10094",
   "metadata": {},
   "outputs": [
    {
     "name": "stdout",
     "output_type": "stream",
     "text": [
      "A:\n",
      "[[ 1 -2]\n",
      " [ 3  0]]\n",
      "\n",
      "B:\n",
      "[[ 4 -1]\n",
      " [ 0  5]]\n",
      "\n",
      "A + B:\n",
      "[[ 5 -3]\n",
      " [ 3  5]]\n",
      "\n",
      "A * B:\n",
      "[[  4 -11]\n",
      " [ 12  -3]]\n"
     ]
    }
   ],
   "source": [
    "A = np.array([[1, -2], [3, 0]])\n",
    "B = np.array([[4, -1], [0, 5]])\n",
    "print(f\"A:\\n{A}\\n\\nB:\\n{B}\\n\\nA + B:\\n{A+B}\\n\\nA * B:\\n{np.dot(A,B)}\")"
   ]
  },
  {
   "cell_type": "markdown",
   "id": "40242864",
   "metadata": {},
   "source": [
    "***Задача 3***"
   ]
  },
  {
   "cell_type": "code",
   "execution_count": 17,
   "id": "08231cae",
   "metadata": {},
   "outputs": [
    {
     "name": "stdout",
     "output_type": "stream",
     "text": [
      "Матрица A:\n",
      "[[ 1  7]\n",
      " [ 3 -6]]\n",
      "\n",
      "Матрица B:\n",
      "[[ 0  5]\n",
      " [ 2 -1]]\n",
      "\n",
      "Матрица C:\n",
      "[[ 2 -4]\n",
      " [ 1  1]]\n",
      "\n",
      "Матрица 3*A:\n",
      "[[  3  21]\n",
      " [  9 -18]]\n",
      "\n",
      "Матрица 2*B:\n",
      "[[ 0 10]\n",
      " [ 4 -2]]\n",
      "\n",
      "Матрица 4*C:\n",
      "[[  8 -16]\n",
      " [  4   4]]\n",
      "\n",
      "Линейная комбинация 3*A - 2*B + 4*C:\n",
      "[[ 11  -5]\n",
      " [  9 -12]]\n",
      "\n"
     ]
    }
   ],
   "source": [
    "A = np.array([[1, 7], [3, -6]])\n",
    "B = np.array([[0, 5], [2, -1]])\n",
    "C = np.array([[2, -4], [1, 1]])\n",
    "print(f\"Матрица A:\\n{A}\\n\\nМатрица B:\\n{B}\\n\\nМатрица C:\\n{C}\\n\")\n",
    "print(f\"Матрица 3*A:\\n{3*A}\\n\\nМатрица 2*B:\\n{2*B}\\n\\nМатрица 4*C:\\n{4*C}\\n\")\n",
    "print(f\"Линейная комбинация 3*A - 2*B + 4*C:\\n{3*A - 2*B + 4*C}\\n\")\n"
   ]
  },
  {
   "cell_type": "markdown",
   "id": "bffd510d",
   "metadata": {},
   "source": [
    "***Задача 4***"
   ]
  },
  {
   "cell_type": "code",
   "execution_count": 18,
   "id": "aa464a79",
   "metadata": {},
   "outputs": [
    {
     "name": "stdout",
     "output_type": "stream",
     "text": [
      "Матрица А:\n",
      "[[ 4  1]\n",
      " [ 5 -2]\n",
      " [ 2  3]]\n",
      "\n",
      "Матрица А транспонированная:\n",
      "[[ 4  5  2]\n",
      " [ 1 -2  3]]\n",
      "\n",
      "Произведение A*A.T:\n",
      "[[17 18 11]\n",
      " [18 29  4]\n",
      " [11  4 13]]\n",
      "\n",
      "Произведение A.T*A:\n",
      "[[45  0]\n",
      " [ 0 14]]\n"
     ]
    }
   ],
   "source": [
    "A = np.array([[4,1],[5,-2],[2,3]])\n",
    "B = A.T\n",
    "print(f\"Матрица А:\\n{A}\\n\\nМатрица А транспонированная:\\n{B}\\n\")\n",
    "print(f\"Произведение A*A.T:\\n{np.dot(A,B)}\\n\\nПроизведение A.T*A:\\n{np.dot(B,A)}\")"
   ]
  },
  {
   "cell_type": "markdown",
   "id": "0027b35d",
   "metadata": {},
   "source": [
    "***Задача 5: функция перемножения 2-х произвольных матриц без использования NumPy***"
   ]
  },
  {
   "cell_type": "code",
   "execution_count": 19,
   "id": "f9e6d725",
   "metadata": {},
   "outputs": [
    {
     "name": "stdout",
     "output_type": "stream",
     "text": [
      "A: [[4, 1], [5, -2], [2, 3]], B: [[4, 5, 2], [1, -2, 3]]\n",
      "A * B:\n",
      "[[17, 18, 11], [18, 29, 4], [11, 4, 13]]\n",
      "B * A:\n",
      "[[45, 0], [0, 14]]\n"
     ]
    }
   ],
   "source": [
    "def MultMatrix(A,B):\n",
    "    A_rows = len(A)\n",
    "    B_rows = len(B)\n",
    "    A_cols = -1\n",
    "    B_cols = -1\n",
    "    for i, el in enumerate(A):\n",
    "        if i == 0:\n",
    "            A_cols = len(el)\n",
    "        elif A_cols != len(el):\n",
    "            return None\n",
    "    for i, el in enumerate(B):\n",
    "        if i == 0:\n",
    "            B_cols = len(el)\n",
    "        elif B_cols != len(el):\n",
    "            return None\n",
    "    \n",
    "    if A_rows < 1 or A_cols < 1 or B_rows < 1 or B_cols < 1 or A_cols != B_rows:\n",
    "        return None\n",
    "    \n",
    "    C = []\n",
    "\n",
    "    for i in range(A_rows):\n",
    "        D = []\n",
    "        for j in range(B_cols):\n",
    "            s = 0\n",
    "            for k in range(A_cols):\n",
    "                s += A[i][k] * B[k][j]\n",
    "            D.append(s)\n",
    "        C.append(D)\n",
    "    return C\n",
    "\n",
    "#------- Формируются матрицы, как в задаче 4: исходная (А) и траспонированная (В)\n",
    "\n",
    "A = []\n",
    "A.append([4,1])\n",
    "A.append([5,-2])\n",
    "A.append([2,3])\n",
    "\n",
    "B = []\n",
    "B.append([4,5,2])\n",
    "B.append([1,-2,3])\n",
    "\n",
    "lst = [['A', 'B'], ['B', 'A']]\n",
    "\n",
    "print(f\"{lst[0][0]}: {A}, {lst[0][1]}: {B}\")\n",
    "\n",
    "#------- Вычисляем с помощью нашей функции A*B и B*A\n",
    "\n",
    "for i in range(2):\n",
    "    if i == 0:\n",
    "        C = MultMatrix(A,B)\n",
    "    else:\n",
    "        C = MultMatrix(B,A)\n",
    "    if C != None:\n",
    "        print(f\"{lst[i][0]} * {lst[i][1]}:\\n{C}\")\n",
    "    else:\n",
    "        print(\"Размеры матриц несогласованы или некорректны\")"
   ]
  },
  {
   "cell_type": "markdown",
   "id": "99c7b3c7",
   "metadata": {},
   "source": [
    "## Практическое задание 2"
   ]
  },
  {
   "cell_type": "markdown",
   "id": "650daece",
   "metadata": {},
   "source": [
    "Все задания рекомендуется выполнять вручную, проверяя полученные результаты с использованием NumPy.\n",
    "\n",
    "__1.__ Вычислите определитель:\n",
    "\n",
    "   a)\n",
    "\n",
    "$$\\begin{vmatrix}\n",
    "sinx & -cosx\\\\ \n",
    "cosx & sinx\n",
    "\\end{vmatrix};$$\n",
    "\n",
    "   б)\n",
    "    \n",
    "$$\\begin{vmatrix}\n",
    "4 & 2 & 3\\\\ \n",
    "0 & 5 & 1\\\\ \n",
    "0 & 0 & 9\n",
    "\\end{vmatrix};$$\n",
    "    \n",
    "   в)\n",
    "\n",
    "$$\\begin{vmatrix}\n",
    "1 & 2 & 3\\\\ \n",
    "4 & 5 & 6\\\\ \n",
    "7 & 8 & 9\n",
    "\\end{vmatrix}.$$\n",
    "\n",
    "\n",
    "__2.__ Определитель матрицы $A$ равен $4$. Найдите:\n",
    "\n",
    "   а) $det(A^{2})$;\n",
    "    \n",
    "   б) $det(A^{T})$;\n",
    "    \n",
    "   в) $det(2A)$.\n",
    "   \n",
    "__3.__  Докажите, что матрица:\n",
    "\n",
    "$$\\begin{pmatrix}\n",
    "-2 & 7 & -3\\\\ \n",
    "4 & -14 & 6\\\\ \n",
    "-3 & 7 & 13\n",
    "\\end{pmatrix}$$\n",
    "   \n",
    "вырожденная.\n",
    "\n",
    "__4.__ Найдите ранг матрицы:\n",
    "\n",
    "   а) $\\begin{pmatrix}\n",
    "1 & 2 & 3\\\\ \n",
    "1 & 1 & 1\\\\ \n",
    "2 & 3 & 4\n",
    "\\end{pmatrix};$\n",
    "\n",
    "   б) $\\begin{pmatrix}\n",
    "0 & 0 & 2 & 1\\\\ \n",
    "0 & 0 & 2 & 2\\\\ \n",
    "0 & 0 & 4 & 3\\\\ \n",
    "2 & 3 & 5 & 6\n",
    "\\end{pmatrix}.$"
   ]
  },
  {
   "cell_type": "markdown",
   "id": "bec22f32",
   "metadata": {},
   "source": [
    "***Задача 1***"
   ]
  },
  {
   "cell_type": "code",
   "execution_count": 20,
   "id": "4137b45b",
   "metadata": {},
   "outputs": [
    {
     "name": "stdout",
     "output_type": "stream",
     "text": [
      "а) det A = 1\n",
      "б) det A = 180\n",
      "в) det A = 0\n"
     ]
    }
   ],
   "source": [
    "A = np.array([[np.sin(30), -np.cos(30)], [np.cos(30), np.sin(30)]])\n",
    "print(f\"а) det A = {round(np.linalg.det(A), 0):.0f}\")\n",
    "A = np.array([[4, 2, 3], [0, 5, 1], [0, 0, 9]])\n",
    "print(f\"б) det A = {round(np.linalg.det(A), 0):.0f}\")\n",
    "A = np.array([[1, 2, 3], [4, 5, 6], [7, 8, 9]])\n",
    "print(f\"в) det A = {round(np.linalg.det(A), 0):.0f}\")"
   ]
  },
  {
   "cell_type": "markdown",
   "id": "34485a40",
   "metadata": {},
   "source": [
    "***Задача 2***"
   ]
  },
  {
   "cell_type": "code",
   "execution_count": 21,
   "id": "2b5022e9",
   "metadata": {},
   "outputs": [
    {
     "name": "stdout",
     "output_type": "stream",
     "text": [
      "Матрица А:\n",
      "[[3 5]\n",
      " [4 8]]\n",
      "\n",
      "det A = 4\n",
      "\n",
      "a) det A*A = 16\n",
      "б) det A.T = 4\n",
      "в) det A*2 = 16\n"
     ]
    }
   ],
   "source": [
    "A = np.array([[3, 5], [4, 8]])\n",
    "print(f\"Матрица А:\\n{A}\\n\")\n",
    "print(f\"det A = {round(np.linalg.det(A), 0):.0f}\\n\")\n",
    "print(f\"a) det A*A = {round(np.linalg.det(np.dot(A,A)), 0):.0f}\")\n",
    "print(f\"б) det A.T = {round(np.linalg.det(A.T), 0):.0f}\")\n",
    "print(f\"в) det A*2 = {round(np.linalg.det(A*2), 0):.0f}\")"
   ]
  },
  {
   "cell_type": "markdown",
   "id": "71018d64",
   "metadata": {},
   "source": [
    "***Задача 3***"
   ]
  },
  {
   "cell_type": "code",
   "execution_count": 22,
   "id": "84a2495e",
   "metadata": {},
   "outputs": [
    {
     "name": "stdout",
     "output_type": "stream",
     "text": [
      "Матрица А:\n",
      "[[ -2   7  -3]\n",
      " [  4 -14   6]\n",
      " [ -3   7  13]]\n",
      "\n",
      "det A = 0\n",
      "Матрица вырожденная\n"
     ]
    }
   ],
   "source": [
    "A = np.array([[-2, 7, -3], [4, -14, 6], [-3, 7, 13]])\n",
    "print(f\"Матрица А:\\n{A}\\n\")\n",
    "try:\n",
    "    det_a = round(np.linalg.det(A), 0)\n",
    "    print(f\"det A = {det_a:.0f}\")\n",
    "    if (det_a == 0):\n",
    "        print(\"Матрица вырожденная\")\n",
    "    else:\n",
    "        print(\"Матрица невырожденная\")\n",
    "except:\n",
    "    print(\"Матрица неквадратная\")"
   ]
  },
  {
   "cell_type": "markdown",
   "id": "16bc7e01",
   "metadata": {},
   "source": [
    "***Задача 4***"
   ]
  },
  {
   "cell_type": "code",
   "execution_count": 24,
   "id": "4172adb8",
   "metadata": {},
   "outputs": [
    {
     "name": "stdout",
     "output_type": "stream",
     "text": [
      "Матрица А:\n",
      "[[1 2 3]\n",
      " [1 1 1]\n",
      " [2 3 4]]\n",
      "\n",
      "Ранг матрицы А равен 2\n",
      "\n",
      "Матрица А:\n",
      "[[0 0 2 1]\n",
      " [0 0 2 2]\n",
      " [0 0 4 3]\n",
      " [2 3 5 6]]\n",
      "\n",
      "Ранг матрицы А равен 3\n",
      "\n"
     ]
    }
   ],
   "source": [
    "for i in range(2):\n",
    "    if i == 0:\n",
    "        A = np.array([[1, 2, 3], [1, 1, 1], [2, 3, 4]])\n",
    "    else:\n",
    "        A = np.array([[0, 0, 2, 1], [0, 0, 2, 2], [0, 0, 4, 3], [2, 3, 5, 6]])\n",
    "    print(f\"Матрица А:\\n{A}\\n\")\n",
    "    print(f\"Ранг матрицы А равен {np.linalg.matrix_rank(A)}\\n\")\n"
   ]
  },
  {
   "cell_type": "code",
   "execution_count": null,
   "id": "8ee2af87",
   "metadata": {},
   "outputs": [],
   "source": []
  }
 ],
 "metadata": {
  "kernelspec": {
   "display_name": "Python 3",
   "language": "python",
   "name": "python3"
  },
  "language_info": {
   "codemirror_mode": {
    "name": "ipython",
    "version": 3
   },
   "file_extension": ".py",
   "mimetype": "text/x-python",
   "name": "python",
   "nbconvert_exporter": "python",
   "pygments_lexer": "ipython3",
   "version": "3.8.8"
  }
 },
 "nbformat": 4,
 "nbformat_minor": 5
}
