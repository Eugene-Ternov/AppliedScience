{
 "cells": [
  {
   "cell_type": "markdown",
   "id": "3612d30a",
   "metadata": {},
   "source": [
    "## Практическое задание 1"
   ]
  },
  {
   "cell_type": "markdown",
   "id": "738c7e65",
   "metadata": {},
   "source": [
    "1. Найдите посредством NumPy SVD для матрицы:\n",
    "\n",
    "$$\\begin{pmatrix}\n",
    "1 & 2 & 0\\\\ \n",
    "0 & 0 & 5\\\\ \n",
    "3 & -4 & 2\\\\ \n",
    "1 & 6 & 5\\\\ \n",
    "0 & 1 & 0\n",
    "\\end{pmatrix}.$$"
   ]
  },
  {
   "cell_type": "code",
   "execution_count": 40,
   "id": "17f11da1",
   "metadata": {
    "scrolled": true
   },
   "outputs": [
    {
     "name": "stdout",
     "output_type": "stream",
     "text": [
      "Матрица А:\n",
      "[[ 1  2  0]\n",
      " [ 0  0  5]\n",
      " [ 3 -4  2]\n",
      " [ 1  6  5]\n",
      " [ 0  1  0]]\n",
      "\n"
     ]
    }
   ],
   "source": [
    "import numpy as np\n",
    "\n",
    "A = np.array([[1, 2, 0], [0, 0, 5], [3, -4, 2], [1, 6, 5], [0, 1, 0]])\n",
    "print(f'Матрица А:\\n{A}\\n')"
   ]
  },
  {
   "cell_type": "code",
   "execution_count": 41,
   "id": "9c6110ba",
   "metadata": {},
   "outputs": [
    {
     "name": "stdout",
     "output_type": "stream",
     "text": [
      "Матрица U:\n",
      "[[ 0.17  0.16 -0.53 -0.8  -0.16]\n",
      " [ 0.39 -0.53  0.61 -0.43  0.03]\n",
      " [-0.14 -0.82 -0.52  0.14  0.07]\n",
      " [ 0.89  0.06 -0.25  0.38 -0.06]\n",
      " [ 0.08  0.11 -0.08 -0.11  0.98]]\n",
      "\n",
      "Проверка ортогональности: матрица U.T*U:\n",
      "[[ 1. -0.  0.  0.  0.]\n",
      " [-0.  1. -0. -0. -0.]\n",
      " [ 0. -0.  1.  0. -0.]\n",
      " [ 0. -0.  0.  1. -0.]\n",
      " [ 0. -0. -0. -0.  1.]]\n",
      "\n",
      "Матрица W:\n",
      "[[ 0.07  0.72  0.69]\n",
      " [-0.37  0.67 -0.65]\n",
      " [-0.93 -0.21  0.31]]\n",
      "\n",
      "Проверка ортогональности: матрица W.T*W:\n",
      "[[ 1.  0. -0.]\n",
      " [ 0.  1. -0.]\n",
      " [-0. -0.  1.]]\n",
      "\n",
      "Вектор s:\n",
      "[8.82 6.14 2.53]\n",
      "\n",
      "Матрица D:\n",
      "[[8.82 0.   0.  ]\n",
      " [0.   6.14 0.  ]\n",
      " [0.   0.   2.53]\n",
      " [0.   0.   0.  ]\n",
      " [0.   0.   0.  ]]\n",
      "\n",
      "Проверка SVD для матрицы А:\n",
      "[[ 1.  2. -0.]\n",
      " [-0.  0.  5.]\n",
      " [ 3. -4.  2.]\n",
      " [ 1.  6.  5.]\n",
      " [ 0.  1.  0.]]\n",
      "\n"
     ]
    }
   ],
   "source": [
    "np.set_printoptions(precision=2, suppress=True)\n",
    "\n",
    "U, s, W = np.linalg.svd(A)\n",
    "\n",
    "print(f'Матрица U:\\n{U}\\n')\n",
    "print(f'Проверка ортогональности: матрица U.T*U:\\n{np.dot(U.T, U)}\\n')\n",
    "print(f'Матрица W:\\n{W}\\n')\n",
    "print(f'Проверка ортогональности: матрица W.T*W:\\n{np.dot(W.T, W)}\\n')\n",
    "\n",
    "print(f'Вектор s:\\n{s}\\n')\n",
    "D = np.zeros_like(A, dtype=float)\n",
    "D[np.diag_indices(min(A.shape))] = s\n",
    "print(f'Матрица D:\\n{D}\\n')\n",
    "\n",
    "print(f'Проверка SVD для матрицы А:\\n{np.dot(np.dot(U, D), W)}\\n')"
   ]
  },
  {
   "cell_type": "markdown",
   "id": "93c0533c",
   "metadata": {},
   "source": [
    "2. Для матрицы из предыдущего задания найдите:\n",
    "\n",
    "    а) евклидову норму;\n",
    "    \n",
    "    б) норму Фробениуса."
   ]
  },
  {
   "cell_type": "code",
   "execution_count": 45,
   "id": "8a43acc9",
   "metadata": {},
   "outputs": [
    {
     "name": "stdout",
     "output_type": "stream",
     "text": [
      "\n",
      "а) Евклидова норма\n",
      "------------------\n",
      "\n",
      "8.824868854820 - linalg.norm с параметром 2\n",
      "8.824868854820 - наибольшее сингулярное число\n"
     ]
    }
   ],
   "source": [
    "print('\\nа) Евклидова норма')\n",
    "print('------------------\\n')\n",
    "print(f'{np.linalg.norm(A, ord=2):.12f} - linalg.norm с параметром 2')\n",
    "print(f'{max(s):.12f} - наибольшее сингулярное число')"
   ]
  },
  {
   "cell_type": "code",
   "execution_count": 46,
   "id": "7423444b",
   "metadata": {
    "scrolled": true
   },
   "outputs": [
    {
     "name": "stdout",
     "output_type": "stream",
     "text": [
      "\n",
      "б) норма Фробениуса\n",
      "-------------------\n",
      "\n",
      "11.045361017187 - linalg.norm без параметров\n",
      "11.045361017187 - linalg.norm с параметром \"fro\"\n",
      "11.045361017187 - расчёт из всех элементов\n",
      "11.045361017187 - расчёт из сингулярных чисел\n"
     ]
    }
   ],
   "source": [
    "print('\\nб) норма Фробениуса')\n",
    "print('-------------------\\n')\n",
    "print(f'{np.linalg.norm(A):.12f} - linalg.norm без параметров')\n",
    "print(f'{np.linalg.norm(A, ord=\"fro\"):.12f} - linalg.norm с параметром \"fro\"')\n",
    "\n",
    "fr = 0\n",
    "for i in range(len(A)):\n",
    "    for j in range(len(A[0])):\n",
    "        fr += A[i][j]**2\n",
    "fr = np.sqrt(fr)\n",
    "print(f'{fr:.12f} - расчёт из всех элементов')\n",
    "\n",
    "fr = 0\n",
    "for i in range(len(s)):\n",
    "    fr += s[i]**2\n",
    "fr = np.sqrt(fr)\n",
    "print(f'{fr:.12f} - расчёт из сингулярных чисел')"
   ]
  },
  {
   "cell_type": "code",
   "execution_count": null,
   "id": "4b995a27",
   "metadata": {},
   "outputs": [],
   "source": []
  }
 ],
 "metadata": {
  "kernelspec": {
   "display_name": "Python 3",
   "language": "python",
   "name": "python3"
  },
  "language_info": {
   "codemirror_mode": {
    "name": "ipython",
    "version": 3
   },
   "file_extension": ".py",
   "mimetype": "text/x-python",
   "name": "python",
   "nbconvert_exporter": "python",
   "pygments_lexer": "ipython3",
   "version": "3.8.8"
  }
 },
 "nbformat": 4,
 "nbformat_minor": 5
}
