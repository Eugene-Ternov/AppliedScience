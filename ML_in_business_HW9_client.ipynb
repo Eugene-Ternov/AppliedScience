{
 "cells": [
  {
   "cell_type": "markdown",
   "id": "39c57a3c",
   "metadata": {},
   "source": [
    "## Машинное обучение в бизнесе\n",
    "### Урок 9. Интеграция. Итоговый проект - клиентская часть для проверки REST API модели на базе Flask\n",
    "\n",
    "Реализация REST API на базе Flask\n",
    "\n",
    "1. Взять данные *data* из материала урока.\n",
    "2. В коде функции send_json(data) установить значение mysql для локального компьютера, т.к. проверка выполняется в Jupyter Notebook.\n",
    "3. Отправить код response = send_json(data) на предварительно запущенный сервер вручную; также можно, изменив данные, получить другое значение предсказания.\n",
    "4. Загрузить ранее сохранённые данные X_test, y_test и имитировать посылку множества запросов."
   ]
  },
  {
   "cell_type": "code",
   "execution_count": 1,
   "id": "77790ddf",
   "metadata": {},
   "outputs": [],
   "source": [
    "import requests\n",
    "import urllib.request\n",
    "import json "
   ]
  },
  {
   "cell_type": "code",
   "execution_count": 28,
   "id": "780c5519",
   "metadata": {},
   "outputs": [],
   "source": [
    "# Пример данных\n",
    "data = ( \n",
    "    \"Stylect is a dynamic startup that helps helps women discover and buy shoes. We’re a small team based in London that has previously worked at Google, Techstars, Pixelmator and Rocket Internet.We place a high premium on simplicity no matter what we’re working on (i.e. design, programming, marketing). We’re also a team that ships fast. We built version 1 of our app in a week, the next release (built in a month) was featured in the Apple Appstore Italy as a best new fashion app. Fast release cycles are challenging, but also very fun - which is why we love them.\\xa0As we’ve grown, the projects that we’re working on have grown both in scale and in technical complexity. \\xa0Stylect is looking for someone who can help us improve our backend which gathers product data; analyses/categorizes it; and shows it to thousands of users daily. Each step in the process has unique challenges that demands a strong technical background.\",\n",
    "    \"ustwo offers you the opportunity to be yourself, whilst delivering the best work on the planet for some of the biggest and most innovative brands. A culture thriving on collaboration underpins what is an amazing work smart/ live well environment.We genuinely care about the work that we deliver and the people who help make it all possible. We only invest in projects, people and practices that we believe in, to ensure we remain excited about every opportunity.\",\n",
    "    \"We are negotiable on salary and there is the potential for equity for the right candidate.\"\n",
    ")"
   ]
  },
  {
   "cell_type": "markdown",
   "id": "563cbed6",
   "metadata": {},
   "source": [
    "**Ручной единичный запрос к серверу**"
   ]
  },
  {
   "cell_type": "code",
   "execution_count": 29,
   "id": "f2ea3802",
   "metadata": {},
   "outputs": [],
   "source": [
    "# формируем запрос\n",
    "def send_json(x):\n",
    "    description, company_profile, benefits = x\n",
    "    #print(description, company_profile, benefits)\n",
    "    body = {\n",
    "        'description': description, \n",
    "        'company_profile': company_profile,\n",
    "        'benefits': benefits\n",
    "        }\n",
    "    #myurl = 'http://948a-35-230-58-89.ngrok.io/' + '/predict'\n",
    "    myurl = 'http://127.0.0.1:5000/' + '/predict'\n",
    "    headers = {'content-type': 'application/json; charset=utf-8'}\n",
    "    response = requests.post(myurl, json=body, headers=headers)\n",
    "    return response.json()['predictions']"
   ]
  },
  {
   "cell_type": "code",
   "execution_count": 30,
   "id": "d0855a60",
   "metadata": {},
   "outputs": [
    {
     "name": "stdout",
     "output_type": "stream",
     "text": [
      "предсказание 0.0011293598194111265\n"
     ]
    }
   ],
   "source": [
    "# обращение к серверу с запросом из одного набора (его построили руками выше - data)\n",
    "response = send_json(data)\n",
    "print('предсказание', response)"
   ]
  },
  {
   "cell_type": "markdown",
   "id": "0b1c2d7f",
   "metadata": {},
   "source": [
    "### Проверка обработки множества запросов\n",
    "\n",
    "1. Загрузить данные X_test, y_test и заполнить пустые значения X_test нулевыми строками"
   ]
  },
  {
   "cell_type": "code",
   "execution_count": 31,
   "id": "e9b76ada",
   "metadata": {},
   "outputs": [],
   "source": [
    "import pandas as pd\n",
    "from sklearn.metrics import roc_auc_score, roc_curve, precision_recall_curve\n",
    "from sklearn.metrics import f1_score\n",
    "from urllib import request, parse"
   ]
  },
  {
   "cell_type": "code",
   "execution_count": 33,
   "id": "0b7f9db3",
   "metadata": {},
   "outputs": [],
   "source": [
    "X_test = pd.read_csv(\"X_test.csv\")\n",
    "y_test = pd.read_csv(\"y_test.csv\")"
   ]
  },
  {
   "cell_type": "code",
   "execution_count": 34,
   "id": "2a9720eb",
   "metadata": {},
   "outputs": [
    {
     "name": "stdout",
     "output_type": "stream",
     "text": [
      "<class 'pandas.core.frame.DataFrame'>\n",
      "RangeIndex: 5901 entries, 0 to 5900\n",
      "Data columns (total 18 columns):\n",
      " #   Column               Non-Null Count  Dtype \n",
      "---  ------               --------------  ----- \n",
      " 0   job_id               5901 non-null   int64 \n",
      " 1   title                5901 non-null   object\n",
      " 2   location             5800 non-null   object\n",
      " 3   department           2078 non-null   object\n",
      " 4   salary_range         954 non-null    object\n",
      " 5   company_profile      4742 non-null   object\n",
      " 6   description          5900 non-null   object\n",
      " 7   requirements         5011 non-null   object\n",
      " 8   benefits             3522 non-null   object\n",
      " 9   telecommuting        5901 non-null   int64 \n",
      " 10  has_company_logo     5901 non-null   int64 \n",
      " 11  has_questions        5901 non-null   int64 \n",
      " 12  employment_type      4759 non-null   object\n",
      " 13  required_experience  3556 non-null   object\n",
      " 14  required_education   3230 non-null   object\n",
      " 15  industry             4262 non-null   object\n",
      " 16  function             3748 non-null   object\n",
      " 17  fraudulent           5901 non-null   int64 \n",
      "dtypes: int64(5), object(13)\n",
      "memory usage: 830.0+ KB\n"
     ]
    }
   ],
   "source": [
    "X_test.info()"
   ]
  },
  {
   "cell_type": "code",
   "execution_count": 35,
   "id": "1d788d29",
   "metadata": {},
   "outputs": [
    {
     "name": "stdout",
     "output_type": "stream",
     "text": [
      "<class 'pandas.core.frame.DataFrame'>\n",
      "RangeIndex: 5901 entries, 0 to 5900\n",
      "Data columns (total 1 columns):\n",
      " #   Column      Non-Null Count  Dtype\n",
      "---  ------      --------------  -----\n",
      " 0   fraudulent  5901 non-null   int64\n",
      "dtypes: int64(1)\n",
      "memory usage: 46.2 KB\n"
     ]
    }
   ],
   "source": [
    "y_test.info()"
   ]
  },
  {
   "cell_type": "code",
   "execution_count": 36,
   "id": "dd9a305c",
   "metadata": {},
   "outputs": [],
   "source": [
    "X_test.fillna('', inplace=True)   # Заполнение пустот нулевыми строками"
   ]
  },
  {
   "cell_type": "code",
   "execution_count": 37,
   "id": "2cedfa22",
   "metadata": {},
   "outputs": [
    {
     "name": "stdout",
     "output_type": "stream",
     "text": [
      "<class 'pandas.core.frame.DataFrame'>\n",
      "RangeIndex: 5901 entries, 0 to 5900\n",
      "Data columns (total 18 columns):\n",
      " #   Column               Non-Null Count  Dtype \n",
      "---  ------               --------------  ----- \n",
      " 0   job_id               5901 non-null   int64 \n",
      " 1   title                5901 non-null   object\n",
      " 2   location             5901 non-null   object\n",
      " 3   department           5901 non-null   object\n",
      " 4   salary_range         5901 non-null   object\n",
      " 5   company_profile      5901 non-null   object\n",
      " 6   description          5901 non-null   object\n",
      " 7   requirements         5901 non-null   object\n",
      " 8   benefits             5901 non-null   object\n",
      " 9   telecommuting        5901 non-null   int64 \n",
      " 10  has_company_logo     5901 non-null   int64 \n",
      " 11  has_questions        5901 non-null   int64 \n",
      " 12  employment_type      5901 non-null   object\n",
      " 13  required_experience  5901 non-null   object\n",
      " 14  required_education   5901 non-null   object\n",
      " 15  industry             5901 non-null   object\n",
      " 16  function             5901 non-null   object\n",
      " 17  fraudulent           5901 non-null   int64 \n",
      "dtypes: int64(5), object(13)\n",
      "memory usage: 830.0+ KB\n"
     ]
    }
   ],
   "source": [
    "X_test.info()"
   ]
  },
  {
   "cell_type": "code",
   "execution_count": 38,
   "id": "4c9d0296",
   "metadata": {},
   "outputs": [
    {
     "data": {
      "text/html": [
       "<div>\n",
       "<style scoped>\n",
       "    .dataframe tbody tr th:only-of-type {\n",
       "        vertical-align: middle;\n",
       "    }\n",
       "\n",
       "    .dataframe tbody tr th {\n",
       "        vertical-align: top;\n",
       "    }\n",
       "\n",
       "    .dataframe thead th {\n",
       "        text-align: right;\n",
       "    }\n",
       "</style>\n",
       "<table border=\"1\" class=\"dataframe\">\n",
       "  <thead>\n",
       "    <tr style=\"text-align: right;\">\n",
       "      <th></th>\n",
       "      <th>description</th>\n",
       "      <th>company_profile</th>\n",
       "      <th>benefits</th>\n",
       "    </tr>\n",
       "  </thead>\n",
       "  <tbody>\n",
       "    <tr>\n",
       "      <th>0</th>\n",
       "      <td>Stylect is a dynamic startup that helps helps ...</td>\n",
       "      <td></td>\n",
       "      <td>We are negotiable on salary and there is the p...</td>\n",
       "    </tr>\n",
       "    <tr>\n",
       "      <th>1</th>\n",
       "      <td>General Summary: Achieves maximum sales profit...</td>\n",
       "      <td></td>\n",
       "      <td>Great Health and DentalFast Advancement Opport...</td>\n",
       "    </tr>\n",
       "    <tr>\n",
       "      <th>2</th>\n",
       "      <td>At ustwo™ you get to be yourself, whilst deliv...</td>\n",
       "      <td>ustwo offers you the opportunity to be yoursel...</td>\n",
       "      <td></td>\n",
       "    </tr>\n",
       "    <tr>\n",
       "      <th>3</th>\n",
       "      <td>About EDITDEDITD runs the world's biggest appa...</td>\n",
       "      <td>We build software for fashion retailers, to he...</td>\n",
       "      <td></td>\n",
       "    </tr>\n",
       "    <tr>\n",
       "      <th>4</th>\n",
       "      <td>As a Web Engineer at Runscope you'll be respon...</td>\n",
       "      <td>Runscope is building tools for developers work...</td>\n",
       "      <td>Be a part of an experienced team who have work...</td>\n",
       "    </tr>\n",
       "    <tr>\n",
       "      <th>...</th>\n",
       "      <td>...</td>\n",
       "      <td>...</td>\n",
       "      <td>...</td>\n",
       "    </tr>\n",
       "    <tr>\n",
       "      <th>5896</th>\n",
       "      <td>Fabrication and Printing Company in Long Islan...</td>\n",
       "      <td></td>\n",
       "      <td>Excellent opportunity to learn exci...</td>\n",
       "    </tr>\n",
       "    <tr>\n",
       "      <th>5897</th>\n",
       "      <td>Serve as the primary lead and project manager ...</td>\n",
       "      <td>Palerra, Inc. designed LORIC™ to protect an en...</td>\n",
       "      <td>What's In It For You?Competitive compensation ...</td>\n",
       "    </tr>\n",
       "    <tr>\n",
       "      <th>5898</th>\n",
       "      <td>Jiffy, a world wide leader in mobile applicati...</td>\n",
       "      <td>Jiffy Worldwide is the parent company of the J...</td>\n",
       "      <td></td>\n",
       "    </tr>\n",
       "    <tr>\n",
       "      <th>5899</th>\n",
       "      <td>What our client needs…A Medical Director who i...</td>\n",
       "      <td>Human capital is usually the biggest asset and...</td>\n",
       "      <td></td>\n",
       "    </tr>\n",
       "    <tr>\n",
       "      <th>5900</th>\n",
       "      <td>We seek a Paris-based Back-end Developer with ...</td>\n",
       "      <td>AREA 17 is an interactive agency. We take an i...</td>\n",
       "      <td>MutuelleTransportation Stipend25 vacation days...</td>\n",
       "    </tr>\n",
       "  </tbody>\n",
       "</table>\n",
       "<p>5901 rows × 3 columns</p>\n",
       "</div>"
      ],
      "text/plain": [
       "                                            description  \\\n",
       "0     Stylect is a dynamic startup that helps helps ...   \n",
       "1     General Summary: Achieves maximum sales profit...   \n",
       "2     At ustwo™ you get to be yourself, whilst deliv...   \n",
       "3     About EDITDEDITD runs the world's biggest appa...   \n",
       "4     As a Web Engineer at Runscope you'll be respon...   \n",
       "...                                                 ...   \n",
       "5896  Fabrication and Printing Company in Long Islan...   \n",
       "5897  Serve as the primary lead and project manager ...   \n",
       "5898  Jiffy, a world wide leader in mobile applicati...   \n",
       "5899  What our client needs…A Medical Director who i...   \n",
       "5900  We seek a Paris-based Back-end Developer with ...   \n",
       "\n",
       "                                        company_profile  \\\n",
       "0                                                         \n",
       "1                                                         \n",
       "2     ustwo offers you the opportunity to be yoursel...   \n",
       "3     We build software for fashion retailers, to he...   \n",
       "4     Runscope is building tools for developers work...   \n",
       "...                                                 ...   \n",
       "5896                                                      \n",
       "5897  Palerra, Inc. designed LORIC™ to protect an en...   \n",
       "5898  Jiffy Worldwide is the parent company of the J...   \n",
       "5899  Human capital is usually the biggest asset and...   \n",
       "5900  AREA 17 is an interactive agency. We take an i...   \n",
       "\n",
       "                                               benefits  \n",
       "0     We are negotiable on salary and there is the p...  \n",
       "1     Great Health and DentalFast Advancement Opport...  \n",
       "2                                                        \n",
       "3                                                        \n",
       "4     Be a part of an experienced team who have work...  \n",
       "...                                                 ...  \n",
       "5896             Excellent opportunity to learn exci...  \n",
       "5897  What's In It For You?Competitive compensation ...  \n",
       "5898                                                     \n",
       "5899                                                     \n",
       "5900  MutuelleTransportation Stipend25 vacation days...  \n",
       "\n",
       "[5901 rows x 3 columns]"
      ]
     },
     "execution_count": 38,
     "metadata": {},
     "output_type": "execute_result"
    }
   ],
   "source": [
    "X_test[['description', 'company_profile', 'benefits']]"
   ]
  },
  {
   "cell_type": "markdown",
   "id": "4d6d309e",
   "metadata": {},
   "source": [
    "2. Одиночный запрос к серверу с применением данных X_test"
   ]
  },
  {
   "cell_type": "code",
   "execution_count": 39,
   "id": "1a05a5cf",
   "metadata": {},
   "outputs": [
    {
     "name": "stdout",
     "output_type": "stream",
     "text": [
      "предсказание 0.026022025069640166\n"
     ]
    }
   ],
   "source": [
    "response = send_json(X_test[['description', 'company_profile', 'benefits']].iloc[0,:])\n",
    "print('предсказание', response)"
   ]
  },
  {
   "cell_type": "markdown",
   "id": "5839dda8",
   "metadata": {},
   "source": [
    "3. Множественный запрос к серверу с оценкой времени выполнения *N* запросов"
   ]
  },
  {
   "cell_type": "code",
   "execution_count": 48,
   "id": "4bce2915",
   "metadata": {},
   "outputs": [],
   "source": [
    "N = 150"
   ]
  },
  {
   "cell_type": "code",
   "execution_count": 49,
   "id": "522ef100",
   "metadata": {},
   "outputs": [
    {
     "name": "stdout",
     "output_type": "stream",
     "text": [
      "Wall time: 10.4 s\n"
     ]
    }
   ],
   "source": [
    "%%time\n",
    "predictions = X_test[\n",
    "                     ['description', 'company_profile', 'benefits']\n",
    "                     ].iloc[:N].apply(lambda x: send_json(x), axis=1)"
   ]
  },
  {
   "cell_type": "code",
   "execution_count": 50,
   "id": "10a362d3",
   "metadata": {},
   "outputs": [
    {
     "name": "stdout",
     "output_type": "stream",
     "text": [
      "(150,)\n"
     ]
    },
    {
     "data": {
      "text/plain": [
       "array([0.02602203, 0.04317015, 0.00370601, 0.00112958, 0.00151454,\n",
       "       0.00213981, 0.00256837, 0.00373913, 0.00069803, 0.0122069 ])"
      ]
     },
     "execution_count": 50,
     "metadata": {},
     "output_type": "execute_result"
    }
   ],
   "source": [
    "print(predictions.shape)\n",
    "predictions.values[:10]"
   ]
  },
  {
   "cell_type": "markdown",
   "id": "ccddc1ed",
   "metadata": {},
   "source": [
    "4. Оценка метрики"
   ]
  },
  {
   "cell_type": "code",
   "execution_count": 51,
   "id": "36e5db57",
   "metadata": {},
   "outputs": [],
   "source": [
    "import numpy as np"
   ]
  },
  {
   "cell_type": "code",
   "execution_count": 52,
   "id": "3ebae79e",
   "metadata": {},
   "outputs": [
    {
     "name": "stdout",
     "output_type": "stream",
     "text": [
      "Best Threshold = 0.7333309720872493, F-Score = 0.667, Precision = 1.000, Recall = 0.500\n"
     ]
    }
   ],
   "source": [
    "precision, recall, thresholds = precision_recall_curve(y_test[:N], predictions)\n",
    "\n",
    "fscore = (2 * precision * recall) / (precision + recall)\n",
    "# locate the index of the largest f score\n",
    "ix = np.argmax(fscore)\n",
    "print(f'Best Threshold = {thresholds[ix]}, F-Score = {fscore[ix]:.3f}, Precision = {precision[ix]:.3f}, Recall = {recall[ix]:.3f}')"
   ]
  },
  {
   "cell_type": "code",
   "execution_count": 53,
   "id": "15301c1a",
   "metadata": {},
   "outputs": [
    {
     "data": {
      "text/plain": [
       "0.9606481481481481"
      ]
     },
     "execution_count": 53,
     "metadata": {},
     "output_type": "execute_result"
    }
   ],
   "source": [
    "roc_auc_score(y_score=predictions.values, y_true=y_test.values[:N])"
   ]
  },
  {
   "cell_type": "markdown",
   "id": "b527b048",
   "metadata": {},
   "source": [
    "### Вывод: \n",
    "Работоспособность достигнута, свойства Flask воспроизведены по материалам урока. В целом в реализации сервера и клиента прослеживается подход событийно-ориентированного программирования из IDE Borland Delphi или MS visual Basic. Налицо общность развёртывания десктопного приложения и модели, использующей богатство возможностей внешнего системного окружения. \"Круг замкнулся\" (c). Вероятно, технически возможо определить автоматически, где запускается блокнот - в Collab или Jupyter Notebook и соответствующими образом запускать специфические для каждой из сред фрагменты кода"
   ]
  }
 ],
 "metadata": {
  "kernelspec": {
   "display_name": "Python 3",
   "language": "python",
   "name": "python3"
  },
  "language_info": {
   "codemirror_mode": {
    "name": "ipython",
    "version": 3
   },
   "file_extension": ".py",
   "mimetype": "text/x-python",
   "name": "python",
   "nbconvert_exporter": "python",
   "pygments_lexer": "ipython3",
   "version": "3.8.8"
  }
 },
 "nbformat": 4,
 "nbformat_minor": 5
}
